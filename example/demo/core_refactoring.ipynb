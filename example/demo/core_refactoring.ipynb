{
 "cells": [
  {
   "cell_type": "code",
   "execution_count": 1,
   "id": "c511f3e5",
   "metadata": {},
   "outputs": [],
   "source": [
    "from QuICT.core import Qubit, Qureg\n",
    "from QuICT.core import Circuit\n",
    "from QuICT.core.gate import *"
   ]
  },
  {
   "cell_type": "markdown",
   "id": "774d130f",
   "metadata": {},
   "source": [
    "# Qubit & Qureg"
   ]
  },
  {
   "cell_type": "code",
   "execution_count": 2,
   "id": "6f5d978d",
   "metadata": {},
   "outputs": [
    {
     "name": "stdout",
     "output_type": "stream",
     "text": [
      "3d2d3f527dbb11ecbf3275234c6a821e\n",
      "None\n"
     ]
    }
   ],
   "source": [
    "q1 = Qubit()\n",
    "q2 = Qubit()\n",
    "\n",
    "print(q1.id)\n",
    "print(q2.measured)"
   ]
  },
  {
   "cell_type": "code",
   "execution_count": 3,
   "id": "7281e6ba",
   "metadata": {},
   "outputs": [
    {
     "name": "stdout",
     "output_type": "stream",
     "text": [
      "5, 2, 1\n"
     ]
    }
   ],
   "source": [
    "qr_int = Qureg(5)\n",
    "qr_list = Qureg([q1, q2])\n",
    "qr_qubit = Qureg(q1)\n",
    "\n",
    "print(f\"{len(qr_int)}, {len(qr_list)}, {len(qr_qubit)}\")"
   ]
  },
  {
   "cell_type": "code",
   "execution_count": 4,
   "id": "562b5b4d",
   "metadata": {},
   "outputs": [
    {
     "data": {
      "text/plain": [
       "1"
      ]
     },
     "execution_count": 4,
     "metadata": {},
     "output_type": "execute_result"
    }
   ],
   "source": [
    "q1.measured = 0\n",
    "q2.measured = 1\n",
    "\n",
    "int(qr_list)"
   ]
  },
  {
   "cell_type": "code",
   "execution_count": 5,
   "id": "9b9b7cc9",
   "metadata": {
    "scrolled": true
   },
   "outputs": [
    {
     "name": "stdout",
     "output_type": "stream",
     "text": [
      "True\n",
      "3\n",
      "3\n",
      "3\n"
     ]
    }
   ],
   "source": [
    "# qureg call\n",
    "print(qr_list(0) == qr_qubit)\n",
    "print(len(qr_int([1,2,4])))\n",
    "\n",
    "# qureg getitem\n",
    "print(len(qr_int[1:4]))\n",
    "print(len(qr_int[1,3,4]))"
   ]
  },
  {
   "cell_type": "markdown",
   "id": "7ded3fca",
   "metadata": {},
   "source": [
    "# Gate and Composite Gate"
   ]
  },
  {
   "cell_type": "code",
   "execution_count": 6,
   "id": "513a3a2e",
   "metadata": {},
   "outputs": [
    {
     "name": "stdout",
     "output_type": "stream",
     "text": [
      "{'name': 'GateType.u2--', 'controls': 0, 'control_bit': [], 'targets': 1, 'target_bit': [], 'parameters': [1, 0]}\n",
      "{'name': 'GateType.h--', 'controls': 0, 'control_bit': [], 'targets': 1, 'target_bit': [], 'parameters': []}\n",
      "{'name': 'GateType.cx--', 'controls': 1, 'control_bit': [1], 'targets': 1, 'target_bit': [3], 'parameters': []}\n"
     ]
    }
   ],
   "source": [
    "print(U2(1, 0))\n",
    "print(H)\n",
    "print(CX & [1,3])"
   ]
  },
  {
   "cell_type": "code",
   "execution_count": 7,
   "id": "fca0f3f7",
   "metadata": {},
   "outputs": [
    {
     "name": "stdout",
     "output_type": "stream",
     "text": [
      "True\n",
      "True\n",
      "True\n"
     ]
    }
   ],
   "source": [
    "print(H.is_single())\n",
    "print(S.is_diagonal())\n",
    "print(Reset.is_special())"
   ]
  },
  {
   "cell_type": "code",
   "execution_count": 8,
   "id": "05ba75c8",
   "metadata": {},
   "outputs": [
    {
     "name": "stdout",
     "output_type": "stream",
     "text": [
      "OPENQASM 2.0;\n",
      "include \"qelib1.inc\";\n",
      "qreg q[5];\n",
      "creg c[0];\n",
      "h q[0];\n",
      "cx q[1], q[2];\n",
      "h q[0];\n",
      "crz(1.5707963267948966) q[3], q[0];\n",
      "crz(0.7853981633974483) q[4], q[0];\n",
      "h q[3];\n",
      "crz(1.5707963267948966) q[4], q[3];\n",
      "h q[4];\n",
      "h q[4];\n",
      "\n"
     ]
    }
   ],
   "source": [
    "cgate = CompositeGate()\n",
    "H | cgate(0)\n",
    "CX | cgate([1, 2])\n",
    "QFT.build_gate(3) | cgate([0, 3, 4])\n",
    "H | cgate(4)\n",
    "\n",
    "print(cgate.qasm())"
   ]
  },
  {
   "cell_type": "code",
   "execution_count": 9,
   "id": "c723f882",
   "metadata": {},
   "outputs": [
    {
     "name": "stdout",
     "output_type": "stream",
     "text": [
      "5\n"
     ]
    }
   ],
   "source": [
    "print(cgate.width())"
   ]
  },
  {
   "cell_type": "code",
   "execution_count": 10,
   "id": "21ae84e9",
   "metadata": {},
   "outputs": [
    {
     "name": "stdout",
     "output_type": "stream",
     "text": [
      "OPENQASM 2.0;\n",
      "include \"qelib1.inc\";\n",
      "qreg q[5];\n",
      "creg c[0];\n",
      "h q[4];\n",
      "cx q[3], q[2];\n",
      "h q[4];\n",
      "crz(1.5707963267948966) q[1], q[4];\n",
      "crz(0.7853981633974483) q[0], q[4];\n",
      "h q[1];\n",
      "crz(1.5707963267948966) q[0], q[1];\n",
      "h q[0];\n",
      "h q[0];\n",
      "\n"
     ]
    }
   ],
   "source": [
    "cgate & [4,3,2,1,0]\n",
    "print(cgate.qasm())"
   ]
  },
  {
   "cell_type": "code",
   "execution_count": 11,
   "id": "10fdc6fc",
   "metadata": {},
   "outputs": [
    {
     "name": "stdout",
     "output_type": "stream",
     "text": [
      "{'width': 5, 'size': 9, 'depth': 7, '1-qubit gates': 5, '2-qubit gates': 4, 'gates detail': {'GateType.h-3d6846-': \"{'name': 'GateType.h-3d6846-', 'controls': 0, 'control_bit': [], 'targets': 1, 'target_bit': [4], 'parameters': []}\", 'GateType.cx-3d6844-': \"{'name': 'GateType.cx-3d6844-', 'controls': 1, 'control_bit': [3], 'targets': 1, 'target_bit': [2], 'parameters': []}\", 'GateType.crz-3d6842-': \"{'name': 'GateType.crz-3d6842-', 'controls': 1, 'control_bit': [1], 'targets': 1, 'target_bit': [4], 'parameters': [1.5707963267948966]}\", 'GateType.crz-3d6840-': \"{'name': 'GateType.crz-3d6840-', 'controls': 1, 'control_bit': [0], 'targets': 1, 'target_bit': [1], 'parameters': [1.5707963267948966]}\", 'GateType.h-3d6842-': \"{'name': 'GateType.h-3d6842-', 'controls': 0, 'control_bit': [], 'targets': 1, 'target_bit': [1], 'parameters': []}\", 'GateType.h-3d6840-': \"{'name': 'GateType.h-3d6840-', 'controls': 0, 'control_bit': [], 'targets': 1, 'target_bit': [0], 'parameters': []}\"}}\n"
     ]
    }
   ],
   "source": [
    "cgate & qr_int\n",
    "print(cgate)"
   ]
  },
  {
   "cell_type": "code",
   "execution_count": 12,
   "id": "98a3f80d",
   "metadata": {},
   "outputs": [
    {
     "name": "stdout",
     "output_type": "stream",
     "text": [
      "OPENQASM 2.0;\n",
      "include \"qelib1.inc\";\n",
      "qreg q[4];\n",
      "creg c[0];\n",
      "h q[1];\n",
      "cx q[0], q[3];\n",
      "tdg q[1];\n",
      "cx q[0], q[1];\n",
      "t q[1];\n",
      "cx q[0], q[2];\n",
      "tdg q[2];\n",
      "cx q[0], q[2];\n",
      "t q[0];\n",
      "t q[2];\n",
      "h q[2];\n",
      "\n"
     ]
    }
   ],
   "source": [
    "with CompositeGate(5) as ctx_cgate:\n",
    "    H & 1\n",
    "    CX & [0, 3]\n",
    "    T_dagger & 1\n",
    "    CX & [0, 1]\n",
    "    T & 1\n",
    "    CX & [0, 2]\n",
    "    T_dagger & 2\n",
    "    CX & [0, 2]\n",
    "    T & 0\n",
    "    T & 2\n",
    "    H & 2\n",
    "\n",
    "print(ctx_cgate.qasm())"
   ]
  },
  {
   "cell_type": "code",
   "execution_count": 13,
   "id": "cd9ca60e",
   "metadata": {},
   "outputs": [
    {
     "name": "stdout",
     "output_type": "stream",
     "text": [
      "[[ 0.5       +0.j          0.        +0.j          0.5       +0.j\n",
      "   0.        +0.j          0.5       +0.j          0.        +0.j\n",
      "   0.5       +0.j          0.        +0.j          0.        +0.j\n",
      "   0.        +0.j          0.        +0.j          0.        +0.j\n",
      "   0.        +0.j          0.        +0.j          0.        +0.j\n",
      "   0.        +0.j        ]\n",
      " [ 0.        +0.j          0.5       +0.j          0.        +0.j\n",
      "   0.5       +0.j          0.        +0.j          0.5       +0.j\n",
      "   0.        +0.j          0.5       +0.j          0.        +0.j\n",
      "   0.        +0.j          0.        +0.j          0.        +0.j\n",
      "   0.        +0.j          0.        +0.j          0.        +0.j\n",
      "   0.        +0.j        ]\n",
      " [ 0.5       +0.j          0.        +0.j         -0.5       +0.j\n",
      "   0.        +0.j          0.5       +0.j          0.        +0.j\n",
      "  -0.5       +0.j          0.        +0.j          0.        +0.j\n",
      "   0.        +0.j          0.        +0.j          0.        +0.j\n",
      "   0.        +0.j          0.        +0.j          0.        +0.j\n",
      "   0.        +0.j        ]\n",
      " [ 0.        +0.j          0.5       +0.j          0.        +0.j\n",
      "  -0.5       +0.j          0.        +0.j          0.5       +0.j\n",
      "   0.        +0.j         -0.5       +0.j          0.        +0.j\n",
      "   0.        +0.j          0.        +0.j          0.        +0.j\n",
      "   0.        +0.j          0.        +0.j          0.        +0.j\n",
      "   0.        +0.j        ]\n",
      " [ 0.5       +0.j          0.        +0.j          0.5       +0.j\n",
      "   0.        +0.j         -0.5       +0.j          0.        +0.j\n",
      "  -0.5       +0.j          0.        +0.j          0.        +0.j\n",
      "   0.        +0.j          0.        +0.j          0.        +0.j\n",
      "   0.        +0.j          0.        +0.j          0.        +0.j\n",
      "   0.        +0.j        ]\n",
      " [ 0.        +0.j          0.5       +0.j          0.        +0.j\n",
      "   0.5       +0.j          0.        +0.j         -0.5       +0.j\n",
      "   0.        +0.j         -0.5       +0.j          0.        +0.j\n",
      "   0.        +0.j          0.        +0.j          0.        +0.j\n",
      "   0.        +0.j          0.        +0.j          0.        +0.j\n",
      "   0.        +0.j        ]\n",
      " [ 0.5       +0.j          0.        +0.j         -0.5       +0.j\n",
      "   0.        +0.j         -0.5       +0.j          0.        +0.j\n",
      "   0.5       +0.j          0.        +0.j          0.        +0.j\n",
      "   0.        +0.j          0.        +0.j          0.        +0.j\n",
      "   0.        +0.j          0.        +0.j          0.        +0.j\n",
      "   0.        +0.j        ]\n",
      " [ 0.        +0.j          0.5       +0.j          0.        +0.j\n",
      "  -0.5       +0.j          0.        +0.j         -0.5       +0.j\n",
      "   0.        +0.j          0.5       +0.j          0.        +0.j\n",
      "   0.        +0.j          0.        +0.j          0.        +0.j\n",
      "   0.        +0.j          0.        +0.j          0.        +0.j\n",
      "   0.        +0.j        ]\n",
      " [ 0.        +0.j          0.        +0.j          0.        +0.j\n",
      "   0.        +0.j          0.        +0.j          0.        +0.j\n",
      "   0.        +0.j          0.        +0.j          0.        +0.j\n",
      "   0.35355339-0.35355339j  0.        +0.j          0.35355339+0.35355339j\n",
      "   0.        +0.j         -0.35355339+0.35355339j  0.        +0.j\n",
      "  -0.35355339-0.35355339j]\n",
      " [ 0.        +0.j          0.        +0.j          0.        +0.j\n",
      "   0.        +0.j          0.        +0.j          0.        +0.j\n",
      "   0.        +0.j          0.        +0.j          0.35355339-0.35355339j\n",
      "   0.        +0.j          0.35355339+0.35355339j  0.        +0.j\n",
      "  -0.35355339+0.35355339j  0.        +0.j         -0.35355339-0.35355339j\n",
      "   0.        +0.j        ]\n",
      " [ 0.        +0.j          0.        +0.j          0.        +0.j\n",
      "   0.        +0.j          0.        +0.j          0.        +0.j\n",
      "   0.        +0.j          0.        +0.j          0.        +0.j\n",
      "   0.35355339-0.35355339j  0.        +0.j         -0.35355339-0.35355339j\n",
      "   0.        +0.j         -0.35355339+0.35355339j  0.        +0.j\n",
      "   0.35355339+0.35355339j]\n",
      " [ 0.        +0.j          0.        +0.j          0.        +0.j\n",
      "   0.        +0.j          0.        +0.j          0.        +0.j\n",
      "   0.        +0.j          0.        +0.j          0.35355339-0.35355339j\n",
      "   0.        +0.j         -0.35355339-0.35355339j  0.        +0.j\n",
      "  -0.35355339+0.35355339j  0.        +0.j          0.35355339+0.35355339j\n",
      "   0.        +0.j        ]\n",
      " [ 0.        +0.j          0.        +0.j          0.        +0.j\n",
      "   0.        +0.j          0.        +0.j          0.        +0.j\n",
      "   0.        +0.j          0.        +0.j          0.        +0.j\n",
      "   0.35355339+0.35355339j  0.        +0.j         -0.35355339+0.35355339j\n",
      "   0.        +0.j          0.35355339+0.35355339j  0.        +0.j\n",
      "  -0.35355339+0.35355339j]\n",
      " [ 0.        +0.j          0.        +0.j          0.        +0.j\n",
      "   0.        +0.j          0.        +0.j          0.        +0.j\n",
      "   0.        +0.j          0.        +0.j          0.35355339+0.35355339j\n",
      "   0.        +0.j         -0.35355339+0.35355339j  0.        +0.j\n",
      "   0.35355339+0.35355339j  0.        +0.j         -0.35355339+0.35355339j\n",
      "   0.        +0.j        ]\n",
      " [ 0.        +0.j          0.        +0.j          0.        +0.j\n",
      "   0.        +0.j          0.        +0.j          0.        +0.j\n",
      "   0.        +0.j          0.        +0.j          0.        +0.j\n",
      "   0.35355339+0.35355339j  0.        +0.j          0.35355339-0.35355339j\n",
      "   0.        +0.j          0.35355339+0.35355339j  0.        +0.j\n",
      "   0.35355339-0.35355339j]\n",
      " [ 0.        +0.j          0.        +0.j          0.        +0.j\n",
      "   0.        +0.j          0.        +0.j          0.        +0.j\n",
      "   0.        +0.j          0.        +0.j          0.35355339+0.35355339j\n",
      "   0.        +0.j          0.35355339-0.35355339j  0.        +0.j\n",
      "   0.35355339+0.35355339j  0.        +0.j          0.35355339-0.35355339j\n",
      "   0.        +0.j        ]]\n"
     ]
    }
   ],
   "source": [
    "print(ctx_cgate.matrix())"
   ]
  },
  {
   "cell_type": "markdown",
   "id": "3ab23b9e",
   "metadata": {},
   "source": [
    "# Circuit"
   ]
  },
  {
   "cell_type": "code",
   "execution_count": 14,
   "id": "f8fab14b",
   "metadata": {},
   "outputs": [],
   "source": [
    "from QuICT.core import *\n",
    "\n",
    "cir_int = Circuit(10)\n",
    "cir_list = Circuit([q1, q2])\n",
    "cir_qr = Circuit(qr_list)\n",
    "cir_qb = Circuit(q1)"
   ]
  },
  {
   "cell_type": "code",
   "execution_count": 15,
   "id": "1b74cb9b",
   "metadata": {},
   "outputs": [
    {
     "name": "stdout",
     "output_type": "stream",
     "text": [
      "OPENQASM 2.0;\n",
      "include \"qelib1.inc\";\n",
      "qreg q[10];\n",
      "creg c[10];\n",
      "h q[1];\n",
      "cx q[1], q[2];\n",
      "u1(1) q[1];\n",
      "u2(0, 1) q[2];\n",
      "measure q[0] -> c[0];\n",
      "measure q[1] -> c[1];\n",
      "measure q[2] -> c[2];\n",
      "measure q[3] -> c[3];\n",
      "measure q[4] -> c[4];\n",
      "measure q[5] -> c[5];\n",
      "measure q[6] -> c[6];\n",
      "measure q[7] -> c[7];\n",
      "measure q[8] -> c[8];\n",
      "measure q[9] -> c[9];\n",
      "\n"
     ]
    }
   ],
   "source": [
    "H | cir_int(1)\n",
    "CX | cir_int([1, 2])\n",
    "U1(1) | cir_int(1)\n",
    "U2(0, 1) & 2 | cir_int\n",
    "Measure | cir_int\n",
    "\n",
    "print(cir_int.qasm())"
   ]
  },
  {
   "cell_type": "code",
   "execution_count": 16,
   "id": "a39626df",
   "metadata": {},
   "outputs": [],
   "source": [
    "ctx_cgate | cir_int([1,3,5,7,9])"
   ]
  },
  {
   "cell_type": "code",
   "execution_count": 17,
   "id": "1a87d131",
   "metadata": {},
   "outputs": [
    {
     "name": "stdout",
     "output_type": "stream",
     "text": [
      "OPENQASM 2.0;\n",
      "include \"qelib1.inc\";\n",
      "qreg q[10];\n",
      "creg c[10];\n",
      "h q[1];\n",
      "cx q[1], q[2];\n",
      "u1(1) q[1];\n",
      "u2(0, 1) q[2];\n",
      "measure q[0] -> c[0];\n",
      "measure q[1] -> c[1];\n",
      "measure q[2] -> c[2];\n",
      "measure q[3] -> c[3];\n",
      "measure q[4] -> c[4];\n",
      "measure q[5] -> c[5];\n",
      "measure q[6] -> c[6];\n",
      "measure q[7] -> c[7];\n",
      "measure q[8] -> c[8];\n",
      "measure q[9] -> c[9];\n",
      "h q[3];\n",
      "cx q[1], q[7];\n",
      "tdg q[3];\n",
      "cx q[1], q[3];\n",
      "t q[3];\n",
      "cx q[1], q[5];\n",
      "tdg q[5];\n",
      "cx q[1], q[5];\n",
      "t q[1];\n",
      "t q[5];\n",
      "h q[5];\n",
      "\n"
     ]
    }
   ],
   "source": [
    "print(cir_int.qasm())"
   ]
  },
  {
   "cell_type": "code",
   "execution_count": 18,
   "id": "17acaa48",
   "metadata": {},
   "outputs": [
    {
     "name": "stdout",
     "output_type": "stream",
     "text": [
      "OPENQASM 2.0;\n",
      "include \"qelib1.inc\";\n",
      "qreg q[10];\n",
      "creg c[10];\n",
      "h q[1];\n",
      "cx q[1], q[2];\n",
      "u1(1) q[1];\n",
      "u2(0, 1) q[2];\n",
      "measure q[0] -> c[0];\n",
      "measure q[1] -> c[1];\n",
      "measure q[2] -> c[2];\n",
      "measure q[3] -> c[3];\n",
      "measure q[4] -> c[4];\n",
      "measure q[5] -> c[5];\n",
      "measure q[6] -> c[6];\n",
      "measure q[7] -> c[7];\n",
      "measure q[8] -> c[8];\n",
      "measure q[9] -> c[9];\n",
      "h q[3];\n",
      "cx q[1], q[7];\n",
      "tdg q[3];\n",
      "cx q[1], q[3];\n",
      "t q[3];\n",
      "cx q[1], q[5];\n",
      "tdg q[5];\n",
      "cx q[1], q[5];\n",
      "t q[1];\n",
      "t q[5];\n",
      "h q[5];\n",
      "h q[2];\n",
      "cx q[0], q[6];\n",
      "tdg q[2];\n",
      "cx q[0], q[2];\n",
      "t q[2];\n",
      "cx q[0], q[4];\n",
      "tdg q[4];\n",
      "cx q[0], q[4];\n",
      "t q[0];\n",
      "t q[4];\n",
      "h q[4];\n",
      "\n"
     ]
    }
   ],
   "source": [
    "qr5 = cir_int.qubits([0,2,4,6,8])\n",
    "ctx_cgate | cir_int(qr5)\n",
    "\n",
    "print(cir_int.qasm())"
   ]
  },
  {
   "cell_type": "code",
   "execution_count": 8,
   "id": "99bf8362",
   "metadata": {},
   "outputs": [],
   "source": [
    "import numpy as np"
   ]
  },
  {
   "cell_type": "code",
   "execution_count": 12,
   "id": "7575a333",
   "metadata": {},
   "outputs": [
    {
     "data": {
      "text/plain": [
       "[0,\n",
       " 1,\n",
       " 0,\n",
       " 1,\n",
       " 0,\n",
       " 1,\n",
       " 0,\n",
       " 1,\n",
       " 0,\n",
       " 1,\n",
       " 0,\n",
       " 1,\n",
       " 0,\n",
       " 1,\n",
       " 0,\n",
       " 1,\n",
       " 0,\n",
       " 1,\n",
       " 0,\n",
       " 1,\n",
       " 0,\n",
       " 1,\n",
       " 0,\n",
       " 1,\n",
       " 0,\n",
       " 1,\n",
       " 0,\n",
       " 1,\n",
       " 0,\n",
       " 1,\n",
       " 0,\n",
       " 1]"
      ]
     },
     "execution_count": 12,
     "metadata": {},
     "output_type": "execute_result"
    }
   ],
   "source": [
    "test_number = 5\n",
    "test = [0, 1] * 2 ** (test_number - 1)\n",
    "test"
   ]
  },
  {
   "cell_type": "code",
   "execution_count": 13,
   "id": "c75087cd",
   "metadata": {},
   "outputs": [],
   "source": [
    "def old_permfx(params=None):\n",
    "    \"\"\" pass Fx to the gate\n",
    "\n",
    "    Fx should be a 2^n list that represent a boolean function\n",
    "    {0, 1}^n -> {0, 1}\n",
    "\n",
    "    Args:\n",
    "        params(list):contain 2^n values which are 0 or 1\n",
    "\n",
    "    Returns:\n",
    "        PermFxGate: the gate after filled by parameters\n",
    "    \"\"\"\n",
    "    if not isinstance(params, list):\n",
    "        raise TypeException(\"list\", params)\n",
    "\n",
    "    n = int(round(np.log2(len(params))))\n",
    "    if len(params) != 1 << n:\n",
    "        raise Exception(\"the length of params should be the power of 2\")\n",
    "    N = 1 << n\n",
    "    for i in range(N):\n",
    "        if params[i] != 0 and params[i] != 1:\n",
    "            raise Exception(\"the range of params should be {0, 1}\")\n",
    "\n",
    "    targets = n + 1\n",
    "    pargs = []\n",
    "\n",
    "    N_2 = N << 1\n",
    "    for idx in range(N_2):\n",
    "        if params[idx >> 1] == 1:\n",
    "            pargs.append(idx ^ 1)\n",
    "        else:\n",
    "            pargs.append(idx)\n",
    "    return pargs"
   ]
  },
  {
   "cell_type": "code",
   "execution_count": 14,
   "id": "8aa42081",
   "metadata": {},
   "outputs": [
    {
     "data": {
      "text/plain": [
       "[0,\n",
       " 1,\n",
       " 3,\n",
       " 2,\n",
       " 4,\n",
       " 5,\n",
       " 7,\n",
       " 6,\n",
       " 8,\n",
       " 9,\n",
       " 11,\n",
       " 10,\n",
       " 12,\n",
       " 13,\n",
       " 15,\n",
       " 14,\n",
       " 16,\n",
       " 17,\n",
       " 19,\n",
       " 18,\n",
       " 20,\n",
       " 21,\n",
       " 23,\n",
       " 22,\n",
       " 24,\n",
       " 25,\n",
       " 27,\n",
       " 26,\n",
       " 28,\n",
       " 29,\n",
       " 31,\n",
       " 30,\n",
       " 32,\n",
       " 33,\n",
       " 35,\n",
       " 34,\n",
       " 36,\n",
       " 37,\n",
       " 39,\n",
       " 38,\n",
       " 40,\n",
       " 41,\n",
       " 43,\n",
       " 42,\n",
       " 44,\n",
       " 45,\n",
       " 47,\n",
       " 46,\n",
       " 48,\n",
       " 49,\n",
       " 51,\n",
       " 50,\n",
       " 52,\n",
       " 53,\n",
       " 55,\n",
       " 54,\n",
       " 56,\n",
       " 57,\n",
       " 59,\n",
       " 58,\n",
       " 60,\n",
       " 61,\n",
       " 63,\n",
       " 62]"
      ]
     },
     "execution_count": 14,
     "metadata": {},
     "output_type": "execute_result"
    }
   ],
   "source": [
    "old_permfx(test)"
   ]
  },
  {
   "cell_type": "code",
   "execution_count": 15,
   "id": "b524ea87",
   "metadata": {},
   "outputs": [],
   "source": [
    "def new_permfx(n: int, params: list):\n",
    "    \"\"\" pass Fx to the gate\n",
    "\n",
    "    Fx should be a 2^n list that represent a boolean function\n",
    "    {0, 1}^n -> {0, 1}\n",
    "\n",
    "    Args:\n",
    "        n (int): the number of targets\n",
    "        params (list[int]): the list of index, and the index represent which should be 1.\n",
    "\n",
    "    Returns:\n",
    "        PermFxGate: the gate after filled by parameters\n",
    "    \"\"\"\n",
    "    if not isinstance(params, list) or not isinstance(n, int):\n",
    "        raise TypeError(f\"n must be int {type(n)}, params must be list {type(params)}\")\n",
    "\n",
    "    N = 1 << n\n",
    "    for p in params:\n",
    "        if p >= N:\n",
    "            raise Exception(\"the params should be less than N\")\n",
    "\n",
    "    pargs = []\n",
    "    for idx in range(1 << (n + 1)):\n",
    "        if idx >> 1 in params:\n",
    "            pargs.append(idx ^ 1)\n",
    "        else:\n",
    "            pargs.append(idx)\n",
    "\n",
    "    return pargs"
   ]
  },
  {
   "cell_type": "code",
   "execution_count": 16,
   "id": "2d6dad4b",
   "metadata": {},
   "outputs": [
    {
     "data": {
      "text/plain": [
       "[0,\n",
       " 1,\n",
       " 3,\n",
       " 2,\n",
       " 4,\n",
       " 5,\n",
       " 7,\n",
       " 6,\n",
       " 8,\n",
       " 9,\n",
       " 11,\n",
       " 10,\n",
       " 12,\n",
       " 13,\n",
       " 15,\n",
       " 14,\n",
       " 16,\n",
       " 17,\n",
       " 19,\n",
       " 18,\n",
       " 20,\n",
       " 21,\n",
       " 23,\n",
       " 22,\n",
       " 24,\n",
       " 25,\n",
       " 27,\n",
       " 26,\n",
       " 28,\n",
       " 29,\n",
       " 31,\n",
       " 30,\n",
       " 32,\n",
       " 33,\n",
       " 35,\n",
       " 34,\n",
       " 36,\n",
       " 37,\n",
       " 39,\n",
       " 38,\n",
       " 40,\n",
       " 41,\n",
       " 43,\n",
       " 42,\n",
       " 44,\n",
       " 45,\n",
       " 47,\n",
       " 46,\n",
       " 48,\n",
       " 49,\n",
       " 51,\n",
       " 50,\n",
       " 52,\n",
       " 53,\n",
       " 55,\n",
       " 54,\n",
       " 56,\n",
       " 57,\n",
       " 59,\n",
       " 58,\n",
       " 60,\n",
       " 61,\n",
       " 63,\n",
       " 62]"
      ]
     },
     "execution_count": 16,
     "metadata": {},
     "output_type": "execute_result"
    }
   ],
   "source": [
    "testn = [i for i in range(1, 2 ** test_number, 2)]\n",
    "\n",
    "new_permfx(test_number, testn)"
   ]
  },
  {
   "cell_type": "code",
   "execution_count": 1,
   "id": "ffe3e267",
   "metadata": {},
   "outputs": [],
   "source": [
    "from QuICT.core.gate import *"
   ]
  },
  {
   "cell_type": "code",
   "execution_count": 3,
   "id": "684a7258",
   "metadata": {},
   "outputs": [
    {
     "name": "stdout",
     "output_type": "stream",
     "text": [
      "11111\n",
      "22222\n",
      "1\n",
      "11111\n",
      "22222\n",
      "1\n",
      "11111\n",
      "22222\n",
      "1\n",
      "11111\n",
      "22222\n",
      "1\n",
      "11111\n",
      "22222\n",
      "1\n"
     ]
    }
   ],
   "source": [
    "cgate = CompositeGate()\n",
    "H | cgate(1)\n",
    "U1(0) | cgate(2)\n",
    "CX | cgate([3, 4])\n",
    "CU3(1, 0, 0) | cgate([0, 4])\n",
    "CCRz(1) | cgate([0, 1, 2])"
   ]
  },
  {
   "cell_type": "code",
   "execution_count": 4,
   "id": "1f43b0ff",
   "metadata": {},
   "outputs": [
    {
     "data": {
      "text/plain": [
       "[<QuICT.core.gate.gate.HGate at 0x7fe8702d5e50>,\n",
       " <QuICT.core.gate.gate.U1Gate at 0x7fe8702a20a0>,\n",
       " <QuICT.core.gate.gate.CXGate at 0x7fe8702a2070>,\n",
       " <QuICT.core.gate.gate.CU3Gate at 0x7fe8702a2580>,\n",
       " <QuICT.core.gate.gate.CCRzGate at 0x7fe8702a27f0>]"
      ]
     },
     "execution_count": 4,
     "metadata": {},
     "output_type": "execute_result"
    }
   ],
   "source": [
    "cgate.gates"
   ]
  },
  {
   "cell_type": "code",
   "execution_count": 6,
   "id": "f9684522",
   "metadata": {},
   "outputs": [
    {
     "name": "stdout",
     "output_type": "stream",
     "text": [
      "OPENQASM 2.0;\n",
      "include \"qelib1.inc\";\n",
      "qreg q[5];\n",
      "creg c[0];\n",
      "h q[1];\n",
      "u1(0) q[2];\n",
      "cx q[3], q[4];\n",
      "cu3(1, 0, 0) q[0], q[4];\n",
      "CCRz(1) q[0], q[1], q[2];\n",
      "\n"
     ]
    }
   ],
   "source": [
    "print(cgate.qasm())"
   ]
  },
  {
   "cell_type": "code",
   "execution_count": 7,
   "id": "b8737147",
   "metadata": {},
   "outputs": [
    {
     "data": {
      "text/plain": [
       "5"
      ]
     },
     "execution_count": 7,
     "metadata": {},
     "output_type": "execute_result"
    }
   ],
   "source": [
    "cgate.size()"
   ]
  },
  {
   "cell_type": "code",
   "execution_count": null,
   "id": "95ea3cbf",
   "metadata": {},
   "outputs": [],
   "source": []
  }
 ],
 "metadata": {
  "kernelspec": {
   "display_name": "Python 3",
   "language": "python",
   "name": "python3"
  },
  "language_info": {
   "codemirror_mode": {
    "name": "ipython",
    "version": 3
   },
   "file_extension": ".py",
   "mimetype": "text/x-python",
   "name": "python",
   "nbconvert_exporter": "python",
   "pygments_lexer": "ipython3",
   "version": "3.8.5"
  }
 },
 "nbformat": 4,
 "nbformat_minor": 5
}
