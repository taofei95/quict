{
 "cells": [
  {
   "cell_type": "code",
   "execution_count": 1,
   "id": "c511f3e5",
   "metadata": {},
   "outputs": [],
   "source": [
    "from QuICT.core import Qubit, Qureg\n",
    "from QuICT.core import Circuit\n",
    "from QuICT.core.gate import *"
   ]
  },
  {
   "cell_type": "markdown",
   "id": "774d130f",
   "metadata": {},
   "source": [
    "# Qubit & Qureg"
   ]
  },
  {
   "cell_type": "code",
   "execution_count": 2,
   "id": "6f5d978d",
   "metadata": {},
   "outputs": [
    {
     "name": "stdout",
     "output_type": "stream",
     "text": [
      "e265a268a36611eca71f3930e91e5298\n",
      "None\n"
     ]
    }
   ],
   "source": [
    "q1 = Qubit()\n",
    "q2 = Qubit()\n",
    "\n",
    "# show qubit id and measured\n",
    "print(q1.id)\n",
    "print(q2.measured)"
   ]
  },
  {
   "cell_type": "code",
   "execution_count": 3,
   "id": "7281e6ba",
   "metadata": {},
   "outputs": [
    {
     "name": "stdout",
     "output_type": "stream",
     "text": [
      "5, 2, 1\n"
     ]
    }
   ],
   "source": [
    "qr_int = Qureg(5)\n",
    "qr_list = Qureg([q1, q2])\n",
    "qr_qubit = Qureg(q1)\n",
    "\n",
    "# show qubits' number in Qureg\n",
    "print(f\"{len(qr_int)}, {len(qr_list)}, {len(qr_qubit)}\")"
   ]
  },
  {
   "cell_type": "code",
   "execution_count": 4,
   "id": "562b5b4d",
   "metadata": {},
   "outputs": [
    {
     "data": {
      "text/plain": [
       "1"
      ]
     },
     "execution_count": 4,
     "metadata": {},
     "output_type": "execute_result"
    }
   ],
   "source": [
    "q1.measured = 0\n",
    "q2.measured = 1\n",
    "\n",
    "# show qr_list's qubits state\n",
    "int(qr_list)"
   ]
  },
  {
   "cell_type": "code",
   "execution_count": 5,
   "id": "9b9b7cc9",
   "metadata": {
    "scrolled": true
   },
   "outputs": [
    {
     "name": "stdout",
     "output_type": "stream",
     "text": [
      "True\n",
      "3\n",
      "3\n",
      "3\n"
     ]
    }
   ],
   "source": [
    "# qureg call\n",
    "print(qr_list(0) == qr_qubit)\n",
    "print(len(qr_int([1,2,4])))\n",
    "\n",
    "# qureg getitem\n",
    "print(len(qr_int[1:4]))\n",
    "print(len(qr_int[1,3,4]))"
   ]
  },
  {
   "cell_type": "markdown",
   "id": "7ded3fca",
   "metadata": {},
   "source": [
    "# Gate and Composite Gate"
   ]
  },
  {
   "cell_type": "code",
   "execution_count": 6,
   "id": "513a3a2e",
   "metadata": {},
   "outputs": [
    {
     "name": "stdout",
     "output_type": "stream",
     "text": [
      "{'name': 'GateType.u2--', 'controls': 0, 'control_bit': [], 'targets': 1, 'target_bit': [], 'parameters': [1, 0]}\n",
      "{'name': 'GateType.h--', 'controls': 0, 'control_bit': [], 'targets': 1, 'target_bit': [], 'parameters': []}\n",
      "{'name': 'GateType.cx--', 'controls': 1, 'control_bit': [1], 'targets': 1, 'target_bit': [3], 'parameters': []}\n"
     ]
    }
   ],
   "source": [
    "# show basic quantum gate with parameters or target qubits\n",
    "print(U2(1, 0))\n",
    "print(H)\n",
    "print(CX & [1,3])"
   ]
  },
  {
   "cell_type": "code",
   "execution_count": 7,
   "id": "fca0f3f7",
   "metadata": {},
   "outputs": [
    {
     "name": "stdout",
     "output_type": "stream",
     "text": [
      "True\n",
      "True\n",
      "True\n"
     ]
    }
   ],
   "source": [
    "# show gate's property\n",
    "print(H.is_single())\n",
    "print(S.is_diagonal())\n",
    "print(Reset.is_special())"
   ]
  },
  {
   "cell_type": "code",
   "execution_count": 8,
   "id": "05ba75c8",
   "metadata": {},
   "outputs": [
    {
     "name": "stdout",
     "output_type": "stream",
     "text": [
      "OPENQASM 2.0;\n",
      "include \"qelib1.inc\";\n",
      "qreg q[5];\n",
      "creg c[0];\n",
      "h q[0];\n",
      "cx q[1], q[2];\n",
      "h q[0];\n",
      "crz(1.5707963267948966) q[3], q[0];\n",
      "crz(0.7853981633974483) q[4], q[0];\n",
      "h q[3];\n",
      "crz(1.5707963267948966) q[4], q[3];\n",
      "h q[4];\n",
      "h q[4];\n",
      "\n"
     ]
    }
   ],
   "source": [
    "# Build composite gate\n",
    "cgate = CompositeGate()\n",
    "H | cgate(0)\n",
    "CX | cgate([1, 2])\n",
    "QFT.build_gate(3) | cgate([0, 3, 4])\n",
    "H | cgate(4)\n",
    "\n",
    "print(cgate.qasm())"
   ]
  },
  {
   "cell_type": "code",
   "execution_count": 9,
   "id": "21ae84e9",
   "metadata": {},
   "outputs": [
    {
     "name": "stdout",
     "output_type": "stream",
     "text": [
      "OPENQASM 2.0;\n",
      "include \"qelib1.inc\";\n",
      "qreg q[5];\n",
      "creg c[0];\n",
      "h q[4];\n",
      "cx q[3], q[2];\n",
      "h q[4];\n",
      "crz(1.5707963267948966) q[1], q[4];\n",
      "crz(0.7853981633974483) q[0], q[4];\n",
      "h q[1];\n",
      "crz(1.5707963267948966) q[0], q[1];\n",
      "h q[0];\n",
      "h q[0];\n",
      "\n"
     ]
    }
   ],
   "source": [
    "# re-assign target qubits for composite gate\n",
    "cgate & [4,3,2,1,0]\n",
    "print(cgate.qasm())"
   ]
  },
  {
   "cell_type": "code",
   "execution_count": 10,
   "id": "98a3f80d",
   "metadata": {},
   "outputs": [
    {
     "name": "stdout",
     "output_type": "stream",
     "text": [
      "[[ 0.5       +0.j          0.5       +0.j          0.5       +0.j\n",
      "   0.5       +0.j        ]\n",
      " [ 0.35355339+0.35355339j -0.35355339-0.35355339j -0.35355339+0.35355339j\n",
      "   0.35355339-0.35355339j]\n",
      " [ 0.5       +0.j          0.5       +0.j         -0.5       +0.j\n",
      "  -0.5       +0.j        ]\n",
      " [ 0.35355339+0.35355339j -0.35355339-0.35355339j  0.35355339-0.35355339j\n",
      "  -0.35355339+0.35355339j]]\n"
     ]
    }
   ],
   "source": [
    "# build composit gate within context\n",
    "with CompositeGate() as ctx_cgate:\n",
    "    H & 1\n",
    "    CX & [0, 1]\n",
    "    T_dagger & 1\n",
    "    CX & [0, 1]\n",
    "    T & 1\n",
    "    T & 0\n",
    "    T & 1\n",
    "    H & 0\n",
    "\n",
    "print(ctx_cgate.matrix())"
   ]
  },
  {
   "cell_type": "markdown",
   "id": "3ab23b9e",
   "metadata": {},
   "source": [
    "# Circuit"
   ]
  },
  {
   "cell_type": "code",
   "execution_count": 11,
   "id": "f8fab14b",
   "metadata": {},
   "outputs": [],
   "source": [
    "# 4 ways to initial quantum circuit\n",
    "cir_int = Circuit(5)  # create 5 qubits quantum circuit\n",
    "cir_list = Circuit([q1, q2])  # create quantum circuit with qubit q1 and q2\n",
    "cir_qr = Circuit(qr_list)  # create quantum circuit with qureg qr_list\n",
    "cir_qb = Circuit(q1)  # create quantum circuit with qubit q1"
   ]
  },
  {
   "cell_type": "code",
   "execution_count": 12,
   "id": "1b74cb9b",
   "metadata": {},
   "outputs": [
    {
     "name": "stdout",
     "output_type": "stream",
     "text": [
      "OPENQASM 2.0;\n",
      "include \"qelib1.inc\";\n",
      "qreg q[5];\n",
      "creg c[5];\n",
      "h q[1];\n",
      "cx q[1], q[2];\n",
      "u1(1) q[1];\n",
      "u2(0, 1) q[2];\n",
      "h q[1];\n",
      "cx q[0], q[1];\n",
      "tdg q[1];\n",
      "cx q[0], q[1];\n",
      "t q[1];\n",
      "t q[0];\n",
      "t q[1];\n",
      "h q[0];\n",
      "measure q[0] -> c[0];\n",
      "measure q[1] -> c[1];\n",
      "measure q[2] -> c[2];\n",
      "measure q[3] -> c[3];\n",
      "measure q[4] -> c[4];\n",
      "\n"
     ]
    }
   ],
   "source": [
    "# build quantum circuit\n",
    "H | cir_int(1)\n",
    "CX | cir_int([1, 2])\n",
    "U1(1) | cir_int(1)\n",
    "U2(0, 1) & 2 | cir_int\n",
    "ctx_cgate | cir_int  # add composite gate\n",
    "Measure | cir_int\n",
    "\n",
    "print(cir_int.qasm())"
   ]
  },
  {
   "cell_type": "code",
   "execution_count": null,
   "id": "97766859",
   "metadata": {},
   "outputs": [],
   "source": []
  }
 ],
 "metadata": {
  "kernelspec": {
   "display_name": "Python 3",
   "language": "python",
   "name": "python3"
  },
  "language_info": {
   "codemirror_mode": {
    "name": "ipython",
    "version": 3
   },
   "file_extension": ".py",
   "mimetype": "text/x-python",
   "name": "python",
   "nbconvert_exporter": "python",
   "pygments_lexer": "ipython3",
   "version": "3.8.5"
  }
 },
 "nbformat": 4,
 "nbformat_minor": 5
}
