{
 "cells": [
  {
   "cell_type": "markdown",
   "metadata": {},
   "source": [
    "# CNF Solved with Quantum Search\n",
    "\n",
    "The following codes aim to find a solution that makes the CNF formula true."
   ]
  },
  {
   "cell_type": "markdown",
   "metadata": {},
   "source": [
    "To start with we import som basic utilities:"
   ]
  },
  {
   "cell_type": "code",
   "execution_count": 4,
   "metadata": {},
   "outputs": [],
   "source": [
    "from QuICT.core import Circuit\n",
    "from QuICT.core.gate import *\n",
    "from QuICT.core.gate.backend import MCTOneAux\n",
    "from QuICT.simulation.state_vector import ConstantStateVectorSimulator"
   ]
  },
  {
   "cell_type": "markdown",
   "metadata": {},
   "source": [
    "## Quantum Search: Grover's Algorithm\n",
    "\n",
    "`QuICT` has built-in implementation of Grover's algorithm. It take an oracle that flips the phase of target states. More explanation of Grover's algorithm can be found on QCQI and BHMT."
   ]
  },
  {
   "cell_type": "code",
   "execution_count": 5,
   "metadata": {},
   "outputs": [],
   "source": [
    "from QuICT.algorithm.quantum_algorithm.grover import Grover"
   ]
  },
  {
   "cell_type": "markdown",
   "metadata": {},
   "source": [
    "## CNF: Oracle Construction\n",
    "\n",
    "[Conjunctive Normal Form](https://en.wikipedia.org/wiki/Conjunctive_normal_form)(CNF) is a canonical expression in Boolean logic. Next we constructs the oracle circuit for any CNF formula given its description file, and combine the oracle with `Grover` module to find solutions.\n",
    "\n",
    "This oracle is implemented in `QuICT`."
   ]
  },
  {
   "cell_type": "code",
   "execution_count": 6,
   "metadata": {},
   "outputs": [
    {
     "name": "stdout",
     "output_type": "stream",
     "text": [
      "2022-12-14 14:15:44 | circuit | INFO | Initial Quantum Circuit circuit_bddebdf67b7611edb1e91fdda90babe6 with 1 qubits.\n",
      "2022-12-14 14:15:44 | circuit | INFO | Initial Quantum Circuit circuit_bddf52de7b7611edb1e91fdda90babe6 with 1 qubits.\n",
      "2022-12-14 14:15:44 | circuit | INFO | Initial Quantum Circuit circuit_bddf8d587b7611edb1e91fdda90babe6 with 1 qubits.\n",
      "2022-12-14 14:15:44 | circuit | INFO | Initial Quantum Circuit circuit_bddfd31c7b7611edb1e91fdda90babe6 with 1 qubits.\n",
      "2022-12-14 14:15:44 | circuit | INFO | Initial Quantum Circuit circuit_bdf640207b7611edb1e91fdda90babe6 with 1 qubits.\n",
      "2022-12-14 14:15:44 | circuit | INFO | Initial Quantum Circuit circuit_bdf697467b7611edb1e91fdda90babe6 with 1 qubits.\n",
      "2022-12-14 14:15:44 | circuit | INFO | Initial Quantum Circuit circuit_bdf6c11c7b7611edb1e91fdda90babe6 with 2 qubits.\n",
      "2022-12-14 14:15:44 | circuit | INFO | Initial Quantum Circuit circuit_bdf6ea667b7611edb1e91fdda90babe6 with 2 qubits.\n",
      "2022-12-14 14:15:44 | circuit | INFO | Initial Quantum Circuit circuit_bdf70bd67b7611edb1e91fdda90babe6 with 2 qubits.\n",
      "2022-12-14 14:15:44 | circuit | INFO | Initial Quantum Circuit circuit_bdf732507b7611edb1e91fdda90babe6 with 2 qubits.\n",
      "2022-12-14 14:15:44 | circuit | INFO | Initial Quantum Circuit circuit_bdf756ae7b7611edb1e91fdda90babe6 with 2 qubits.\n",
      "2022-12-14 14:15:44 | circuit | INFO | Initial Quantum Circuit circuit_bdf77d007b7611edb1e91fdda90babe6 with 2 qubits.\n",
      "2022-12-14 14:15:44 | circuit | INFO | Initial Quantum Circuit circuit_bdf7a0be7b7611edb1e91fdda90babe6 with 1 qubits.\n",
      "2022-12-14 14:15:44 | circuit | INFO | Initial Quantum Circuit circuit_bdf7c8647b7611edb1e91fdda90babe6 with 1 qubits.\n",
      "2022-12-14 14:15:44 | circuit | INFO | Initial Quantum Circuit circuit_bdf7e8bc7b7611edb1e91fdda90babe6 with 2 qubits.\n",
      "2022-12-14 14:15:44 | circuit | INFO | Initial Quantum Circuit circuit_bdf812ba7b7611edb1e91fdda90babe6 with 2 qubits.\n",
      "2022-12-14 14:15:44 | circuit | INFO | Initial Quantum Circuit circuit_bdf839667b7611edb1e91fdda90babe6 with 2 qubits.\n",
      "2022-12-14 14:15:44 | circuit | INFO | Initial Quantum Circuit circuit_bdf8593c7b7611edb1e91fdda90babe6 with 3 qubits.\n",
      "2022-12-14 14:15:44 | circuit | INFO | Initial Quantum Circuit circuit_bdf87f027b7611edb1e91fdda90babe6 with 1 qubits.\n",
      "2022-12-14 14:15:44 | circuit | INFO | Initial Quantum Circuit circuit_bdf8a59a7b7611edb1e91fdda90babe6 with 2 qubits.\n",
      "2022-12-14 14:15:44 | circuit | INFO | Initial Quantum Circuit circuit_bdf8c3867b7611edb1e91fdda90babe6 with 2 qubits.\n",
      "2022-12-14 14:15:44 | circuit | INFO | Initial Quantum Circuit circuit_bdf8ea787b7611edb1e91fdda90babe6 with 1 qubits.\n",
      "2022-12-14 14:15:44 | circuit | INFO | Initial Quantum Circuit circuit_bdf908287b7611edb1e91fdda90babe6 with 2 qubits.\n",
      "2022-12-14 14:15:44 | circuit | INFO | Initial Quantum Circuit circuit_bdf928c67b7611edb1e91fdda90babe6 with 1 qubits.\n",
      "2022-12-14 14:15:44 | circuit | INFO | Initial Quantum Circuit circuit_bdf9c9f27b7611edb1e91fdda90babe6 with 3 qubits.\n",
      "2022-12-14 14:15:44 | circuit | INFO | Initial Quantum Circuit circuit_bdfa06ec7b7611edb1e91fdda90babe6 with 3 qubits.\n",
      "2022-12-14 14:15:44 | circuit | INFO | Initial Quantum Circuit circuit_bdfa60387b7611edb1e91fdda90babe6 with 4 qubits.\n",
      "2022-12-14 14:15:44 | circuit | INFO | Initial Quantum Circuit circuit_bdfaacf07b7611edb1e91fdda90babe6 with 4 qubits.\n",
      "2022-12-14 14:15:44 | circuit | INFO | Initial Quantum Circuit circuit_bdfb04ca7b7611edb1e91fdda90babe6 with 4 qubits.\n",
      "2022-12-14 14:15:44 | circuit | INFO | Initial Quantum Circuit circuit_bdfb5a247b7611edb1e91fdda90babe6 with 4 qubits.\n",
      "2022-12-14 14:15:44 | circuit | INFO | Initial Quantum Circuit circuit_bdfbb01e7b7611edb1e91fdda90babe6 with 4 qubits.\n",
      "2022-12-14 14:15:44 | circuit | INFO | Initial Quantum Circuit circuit_bdfbfec07b7611edb1e91fdda90babe6 with 4 qubits.\n",
      "2022-12-14 14:15:44 | circuit | INFO | Initial Quantum Circuit circuit_bdfc53847b7611edb1e91fdda90babe6 with 4 qubits.\n",
      "2022-12-14 14:15:44 | circuit | INFO | Initial Quantum Circuit circuit_bdfce1967b7611edb1e91fdda90babe6 with 4 qubits.\n",
      "2022-12-14 14:15:44 | circuit | INFO | Initial Quantum Circuit circuit_bdfd31a07b7611edb1e91fdda90babe6 with 4 qubits.\n",
      "2022-12-14 14:15:44 | circuit | INFO | Initial Quantum Circuit circuit_bdfd7eb27b7611edb1e91fdda90babe6 with 4 qubits.\n"
     ]
    }
   ],
   "source": [
    "from QuICT.algorithm.quantum_algorithm.CNF import CNFSATOracle"
   ]
  },
  {
   "cell_type": "markdown",
   "metadata": {},
   "source": [
    "The following function reads information from CNF description file:"
   ]
  },
  {
   "cell_type": "code",
   "execution_count": 7,
   "metadata": {},
   "outputs": [],
   "source": [
    "def read_CNF(cnf_file):\n",
    "        variable_number = 0\n",
    "        clause_number = 0\n",
    "        CNF_data = []\n",
    "        f = open(cnf_file, 'r') \n",
    "        for line in f.readlines():\n",
    "            new = line.strip().split()\n",
    "            int_new=[]\n",
    "            if new[0] == 'p':\n",
    "                variable_number = int(new[2])\n",
    "                clause_number = int(new[3])\n",
    "            else:\n",
    "                for x in new:\n",
    "                    if (x != '0') and (int(x) not in int_new):\n",
    "                        int_new.append(int(x))\n",
    "                        if (- int(x)) in int_new:\n",
    "                            int_new = []\n",
    "                            break\n",
    "            CNF_data.append(int_new)\n",
    "        f.close()\n",
    "        return variable_number, clause_number, CNF_data"
   ]
  },
  {
   "cell_type": "markdown",
   "metadata": {},
   "source": [
    "Checking CNF solution is neccessary since the algorithm is not deterministic: "
   ]
  },
  {
   "cell_type": "code",
   "execution_count": 8,
   "metadata": {},
   "outputs": [],
   "source": [
    "def check_solution(variable_data, variable_number, clause_number, CNF_data):\n",
    "    cnf_result = 1\n",
    "    for i in range(clause_number):\n",
    "        clause_result = 0\n",
    "        if CNF_data[i+1] == []:\n",
    "            clause_result = 1\n",
    "        else:\n",
    "            for j in range(len(CNF_data[i+1])):\n",
    "                if CNF_data[i+1][j] > 0:\n",
    "                    clause_result = clause_result + variable_data[CNF_data[i+1][j]-1]\n",
    "                else:\n",
    "                    if CNF_data[i+1][j] < 0:\n",
    "                        clause_result = clause_result  + ( 1 - variable_data[-CNF_data[i+1][j]-1] )\n",
    "            if clause_result == 0:\n",
    "                cnf_result = 0\n",
    "                break\n",
    "    if cnf_result == 1:\n",
    "        return True\n",
    "    else:\n",
    "        return False"
   ]
  },
  {
   "cell_type": "markdown",
   "metadata": {},
   "source": [
    "The combination is as follows, and we try to find solution to a 16-variable CNF formula in `test.cnf`:"
   ]
  },
  {
   "cell_type": "code",
   "execution_count": 9,
   "metadata": {},
   "outputs": [
    {
     "name": "stdout",
     "output_type": "stream",
     "text": [
      "2022-12-14 14:15:45 | circuit | INFO | Initial Quantum Circuit circuit_be9e265a7b7611edb1e91fdda90babe6 with 14 qubits.\n",
      "2022-12-14 14:15:54 | Grover | INFO | circuit width          =   14\n",
      "oracle  calls          =   12\n",
      "other circuit size     =  920\n",
      "\n",
      "constrcution finished.\n",
      "simulation   finished.\n",
      "sampling     finished.\n"
     ]
    }
   ],
   "source": [
    "file_path = 'test.cnf'\n",
    "variable_number, clause_number, CNF_data = read_CNF(file_path)\n",
    "\n",
    "ancilla_qubits_num=5\n",
    "dirty_ancilla=1\n",
    "cnf = CNFSATOracle()\n",
    "cnf.run(file_path, ancilla_qubits_num, dirty_ancilla)\n",
    "\n",
    "oracle = cnf.circuit()\n",
    "grover = Grover(ConstantStateVectorSimulator())\n",
    "    \n",
    "circ = grover.circuit(variable_number, ancilla_qubits_num + dirty_ancilla, oracle, n_solution=1, measure=False, is_bit_flip=True)\n",
    "print(f\"constrcution finished.\")\n",
    "grover.simulator.run(circ)\n",
    "print(f\"simulation   finished.\")\n",
    "n_hit = 0\n",
    "n_all = 1000\n",
    "result_samples = grover.simulator.sample(n_all)\n",
    "print(f\"sampling     finished.\")"
   ]
  },
  {
   "cell_type": "markdown",
   "metadata": {},
   "source": [
    "We can check the success rate:"
   ]
  },
  {
   "cell_type": "code",
   "execution_count": 10,
   "metadata": {},
   "outputs": [
    {
     "name": "stdout",
     "output_type": "stream",
     "text": [
      "[1000/1000]:1.000\n"
     ]
    }
   ],
   "source": [
    "result_var_samples = np.array(result_samples).reshape((1<<variable_number,1<<(ancilla_qubits_num + dirty_ancilla))).sum(axis=1)\n",
    "for result in range(1<<variable_number):\n",
    "    result_str = bin(result)[2:].rjust(variable_number,'0')\n",
    "    if check_solution([int(x) for x in result_str], variable_number, clause_number, CNF_data):\n",
    "        n_hit += result_var_samples[result]\n",
    "print(f\"[{n_hit}/{n_all}]:{n_hit/n_all:.3f}\")"
   ]
  }
 ],
 "metadata": {
  "interpreter": {
   "hash": "62959b30ca983c9865b9a330b4e9d526b3abde4350cfeb2ea0428cff8a062abd"
  },
  "kernelspec": {
   "display_name": "Python 3.8.10 ('pengsirui')",
   "language": "python",
   "name": "python3"
  },
  "language_info": {
   "codemirror_mode": {
    "name": "ipython",
    "version": 3
   },
   "file_extension": ".py",
   "mimetype": "text/x-python",
   "name": "python",
   "nbconvert_exporter": "python",
   "pygments_lexer": "ipython3",
   "version": "3.8.10"
  },
  "orig_nbformat": 4
 },
 "nbformat": 4,
 "nbformat_minor": 2
}
