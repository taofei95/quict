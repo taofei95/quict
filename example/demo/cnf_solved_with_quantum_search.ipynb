{
 "cells": [
  {
   "cell_type": "markdown",
   "metadata": {},
   "source": [
    "# CNF Solved with Quantum Search\n",
    "\n",
    "The following codes aim to find a solution that makes the CNF formula true."
   ]
  },
  {
   "cell_type": "markdown",
   "metadata": {},
   "source": [
    "To start with we import som basic utilities:"
   ]
  },
  {
   "cell_type": "code",
   "execution_count": 18,
   "metadata": {},
   "outputs": [],
   "source": [
    "from QuICT.core import Circuit\n",
    "from QuICT.core.gate import *\n",
    "from QuICT.qcda.synthesis.mct import MCTOneAux\n",
    "from QuICT.simulation.state_vector import ConstantStateVectorSimulator"
   ]
  },
  {
   "cell_type": "markdown",
   "metadata": {},
   "source": [
    "## Quantum Search: Grover's Algorithm\n",
    "\n",
    "`QuICT` has built-in implementation of Grover's algorithm. It take an oracle that flips the phase of target states. More explanation of Grover's algorithm can be found on QCQI and BHMT."
   ]
  },
  {
   "cell_type": "code",
   "execution_count": 19,
   "metadata": {},
   "outputs": [],
   "source": [
    "from QuICT.algorithm.quantum_algorithm.grover import Grover"
   ]
  },
  {
   "cell_type": "markdown",
   "metadata": {},
   "source": [
    "## CNF: Oracle Construction\n",
    "\n",
    "[Conjunctive Normal Form](https://en.wikipedia.org/wiki/Conjunctive_normal_form)(CNF) is a canonical expression in Boolean logic. Next we constructs the oracle circuit for any CNF formula given its description file, and combine the oracle with `Grover` module to find solutions.\n",
    "\n",
    "This oracle is implemented in `QuICT`."
   ]
  },
  {
   "cell_type": "code",
   "execution_count": 20,
   "metadata": {},
   "outputs": [],
   "source": [
    "from QuICT.algorithm.quantum_algorithm.CNF.cnf import CNFSATOracle"
   ]
  },
  {
   "cell_type": "markdown",
   "metadata": {},
   "source": [
    "The following function reads information from CNF description file:"
   ]
  },
  {
   "cell_type": "code",
   "execution_count": 21,
   "metadata": {},
   "outputs": [],
   "source": [
    "def read_CNF(cnf_file):\n",
    "        variable_number = 0\n",
    "        clause_number = 0\n",
    "        CNF_data = []\n",
    "        f = open(cnf_file, 'r') \n",
    "        for line in f.readlines():\n",
    "            new = line.strip().split()\n",
    "            int_new=[]\n",
    "            if new[0] == 'p':\n",
    "                variable_number = int(new[2])\n",
    "                clause_number = int(new[3])\n",
    "            else:\n",
    "                for x in new:\n",
    "                    if (x != '0') and (int(x) not in int_new):\n",
    "                        int_new.append(int(x))\n",
    "                        if (- int(x)) in int_new:\n",
    "                            int_new = []\n",
    "                            break\n",
    "            CNF_data.append(int_new)\n",
    "        f.close()\n",
    "        return variable_number, clause_number, CNF_data"
   ]
  },
  {
   "cell_type": "markdown",
   "metadata": {},
   "source": [
    "Checking CNF solution is neccessary since the algorithm is not deterministic: "
   ]
  },
  {
   "cell_type": "code",
   "execution_count": 22,
   "metadata": {},
   "outputs": [],
   "source": [
    "def check_solution(variable_data, variable_number, clause_number, CNF_data):\n",
    "    cnf_result = 1\n",
    "    for i in range(clause_number):\n",
    "        clause_result = 0\n",
    "        if CNF_data[i+1] == []:\n",
    "            clause_result = 1\n",
    "        else:\n",
    "            for j in range(len(CNF_data[i+1])):\n",
    "                if CNF_data[i+1][j] > 0:\n",
    "                    clause_result = clause_result + variable_data[CNF_data[i+1][j]-1]\n",
    "                else:\n",
    "                    if CNF_data[i+1][j] < 0:\n",
    "                        clause_result = clause_result  + ( 1 - variable_data[-CNF_data[i+1][j]-1] )\n",
    "            if clause_result == 0:\n",
    "                cnf_result = 0\n",
    "                break\n",
    "    if cnf_result == 1:\n",
    "        return True\n",
    "    else:\n",
    "        return False"
   ]
  },
  {
   "cell_type": "markdown",
   "metadata": {},
   "source": [
    "The combination is as follows, and we try to find solution to a 16-variable CNF formula in `test.cnf`:"
   ]
  },
  {
   "cell_type": "code",
   "execution_count": 23,
   "metadata": {},
   "outputs": [
    {
     "name": "stdout",
     "output_type": "stream",
     "text": [
      "constrcution finished.\n",
      "simulation   finished.\n",
      "sampling     finished.\n"
     ]
    }
   ],
   "source": [
    "file_path = 'test.cnf'\n",
    "variable_number, clause_number, CNF_data = read_CNF(file_path)\n",
    "\n",
    "ancilla_qubits_num=5\n",
    "dirty_ancilla=1\n",
    "cnf = CNFSATOracle()\n",
    "cnf.run(file_path, ancilla_qubits_num, dirty_ancilla)\n",
    "\n",
    "oracle = cnf.circuit()\n",
    "grover = Grover(ConstantStateVectorSimulator())\n",
    "    \n",
    "circ = grover.circuit(variable_number, ancilla_qubits_num + dirty_ancilla, oracle, n_solution=1, measure=False, is_bit_flip=True)\n",
    "print(f\"constrcution finished.\")\n",
    "grover.simulator.run(circ)\n",
    "print(f\"simulation   finished.\")\n",
    "n_hit = 0\n",
    "n_all = 1000\n",
    "result_samples = grover.simulator.sample(n_all)\n",
    "print(f\"sampling     finished.\")"
   ]
  },
  {
   "cell_type": "markdown",
   "metadata": {},
   "source": [
    "We can check the success rate:"
   ]
  },
  {
   "cell_type": "code",
   "execution_count": 24,
   "metadata": {},
   "outputs": [
    {
     "name": "stdout",
     "output_type": "stream",
     "text": [
      "[1000/1000]:1.000\n"
     ]
    }
   ],
   "source": [
    "result_var_samples = np.array(result_samples).reshape((1<<variable_number,1<<(ancilla_qubits_num + dirty_ancilla))).sum(axis=1)\n",
    "for result in range(1<<variable_number):\n",
    "    result_str = bin(result)[2:].rjust(variable_number,'0')\n",
    "    if check_solution([int(x) for x in result_str], variable_number, clause_number, CNF_data):\n",
    "        n_hit += result_var_samples[result]\n",
    "print(f\"[{n_hit}/{n_all}]:{n_hit/n_all:.3f}\")"
   ]
  }
 ],
 "metadata": {
  "interpreter": {
   "hash": "62959b30ca983c9865b9a330b4e9d526b3abde4350cfeb2ea0428cff8a062abd"
  },
  "kernelspec": {
   "display_name": "Python 3.8.10 ('pengsirui')",
   "language": "python",
   "name": "python3"
  },
  "language_info": {
   "codemirror_mode": {
    "name": "ipython",
    "version": 3
   },
   "file_extension": ".py",
   "mimetype": "text/x-python",
   "name": "python",
   "nbconvert_exporter": "python",
   "pygments_lexer": "ipython3",
   "version": "3.8.10"
  },
  "orig_nbformat": 4
 },
 "nbformat": 4,
 "nbformat_minor": 2
}
