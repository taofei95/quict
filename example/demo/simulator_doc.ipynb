{
 "cells": [
  {
   "cell_type": "code",
   "execution_count": 1,
   "id": "a71837d7",
   "metadata": {},
   "outputs": [],
   "source": [
    "from QuICT.core import Circuit\n",
    "from QuICT.core.utils import GateType\n",
    "from QuICT.simulation import Simulator"
   ]
  },
  {
   "cell_type": "code",
   "execution_count": null,
   "id": "06d9664b",
   "metadata": {},
   "outputs": [],
   "source": [
    "# Build circuit with 100 random gates and 5 qubits\n",
    "circuit = Circuit(5)\n",
    "type_list = [GateType.x, GateType.h, GateType.rx, GateType.ry, GateType.rz, GateType.cx]\n",
    "circuit.random_append(rand_size=100, typelist=type_list)\n",
    "\n",
    "# Initial Simulator\n",
    "simulator = Simulator(\n",
    "    device=\"GPU\",\n",
    "    backend=\"statevector\",\n",
    "    shots=10,\n",
    "    precision=\"double\"\n",
    ")\n",
    "result = simulator.run(circuit)    # get simulation's result"
   ]
  },
  {
   "cell_type": "code",
   "execution_count": null,
   "id": "5ab511c8",
   "metadata": {},
   "outputs": [],
   "source": [
    "# Initial unitary simulator\n",
    "unitary_simulator = Simulator(\n",
    "    device=\"CPU\",\n",
    "    backend=\"unitary\",\n",
    "    shots=1\n",
    ")\n",
    "result = simulator.run(circuit)    # get simulation's result"
   ]
  },
  {
   "cell_type": "code",
   "execution_count": null,
   "id": "3478a80b",
   "metadata": {},
   "outputs": [],
   "source": [
    "# Using multi-GPU simulator\n",
    "from concurrent.futures import ProcessPoolExecutor, as_completed\n",
    "from cupy.cuda import nccl\n",
    "\n",
    "from QuICT.utility import Proxy\n",
    "from QuICT.simulation.gpu_simulator import MultiStateVectorSimulator\n",
    "\n",
    "def worker_thread(ndev, uid, dev_id):\n",
    "    proxy = Proxy(ndevs=ndev, uid=uid, dev_id=dev_id)\n",
    "\n",
    "    simulator = MultiStateVectorSimulator(\n",
    "        proxy=proxy,\n",
    "        precision=\"double\",\n",
    "        gpu_device_id=dev_id,\n",
    "        sync=True\n",
    "    )\n",
    "    state = simulator.run(cir)\n",
    "    return state\n",
    "\n",
    "\n",
    "ndev = 2    # Device number\n",
    "uid = nccl.get_unique_id()    # generate nccl id for Proxy connection\n",
    "with ProcessPoolExecutor(max_workers=ndev) as executor:\n",
    "    tasks = [\n",
    "        executor.submit(worker_thread, ndev, uid, dev_id) for dev_id in range(ndev)\n",
    "    ]\n",
    "\n",
    "# Collect result from each device\n",
    "results = []\n",
    "for t in as_completed(tasks):\n",
    "    results.append(t.result())\n"
   ]
  },
  {
   "cell_type": "code",
   "execution_count": null,
   "id": "7de05479",
   "metadata": {},
   "outputs": [],
   "source": [
    "# Initial remote simulator\n",
    "simulator = Simulator(\n",
    "    device=\"qcompute\",\n",
    "    backend=\"cloud_baidu_sim2_earth\",\n",
    "    shots=10,\n",
    "    token=token_baidu\n",
    ")\n",
    "result = simulator.run(circuit)    # get simulation's result"
   ]
  }
 ],
 "metadata": {
  "kernelspec": {
   "display_name": "Python 3",
   "language": "python",
   "name": "python3"
  },
  "language_info": {
   "codemirror_mode": {
    "name": "ipython",
    "version": 3
   },
   "file_extension": ".py",
   "mimetype": "text/x-python",
   "name": "python",
   "nbconvert_exporter": "python",
   "pygments_lexer": "ipython3",
   "version": "3.8.5"
  }
 },
 "nbformat": 4,
 "nbformat_minor": 5
}
