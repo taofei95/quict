{
 "cells": [
  {
   "cell_type": "markdown",
   "metadata": {},
   "source": [
    "# Algorithm refactoring"
   ]
  },
  {
   "cell_type": "markdown",
   "metadata": {},
   "source": [
    "## Layout\n",
    "\n",
    "```\n",
    "QuICT/algorithm/quantum_algorithm/\n",
    "├── __init__.py\n",
    "├── grover\n",
    "│   ├── __init__.py\n",
    "│   ├── grover.py\n",
    "│   ├── partial_grover.py\n",
    "│   └── search_with_prior_knowledge.py\n",
    "└── shor\n",
    "    ├── __init__.py\n",
    "    ├── BEA.py\n",
    "    ├── BEA_zip.py\n",
    "    ├── HRS.py\n",
    "    ├── HRS_zip.py\n",
    "    ├── shor_factor.py\n",
    "    └── utility.py\n",
    "```"
   ]
  },
  {
   "cell_type": "code",
   "execution_count": 10,
   "metadata": {},
   "outputs": [],
   "source": [
    "from QuICT.core.gate import *\n",
    "from QuICT.simulation.gpu_simulator import ConstantStateVectorSimulator\n",
    "\n",
    "import random\n",
    "random.seed(2022)"
   ]
  },
  {
   "cell_type": "markdown",
   "metadata": {},
   "source": [
    "## Grover Module\n",
    "\n",
    "This Module implements the most basic (partial) Grover search algorithm.[1][2]\n",
    "\n",
    "- bug fix: use `MCTOneAux` instead of `MCTLinearOneDirtyAux` to avoid unexpected behaviour"
   ]
  },
  {
   "cell_type": "markdown",
   "metadata": {},
   "source": [
    "The overall circuit for Grover search which uses $\\lceil\\frac{\\pi}{4}\\sqrt{N}\\rceil$ oracle calls for large $N$:\n",
    "\n",
    "![circuit](./basic_Grover_circuit.png)\n",
    "\n",
    "Phase part which uses $O(n)=O(\\log N)$ elementary gates (with MCT implemented in $O(n)$ elementary gates and 1 ancillary qubit): 标记文献\n",
    "\n",
    "![phase-circuit](./phase_circuit.png)\n",
    "\n",
    "Partial Grover search use local Grover operation along with global Grover iteration:图画错了！我得改一下\n",
    "\n",
    "![partial-grover-circuit](./partial_Grover_circuit.png)\n",
    "\n",
    "And local Grover operation is shown below:\n",
    "\n",
    "![local-grover-iter](./local_g_iter_circuit.png)"
   ]
  },
  {
   "cell_type": "markdown",
   "metadata": {},
   "source": [
    "### example"
   ]
  },
  {
   "cell_type": "markdown",
   "metadata": {},
   "source": [
    "To start with, we construct the oracle $O\\ket{x}\\ket{-}\\ket{0}=(-1)^{f(x)}\\ket{x}\\ket{-}\\ket{0}$ which use 2 ancillary qubits (one ancilla for phase flip, one ancilla for MCT). 电路中的辅助比特所用到的门（之后可以考虑把a1从用户输入中去掉）；举一个容易构造oracle但是解不容易得到的情况（CNF-SAT问题）；输出振幅分布（图形化）实际上也包含了成功率的信息\n",
    "\n",
    "For example, `main_oracle(3,[0x011])`:\n",
    "\n",
    "![oracle](./oracle_circuit.png)"
   ]
  },
  {
   "cell_type": "code",
   "execution_count": 11,
   "metadata": {},
   "outputs": [],
   "source": [
    "import logging\n",
    "logger = logging.getLogger()\n",
    "logger.setLevel(logging.INFO)\n",
    "from QuICT.algorithm.quantum_algorithm.grover import Grover,PartialGrover\n",
    "from QuICT.qcda.synthesis.mct import MCTOneAux\n",
    "\n",
    "def main_oracle(n, f):\n",
    "    assert len(f) == 1, \"only 1 target support for this oracle\"\n",
    "    assert f[0] >= 0 and f[0] < (1 << n)\n",
    "    result_q = [n]\n",
    "    cgate = CompositeGate()\n",
    "    target_binary = bin(f[0])[2:].rjust(n, \"0\")\n",
    "    with cgate:\n",
    "        # |-> in result_q\n",
    "        X & result_q[0]\n",
    "        H & result_q[0]\n",
    "        # prepare for MCT\n",
    "        for i in range(n):\n",
    "            if target_binary[i] == \"0\":\n",
    "                X & i\n",
    "    MCTOneAux.execute(n + 2) | cgate\n",
    "    # un-compute\n",
    "    with cgate:\n",
    "        for i in range(n):\n",
    "            if target_binary[i] == \"0\":\n",
    "                X & i\n",
    "        H & result_q[0]\n",
    "        X & result_q[0]\n",
    "    return 2, cgate"
   ]
  },
  {
   "cell_type": "code",
   "execution_count": 12,
   "metadata": {},
   "outputs": [
    {
     "data": {
      "text/plain": [
       "24.83647066449025"
      ]
     },
     "execution_count": 12,
     "metadata": {},
     "output_type": "execute_result"
    }
   ],
   "source": [
    "np.sqrt(1000)*(np.pi/4)"
   ]
  },
  {
   "cell_type": "markdown",
   "metadata": {},
   "source": [
    "Construct Grover search circuit on oracle with $f(x)=[x=target]$ and run:"
   ]
  },
  {
   "cell_type": "code",
   "execution_count": 13,
   "metadata": {},
   "outputs": [
    {
     "name": "stdout",
     "output_type": "stream",
     "text": [
      "run with n = 10\n"
     ]
    },
    {
     "name": "stderr",
     "output_type": "stream",
     "text": [
      "INFO:root:circuit width          =   12\n",
      "INFO:root:oracle  calls          =   25\n",
      "INFO:root:other circuit size     = 2420\n"
     ]
    },
    {
     "name": "stdout",
     "output_type": "stream",
     "text": [
      "target = 591\n",
      "result = 591\n"
     ]
    }
   ],
   "source": [
    "n = 10\n",
    "print(f\"run with n = {n}\")\n",
    "target = random.randrange(0,1<<n)\n",
    "k, oracle = main_oracle(n, [target])\n",
    "circ = Grover.circuit(n, k, oracle)\n",
    "\n",
    "ConstantStateVectorSimulator().run(circ)\n",
    "result = int(circ[list(range(n))])\n",
    "print(f\"target = {target}\")\n",
    "print(f\"result = {result}\")"
   ]
  },
  {
   "cell_type": "markdown",
   "metadata": {},
   "source": [
    "Construct Partial Grover search circuit on oracle with $f(x)=[x=target]$ and run: 做成表格对比一下（电路中oracle次数、电路大小、振幅分布）；提一下partial grover解决的问题和原始问题的区别"
   ]
  },
  {
   "cell_type": "code",
   "execution_count": 14,
   "metadata": {},
   "outputs": [
    {
     "name": "stderr",
     "output_type": "stream",
     "text": [
      "INFO:root:circuit width          =   13\n",
      "INFO:root:oracle  calls          =   21\n",
      "INFO:root:other circuit size     = 2038\n"
     ]
    },
    {
     "name": "stdout",
     "output_type": "stream",
     "text": [
      "run with n = 10, block size = 3\n",
      "target 632(1001111000) in block 100\n",
      "result 632(1001111000) in block 100\n"
     ]
    }
   ],
   "source": [
    "n = 10\n",
    "n_block = 3\n",
    "print(f\"run with n = {n}, block size = {n_block}\")\n",
    "target = random.randrange(0,1<<n)\n",
    "k, oracle = main_oracle(n, [target])\n",
    "circ = PartialGrover.circuit(n, n_block, k, oracle)\n",
    "\n",
    "ConstantStateVectorSimulator().run(circ)\n",
    "result = int(circ[list(range(n))])\n",
    "target_bin = bin(target)[2:].rjust(n,'0')\n",
    "result_bin = bin(result)[2:].rjust(n,'0')\n",
    "print(f\"target {target}({target_bin}) in block {target_bin[:n_block]}\")\n",
    "print(f\"result {result}({result_bin}) in block {result_bin[:n_block]}\")"
   ]
  },
  {
   "cell_type": "markdown",
   "metadata": {},
   "source": [
    "Partial search uses fewer Oracle calls and only guarantees to find block address:\n",
    "\n",
    "```\n",
    "run with n = 10, block size = 3\n",
    "target 650(1010001010) in block 101\n",
    "result 693(1010110101) in block 101\n",
    "```"
   ]
  },
  {
   "cell_type": "markdown",
   "metadata": {},
   "source": [
    "## Shor Module\n",
    "\n",
    "This module includes four implementations of Shor factoring algorithm[3][4], which differs in the operator $U\\ket{y}\\equiv \\ket{xy(\\text{mod }N)}$ and usage of one-bit trick. 添加之前的shor实现；\n",
    "\n",
    "-  `circuit` method support by using `Trigger` operator\n",
    "- bug fix: little-endian IQFT/QFT in arithmetic circuit and big-endian IQFT/QFT in QPE circuit\n",
    "- bug fix: use $CU1(\\theta) = \\begin{bmatrix}\n",
    " 1 & 0 & 0 & 0\\\\ \n",
    " 0 & 1 & 0 & 0\\\\ \n",
    " 0 & 0 & 1 & 0\\\\ \n",
    " 0 & 0 & 0 & e^{i\\theta}\n",
    "\\end{bmatrix}$ instead of\n",
    "$CR_z(\\theta) = \\begin{bmatrix}\n",
    " 1 & 0 & 0 & 0\\\\ \n",
    " 0 & 1 & 0 & 0\\\\ \n",
    " 0 & 0 & e^{-i\\theta/2} & 0\\\\ \n",
    " 0 & 0 & 0 & e^{i\\theta/2}\n",
    "\\end{bmatrix}$ in QFT/IQFT"
   ]
  },
  {
   "cell_type": "markdown",
   "metadata": {},
   "source": [
    "The quantum part of Shor's factoring algorithm is the order-finding circuit, which can be split into Quantum Phase Estimation (QPE) circuit and modular exponentiation circuit. By using two different constructions of QPE circuit (with or without the one-qubit-trick) and two different constructions of modular exponentiation circuit (in `QuICT.qcda.synthesis.arithmetic.bea` and `QuICT.qcda.synthesis.arithmetic.hrs`), four implementations of Shor's factoring algorithm is given. \n",
    "\n",
    "QPE with one-bit trick:\n",
    "\n",
    "![one-bit](./one_bit_trick.png)"
   ]
  },
  {
   "cell_type": "markdown",
   "metadata": {},
   "source": [
    "### example"
   ]
  },
  {
   "cell_type": "markdown",
   "metadata": {},
   "source": [
    "Use `ShorFactor(mode, N).run()` to factor a number $N$: 包含完整的内容（order-finding、经典处理（例如连分数分解））；成功概率分析和展示（最终输出是否为输入的因子）"
   ]
  },
  {
   "cell_type": "code",
   "execution_count": 15,
   "metadata": {},
   "outputs": [
    {
     "name": "stdout",
     "output_type": "stream",
     "text": [
      "input  = 35\n",
      "output = 5\n"
     ]
    }
   ],
   "source": [
    "logger.setLevel(logging.WARNING)\n",
    "\n",
    "from QuICT.algorithm.quantum_algorithm import ShorFactor\n",
    "\n",
    "input  = 35\n",
    "sf = ShorFactor(mode=\"BEA_zip\", N=input)\n",
    "circ, indices = sf.circuit()\n",
    "\n",
    "output = sf.run(simulator=ConstantStateVectorSimulator(), circuit=circ, indices=indices)\n",
    "print(f\"input  = {input}\")\n",
    "print(f\"output = {output}\")"
   ]
  },
  {
   "cell_type": "markdown",
   "metadata": {},
   "source": [
    "More specificly, the order-finding circuit will run serval times and the output will be least common multiple of results.\n",
    "```\n",
    ">>> output = ShorFactor(mode=\"BEA_zip\", N=21).run(simulator=ConstantStateVectorSimulator())\n",
    "INFO:root:      circuit construction begin: circuit: n = 5 t = 13\n",
    "INFO:root:round = 0\n",
    "INFO:root:Quantumly determine the order of the randomly chosen a = 11\n",
    "INFO:root:      order_finding begin: circuit: n = 5 t = 13\n",
    "INFO:root:      phi~ (approximately s/r) in decimal form is 0.1666259765625\n",
    "INFO:root:      Continued fraction expansion of phi~ is 1/6\n",
    "INFO:root:      success!\n",
    "INFO:root:      order_finding begin: circuit: n = 5 t = 13\n",
    "INFO:root:      phi~ (approximately s/r) in decimal form is 0.3333740234375\n",
    "INFO:root:      Continued fraction expansion of phi~ is 1/3\n",
    "INFO:root:      order_finding begin: circuit: n = 5 t = 13\n",
    "INFO:root:      phi~ (approximately s/r) in decimal form is 0.33349609375\n",
    "INFO:root:      Continued fraction expansion of phi~ is 1/3\n",
    "INFO:root:Shor succeed: found factor 7, with the help of a = 11, r = 6\n",
    "```"
   ]
  },
  {
   "cell_type": "markdown",
   "metadata": {},
   "source": [
    "Not recomended though, one can construct order-finding circuit and then run it on $(p, N)$ where $gcd(p, N)=1$:"
   ]
  },
  {
   "cell_type": "code",
   "execution_count": 16,
   "metadata": {},
   "outputs": [
    {
     "name": "stdout",
     "output_type": "stream",
     "text": [
      "testing (22,35)...\n",
      "phi = 0.25000\n",
      "target = 4\n",
      "result = 4\n"
     ]
    }
   ],
   "source": [
    "from fractions import Fraction\n",
    "from math import gcd\n",
    "from QuICT.algorithm.quantum_algorithm.shor.BEA_zip import construct_circuit as BEA_construct_circuit\n",
    "\n",
    "def naive_order_finding(a, N):\n",
    "    for i in range(1, N):\n",
    "        if (a ** i) % N == 1:\n",
    "            return i\n",
    "    return 0\n",
    "\n",
    "N = 35\n",
    "simulator = ConstantStateVectorSimulator()\n",
    "p = random.choice(list(filter(lambda x: gcd(x, N) == 1, list(range(N)))))\n",
    "print(f\"testing ({p:2},{N:2})...\")\n",
    "circ, indices = BEA_construct_circuit(p, N)\n",
    "simulator.run(circ)\n",
    "phi = eval(\"0b\" + \"\".join([str(trig.measured[0]) for trig in indices])) / (\n",
    "    1 << len(indices)\n",
    ")\n",
    "print(f\"phi = {phi:.5f}\")\n",
    "result = Fraction(phi).limit_denominator(N - 1).denominator\n",
    "print(f\"target = {naive_order_finding(p, N)}\")\n",
    "print(f\"result = {result}\")"
   ]
  },
  {
   "cell_type": "markdown",
   "metadata": {},
   "source": [
    "### Error rate\n",
    "\n",
    "The behaviour of order-finding algorithm is consistent with theoretical prediction. \n",
    "\n",
    "| mode    | original   | reinforced(MAX_ROUND=3)         | $Pr(r\\neq 0\\text{ and }r\\nmid\\text{order}(a,N))$  | repetitions |\n",
    "| ------- | ---------- | ------------------------------- | ---------------------------------------- |---------------|\n",
    "| BEA     | 0.47       | 0.12                            | 0                                        | 108 |\n",
    "| BEA_zip | 0.48       | 0.11                            | 0                                        | 108 |\n",
    "| HRS     | 0.44       | 0.06                            | 0                                        | 108 |\n",
    "| HRS_zip | 0.44       | 0.03                            | 0                                        | 108 |"
   ]
  },
  {
   "cell_type": "markdown",
   "metadata": {},
   "source": [
    "## References\n",
    "\n",
    "[1] Nielsen, M. A., & Chuang, I. L. (2019). Quantum computation and quantum information. Cambridge Cambridge University Press.\n",
    "\n",
    "[2] Grover, L. K., & Radhakrishnan, J. (2005). Is partial quantum search of a database any easier? Proceedings of the 17th Annual ACM Symposium on Parallelism in Algorithms and Architectures - SPAA’05. https://doi.org/10.1145/1073970.1073997\n",
    "\n",
    "[3] Beauregard, S. (2003). Circuit for Shor’s algorithm using 2n+3 qubits. Quantum Information and Computation, 3(2), 175–185. https://doi.org/10.26421/qic3.2-8\n",
    "\n",
    "[4] Haner, T., Roetteler, M., & Svore, K. M. (2017). Factoring using 2n+2 qubits with Toffoli based modular multiplication. Quantum Information and Computation, 17(7&8), 673–684. https://doi.org/10.26421/qic17.7-8-7"
   ]
  }
 ],
 "metadata": {
  "interpreter": {
   "hash": "62959b30ca983c9865b9a330b4e9d526b3abde4350cfeb2ea0428cff8a062abd"
  },
  "kernelspec": {
   "display_name": "Python 3.8.10 ('pengsirui')",
   "language": "python",
   "name": "python3"
  },
  "language_info": {
   "codemirror_mode": {
    "name": "ipython",
    "version": 3
   },
   "file_extension": ".py",
   "mimetype": "text/x-python",
   "name": "python",
   "nbconvert_exporter": "python",
   "pygments_lexer": "ipython3",
   "version": "3.8.10"
  },
  "orig_nbformat": 4
 },
 "nbformat": 4,
 "nbformat_minor": 2
}
