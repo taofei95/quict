{
 "cells": [
  {
   "cell_type": "markdown",
   "metadata": {},
   "source": [
    "# Algorithm refactoring"
   ]
  },
  {
   "cell_type": "markdown",
   "metadata": {},
   "source": [
    "## Layout\n",
    "\n",
    "```\n",
    "QuICT/algorithm/quantum_algorithm/\n",
    "├── __init__.py\n",
    "├── grover\n",
    "│   ├── __init__.py\n",
    "│   ├── grover.py\n",
    "│   ├── partial_grover.py\n",
    "│   └── search_with_prior_knowledge.py\n",
    "└── shor\n",
    "    ├── __init__.py\n",
    "    ├── BEA.py\n",
    "    ├── BEA_zip.py\n",
    "    ├── HRS.py\n",
    "    ├── HRS_zip.py\n",
    "    ├── shor_factor.py\n",
    "    └── utility.py\n",
    "```"
   ]
  },
  {
   "cell_type": "code",
   "execution_count": 15,
   "metadata": {},
   "outputs": [],
   "source": [
    "from QuICT.core.gate import *\n",
    "from QuICT.simulation.gpu_simulator import ConstantStateVectorSimulator\n",
    "\n",
    "import random\n",
    "random.seed(2022)"
   ]
  },
  {
   "cell_type": "markdown",
   "metadata": {},
   "source": [
    "## Grover Module\n",
    "\n",
    "- oracle ancilla support\n",
    "- bug fix: use `MCTOneAux` instead of `MCTLinearOneDirtyAux` to avoid unexpected behaviour"
   ]
  },
  {
   "cell_type": "markdown",
   "metadata": {},
   "source": [
    "### example"
   ]
  },
  {
   "cell_type": "markdown",
   "metadata": {},
   "source": [
    "To start with, we construct the oracle $O\\ket{x}\\ket{-}\\ket{0}=(-1)^{f(x)}\\ket{x}\\ket{-}\\ket{0}$ which use 2 ancillary qubits:"
   ]
  },
  {
   "cell_type": "code",
   "execution_count": 16,
   "metadata": {},
   "outputs": [],
   "source": [
    "from QuICT.algorithm.quantum_algorithm.grover import Grover,PartialGrover\n",
    "from QuICT.qcda.synthesis.mct import MCTOneAux\n",
    "\n",
    "def main_oracle(n, f):\n",
    "    assert len(f) == 1, \"only 1 target support for this oracle\"\n",
    "    assert f[0] >= 0 and f[0] < (1 << n)\n",
    "    result_q = [n]\n",
    "    cgate = CompositeGate()\n",
    "    target_binary = bin(f[0])[2:].rjust(n, \"0\")\n",
    "    with cgate:\n",
    "        # |-> in result_q\n",
    "        X & result_q[0]\n",
    "        H & result_q[0]\n",
    "        # prepare for MCT\n",
    "        for i in range(n):\n",
    "            if target_binary[i] == \"0\":\n",
    "                X & i\n",
    "    MCTOneAux.execute(n + 2) | cgate\n",
    "    # un-compute\n",
    "    with cgate:\n",
    "        for i in range(n):\n",
    "            if target_binary[i] == \"0\":\n",
    "                X & i\n",
    "        H & result_q[0]\n",
    "        X & result_q[0]\n",
    "    return 2, cgate"
   ]
  },
  {
   "cell_type": "markdown",
   "metadata": {},
   "source": [
    "Construct Grover search circuit on oracle with $f(x)=[x=target]$ and run:"
   ]
  },
  {
   "cell_type": "code",
   "execution_count": 17,
   "metadata": {},
   "outputs": [
    {
     "name": "stdout",
     "output_type": "stream",
     "text": [
      "run with n = 10\n",
      "target = 591\n",
      "result = 591\n"
     ]
    }
   ],
   "source": [
    "n = 10\n",
    "print(f\"run with n = {n}\")\n",
    "target = random.randrange(0,1<<n)\n",
    "k, oracle = main_oracle(n, [target])\n",
    "circ = Grover.circuit(n, k, oracle)\n",
    "\n",
    "ConstantStateVectorSimulator().run(circ)\n",
    "result = int(circ[list(range(n))])\n",
    "print(f\"target = {target}\")\n",
    "print(f\"result = {result}\")"
   ]
  },
  {
   "cell_type": "markdown",
   "metadata": {},
   "source": [
    "Construct Partial Grover search circuit on oracle with $f(x)=[x=target]$ and run:"
   ]
  },
  {
   "cell_type": "code",
   "execution_count": 18,
   "metadata": {},
   "outputs": [
    {
     "name": "stdout",
     "output_type": "stream",
     "text": [
      "run with n = 10, block size = 3\n",
      "target in block 100\n",
      "result in block 100\n"
     ]
    }
   ],
   "source": [
    "n = 10\n",
    "n_block = 3\n",
    "print(f\"run with n = {n}, block size = {n_block}\")\n",
    "target = random.randrange(0,1<<n)\n",
    "k, oracle = main_oracle(n, [target])\n",
    "circ = PartialGrover.circuit(n, n_block, k, oracle)\n",
    "\n",
    "ConstantStateVectorSimulator().run(circ)\n",
    "result = int(circ[list(range(n))])\n",
    "print(f\"target in block {bin(target)[2:2+n_block]}\")\n",
    "print(f\"result in block {bin(result)[2:2+n_block]}\")"
   ]
  },
  {
   "cell_type": "markdown",
   "metadata": {},
   "source": [
    "## Shor Module\n",
    "\n",
    "-  `circuit` method support by using `Trigger` operator\n",
    "- bug fix: little-endian IQFT/QFT in arithmetic circuit and big-endian IQFT/QFT in QPE circuit\n",
    "- bug fix: use $CU1(\\theta) = \\begin{bmatrix}\n",
    " 1 & 0 & 0 & 0\\\\ \n",
    " 0 & 1 & 0 & 0\\\\ \n",
    " 0 & 0 & 1 & 0\\\\ \n",
    " 0 & 0 & 0 & e^{i\\theta}\n",
    "\\end{bmatrix}$ instead of\n",
    "$CR_z(\\theta) = \\begin{bmatrix}\n",
    " 1 & 0 & 0 & 0\\\\ \n",
    " 0 & 1 & 0 & 0\\\\ \n",
    " 0 & 0 & e^{-i\\theta/2} & 0\\\\ \n",
    " 0 & 0 & 0 & e^{i\\theta/2}\n",
    "\\end{bmatrix}$ in QFT/IQFT"
   ]
  },
  {
   "cell_type": "markdown",
   "metadata": {},
   "source": [
    "The quantum part of Shor's factoring algorithm is the order-finding circuit, which can be split into Quantum Phase Estimation (QPE) circuit and modular exponentiation circuit. By using two different constructions of QPE circuit (with or without the one-qubit-trick) and two different constructions of modular exponentiation circuit (in `QuICT.qcda.synthesis.arithmetic.bea` and `QuICT.qcda.synthesis.arithmetic.hrs`), four implementations of Shor's factoring algorithm is given. "
   ]
  },
  {
   "cell_type": "markdown",
   "metadata": {},
   "source": [
    "### example"
   ]
  },
  {
   "cell_type": "markdown",
   "metadata": {},
   "source": [
    "Use `ShorFactor(mode, N).run()` to factor a number $N$:"
   ]
  },
  {
   "cell_type": "code",
   "execution_count": 19,
   "metadata": {},
   "outputs": [
    {
     "name": "stdout",
     "output_type": "stream",
     "text": [
      "input  = 35\n",
      "output = 5\n"
     ]
    }
   ],
   "source": [
    "from QuICT.algorithm.quantum_algorithm import ShorFactor\n",
    "\n",
    "input  = 35\n",
    "sf = ShorFactor(mode=\"BEA_zip\", N=input)\n",
    "circ, indices = sf.circuit()\n",
    "\n",
    "output = sf.run(simulator=ConstantStateVectorSimulator(), circuit=circ, indices=indices)\n",
    "print(f\"input  = {input}\")\n",
    "print(f\"output = {output}\")"
   ]
  },
  {
   "cell_type": "markdown",
   "metadata": {},
   "source": [
    "More specificly, the order-finding circuit will run serval times and the output will be least common multiple of results.\n",
    "```\n",
    ">>> output = ShorFactor(mode=\"BEA_zip\", N=21).run(simulator=ConstantStateVectorSimulator())\n",
    "INFO:root:      circuit construction begin: circuit: n = 5 t = 13\n",
    "INFO:root:round = 0\n",
    "INFO:root:Quantumly determine the order of the randomly chosen a = 11\n",
    "INFO:root:      order_finding begin: circuit: n = 5 t = 13\n",
    "INFO:root:      phi~ (approximately s/r) in decimal form is 0.1666259765625\n",
    "INFO:root:      Continued fraction expansion of phi~ is 1/6\n",
    "INFO:root:      success!\n",
    "INFO:root:      order_finding begin: circuit: n = 5 t = 13\n",
    "INFO:root:      phi~ (approximately s/r) in decimal form is 0.3333740234375\n",
    "INFO:root:      Continued fraction expansion of phi~ is 1/3\n",
    "INFO:root:      order_finding begin: circuit: n = 5 t = 13\n",
    "INFO:root:      phi~ (approximately s/r) in decimal form is 0.33349609375\n",
    "INFO:root:      Continued fraction expansion of phi~ is 1/3\n",
    "INFO:root:Shor succeed: found factor 7, with the help of a = 11, r = 6\n",
    "```"
   ]
  },
  {
   "cell_type": "markdown",
   "metadata": {},
   "source": [
    "Not recomended though, one can construct order-finding circuit and then run it on $(p, N)$ where $gcd(p, N)=1$:"
   ]
  },
  {
   "cell_type": "code",
   "execution_count": 20,
   "metadata": {},
   "outputs": [
    {
     "name": "stdout",
     "output_type": "stream",
     "text": [
      "testing (22,35)...\n",
      "phi = 0.25000\n",
      "target = 4\n",
      "result = 4\n"
     ]
    }
   ],
   "source": [
    "from fractions import Fraction\n",
    "from math import gcd\n",
    "from QuICT.algorithm.quantum_algorithm.shor.BEA_zip import construct_circuit as BEA_construct_circuit\n",
    "\n",
    "def naive_order_finding(a, N):\n",
    "    for i in range(1, N):\n",
    "        if (a ** i) % N == 1:\n",
    "            return i\n",
    "    return 0\n",
    "\n",
    "N = 35\n",
    "simulator = ConstantStateVectorSimulator()\n",
    "p = random.choice(list(filter(lambda x: gcd(x, N) == 1, list(range(N)))))\n",
    "print(f\"testing ({p:2},{N:2})...\")\n",
    "circ, indices = BEA_construct_circuit(p, N)\n",
    "simulator.run(circ)\n",
    "phi = eval(\"0b\" + \"\".join([str(trig.measured[0]) for trig in indices])) / (\n",
    "    1 << len(indices)\n",
    ")\n",
    "print(f\"phi = {phi:.5f}\")\n",
    "result = Fraction(phi).limit_denominator(N - 1).denominator\n",
    "print(f\"target = {naive_order_finding(p, N)}\")\n",
    "print(f\"result = {result}\")"
   ]
  }
 ],
 "metadata": {
  "interpreter": {
   "hash": "62959b30ca983c9865b9a330b4e9d526b3abde4350cfeb2ea0428cff8a062abd"
  },
  "kernelspec": {
   "display_name": "Python 3.8.10 ('pengsirui')",
   "language": "python",
   "name": "python3"
  },
  "language_info": {
   "codemirror_mode": {
    "name": "ipython",
    "version": 3
   },
   "file_extension": ".py",
   "mimetype": "text/x-python",
   "name": "python",
   "nbconvert_exporter": "python",
   "pygments_lexer": "ipython3",
   "version": "3.8.10"
  },
  "orig_nbformat": 4
 },
 "nbformat": 4,
 "nbformat_minor": 2
}
