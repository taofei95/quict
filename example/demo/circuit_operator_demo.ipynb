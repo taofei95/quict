{
 "cells": [
  {
   "cell_type": "code",
   "execution_count": 1,
   "id": "c16530b5",
   "metadata": {},
   "outputs": [],
   "source": [
    "from QuICT.core import Circuit\n",
    "from QuICT.core.gate import *\n",
    "from QuICT.core.operator import *\n",
    "\n",
    "from QuICT.simulation.state_vector import ConstantStateVectorSimulator"
   ]
  },
  {
   "cell_type": "code",
   "execution_count": 2,
   "id": "7d9a730e",
   "metadata": {},
   "outputs": [],
   "source": [
    "# Build Based Circuit\n",
    "qubits = 5\n",
    "cir = Circuit(qubits)\n",
    "cir.random_append(20)\n",
    "\n",
    "# Build test CompositeGate\n",
    "cgate0 = CompositeGate()\n",
    "X | cgate0(0)\n",
    "X | cgate0(1)\n",
    "cgate1 = CompositeGate()\n",
    "Y | cgate1(0)\n",
    "Y | cgate1(1)\n",
    "\n",
    "# Build Simulator\n",
    "sim = ConstantStateVectorSimulator()"
   ]
  },
  {
   "cell_type": "code",
   "execution_count": 3,
   "id": "fe366e00",
   "metadata": {},
   "outputs": [
    {
     "name": "stdout",
     "output_type": "stream",
     "text": [
      "OPENQASM 2.0;\n",
      "include \"qelib1.inc\";\n",
      "qreg q[5];\n",
      "creg c[0];\n",
      "crz(1.5707963267948966) q[0], q[4];\n",
      "fsim(1.5707963267948966, 0) q[0], q[3];\n",
      "crz(1.5707963267948966) q[4], q[0];\n",
      "Rxx(0) q[2], q[0];\n",
      "cy q[1], q[0];\n",
      "Ryy(1.5707963267948966) q[4], q[3];\n",
      "Rxx(0) q[1], q[4];\n",
      "fsim(1.5707963267948966, 0) q[3], q[0];\n",
      "Rxx(0) q[4], q[0];\n",
      "rx(1.5707963267948966) q[1];\n",
      "cx q[1], q[4];\n",
      "rz(1.5707963267948966) q[3];\n",
      "rx(1.5707963267948966) q[0];\n",
      "Rzz(1.5707963267948966) q[4], q[3];\n",
      "rz(1.5707963267948966) q[2];\n",
      "rx(1.5707963267948966) q[2];\n",
      "rx(1.5707963267948966) q[0];\n",
      "Rzz(1.5707963267948966) q[2], q[0];\n",
      "crz(1.5707963267948966) q[2], q[4];\n",
      "cx q[2], q[4];\n",
      "x q[0];\n",
      "x q[1];\n",
      "crz(1.5707963267948966) q[3], q[0];\n",
      "crz(1.5707963267948966) q[1], q[2];\n",
      "ry(1.5707963267948966) q[3];\n",
      "Rxx(0) q[0], q[4];\n",
      "cx q[1], q[0];\n",
      "ry(1.5707963267948966) q[1];\n",
      "Ryy(1.5707963267948966) q[2], q[4];\n",
      "Rzz(1.5707963267948966) q[0], q[1];\n",
      "cz q[2], q[0];\n",
      "cy q[2], q[1];\n",
      "\n"
     ]
    }
   ],
   "source": [
    "# Initial CheckPoint and CheckPointChild\n",
    "cp = CheckPoint()\n",
    "cp_child = cp.get_child()\n",
    "\n",
    "# add CheckPoint into Circuit\n",
    "cp | cir\n",
    "cir.random_append(10)\n",
    "# add CompositeGate with cp_child into cir\n",
    "cp_child | cgate0\n",
    "cgate0 | cir\n",
    "\n",
    "# show the circuit's qasm\n",
    "print(cir.qasm())"
   ]
  },
  {
   "cell_type": "code",
   "execution_count": 4,
   "id": "a18c8b60",
   "metadata": {},
   "outputs": [],
   "source": [
    "# Add Trigger\n",
    "state_mapping = {\n",
    "    0: cgate0,\n",
    "    1: cgate1\n",
    "}\n",
    "\n",
    "trigger = Trigger(\n",
    "    targets=1,\n",
    "    state_gate_mapping=state_mapping,\n",
    "    record_measured=True\n",
    ")\n",
    "\n",
    "trigger | cir(0)"
   ]
  },
  {
   "cell_type": "code",
   "execution_count": 6,
   "id": "6a2388db",
   "metadata": {},
   "outputs": [
    {
     "name": "stdout",
     "output_type": "stream",
     "text": [
      "[ 0.00000000e+00+0.00000000e+00j  0.00000000e+00+0.00000000e+00j\n",
      "  0.00000000e+00+0.00000000e+00j  0.00000000e+00+0.00000000e+00j\n",
      "  0.00000000e+00+0.00000000e+00j  0.00000000e+00+0.00000000e+00j\n",
      "  0.00000000e+00+0.00000000e+00j  0.00000000e+00+0.00000000e+00j\n",
      "  0.00000000e+00+0.00000000e+00j  0.00000000e+00+0.00000000e+00j\n",
      "  0.00000000e+00+0.00000000e+00j  0.00000000e+00+0.00000000e+00j\n",
      "  0.00000000e+00+0.00000000e+00j  0.00000000e+00+0.00000000e+00j\n",
      "  0.00000000e+00+0.00000000e+00j  0.00000000e+00+0.00000000e+00j\n",
      " -3.26096418e-17+1.79602524e-17j -2.50000000e-01-2.50000000e-01j\n",
      " -2.62688254e-17+2.65216738e-18j -2.50000000e-01-2.50000000e-01j\n",
      " -2.50000000e-01+2.50000000e-01j  1.15104767e-16+1.09607404e-17j\n",
      " -2.50000000e-01+2.50000000e-01j  9.97966820e-17+4.79177268e-17j\n",
      "  2.03413043e-17+2.11129060e-17j  7.90939352e-18-3.53553391e-01j\n",
      "  5.03321933e-18+1.47720895e-17j  7.90939352e-18-3.53553391e-01j\n",
      "  3.53553391e-01+3.13429179e-17j -5.60471467e-17-3.42190921e-17j\n",
      "  3.53553391e-01+2.20026363e-19j -1.90901603e-17-1.89110071e-17j]\n",
      "0\n"
     ]
    }
   ],
   "source": [
    "state = sim.run(cir)\n",
    "print(state)\n",
    "print(cir.qubits[0].measured)"
   ]
  },
  {
   "cell_type": "code",
   "execution_count": 9,
   "id": "aa5a82d2",
   "metadata": {},
   "outputs": [
    {
     "name": "stdout",
     "output_type": "stream",
     "text": [
      "[-4.26776695e-01-1.76776695e-01j  4.86989377e-17-5.03083881e-17j\n",
      " -4.26776695e-01-1.76776695e-01j  6.40070227e-17-5.66492045e-17j\n",
      " -2.51872252e-17-3.45677891e-17j -1.76776695e-01-7.32233047e-02j\n",
      " -6.21442116e-17-1.92597041e-17j -1.76776695e-01-7.32233047e-02j\n",
      "  4.26776695e-01+1.76776695e-01j -7.38943082e-17+1.11302842e-17j\n",
      "  4.26776695e-01+1.76776695e-01j -6.75534918e-17+2.64383692e-17j\n",
      "  1.66252914e-17-3.83676190e-17j  1.76776695e-01+7.32233047e-02j\n",
      "  1.31720638e-18-7.53246054e-17j  1.76776695e-01+7.32233047e-02j\n",
      "  0.00000000e+00-0.00000000e+00j  0.00000000e+00-0.00000000e+00j\n",
      "  0.00000000e+00-0.00000000e+00j  0.00000000e+00-0.00000000e+00j\n",
      "  0.00000000e+00-0.00000000e+00j  0.00000000e+00-0.00000000e+00j\n",
      "  0.00000000e+00-0.00000000e+00j  0.00000000e+00-0.00000000e+00j\n",
      "  0.00000000e+00+0.00000000e+00j  0.00000000e+00+0.00000000e+00j\n",
      "  0.00000000e+00+0.00000000e+00j  0.00000000e+00+0.00000000e+00j\n",
      "  0.00000000e+00+0.00000000e+00j  0.00000000e+00+0.00000000e+00j\n",
      "  0.00000000e+00+0.00000000e+00j  0.00000000e+00+0.00000000e+00j]\n",
      "1\n"
     ]
    }
   ],
   "source": [
    "state = sim.run(cir)\n",
    "print(state)\n",
    "print(cir.qubits[0].measured)"
   ]
  },
  {
   "cell_type": "code",
   "execution_count": 12,
   "id": "3d9446fe",
   "metadata": {},
   "outputs": [],
   "source": [
    "# Add NoiseGate\n",
    "from QuICT.core.noise import BitflipError\n",
    "noise = BitflipError(0.05)\n",
    "\n",
    "ng = NoiseGate(\n",
    "    gate = H,\n",
    "    error = noise\n",
    ")\n",
    "ng | cir(0)"
   ]
  },
  {
   "cell_type": "code",
   "execution_count": 13,
   "id": "87b21403",
   "metadata": {},
   "outputs": [],
   "source": [
    "# Add DataSwitch and DeviceTrigger\n",
    "# build CompositeGate with DataSwitch\n",
    "cgate0 = CompositeGate()\n",
    "DataSwitch(\n",
    "    destination = 1,\n",
    "    type = DataSwitchType.half\n",
    ") | cgate0\n",
    "cgate1 = CompositeGate()\n",
    "DataSwitch(\n",
    "    destination = 0,\n",
    "    type = DataSwitchType.half\n",
    ") | cgate1\n",
    "\n",
    "device_gate_mapping = {\n",
    "    0: cgate0,\n",
    "    1: cgate1\n",
    "}\n",
    "\n",
    "device_trigger = DeviceTrigger(device_gate_mapping)\n",
    "device_trigger | cir"
   ]
  },
  {
   "cell_type": "code",
   "execution_count": null,
   "id": "e917c154",
   "metadata": {},
   "outputs": [],
   "source": []
  }
 ],
 "metadata": {
  "kernelspec": {
   "display_name": "Python 3",
   "language": "python",
   "name": "python3"
  },
  "language_info": {
   "codemirror_mode": {
    "name": "ipython",
    "version": 3
   },
   "file_extension": ".py",
   "mimetype": "text/x-python",
   "name": "python",
   "nbconvert_exporter": "python",
   "pygments_lexer": "ipython3",
   "version": "3.8.5"
  }
 },
 "nbformat": 4,
 "nbformat_minor": 5
}
