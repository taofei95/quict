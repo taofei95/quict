{
 "cells": [
  {
   "cell_type": "markdown",
   "metadata": {},
   "source": [
    "# Tutorial: Shor's factoring algorithm\n",
    "\n",
    "## Algorithm and its variant\n",
    "\n",
    "The quantum part of Shor's factoring algorithm is the order-finding circuit, which can be split into Quantum Phase Estimation (QPE) circuit and modular exponentiation circuit. By using two different constructions of QPE circuit (with or without the one-qubit-trick) and two different constructions of modular exponentiation circuit (in `QuICT.qcda.synthesis.arithmetic.bea` and `QuICT.qcda.synthesis.arithmetic.hrs`), four implementations of Shor's factoring algorithm is given. \n",
    "\n",
    "QPE with one-bit trick:\n",
    "\n",
    "<center>\n",
    "<img src='./one_bit_trick.png'>\n",
    "</center>\n",
    "\n",
    "The following procedure gives textbook version of full algorithm including the classical part:\n",
    "\n",
    "- Inputs: A composite number $N$\n",
    "- Outputs: A non-trivial factor of $N$\n",
    "- Runtime: $O((\\log N)^3)$ operations. Succeeds with probability $O(1)$.\n",
    "\n",
    "1. If $N$ is even, return the factor $2$.\n",
    "2. classically determine whether $N=a^b,\\exist a\\geq 1,b\\geq 2$. if yes return $a$.\n",
    "3. Randomly choose $x$ in the range $1$ to $N−1$. If $gcd(x, N) > 1$ then return the factor $gcd(x, N)$.\n",
    "4. run order-finding subroutine $k$ times to get the phase $s_i/r_i,i=1...k$, then run continued fractions algorithm (discard zero result) to get $r_i,i=1...{k'}$, then use $r=lcm(r_1...r_{k'})$ as order.\n",
    "5. If order $r$ is even and $x^{r/2} = − 1(mod N)$ then compute $gcd(x^{r/2} − 1, N)$ and $gcd(x^{r/2 + 1}, N)$, and test to see if one of these is a non-trivial factor, returning that factor if so. Otherwise, goto step 3 until max iteration limits is reached. In that case, the algorithm fails.\n",
    "\n",
    "This module includes four implementations of Shor factoring algorithm[1][2], which differs in the operator $U\\ket{y}\\equiv \\ket{xy(\\text{mod }N)}$ and usage of one-bit trick. "
   ]
  },
  {
   "cell_type": "markdown",
   "metadata": {},
   "source": [
    "## Example\n",
    "\n",
    "Use `ShorFactor(mode, N).run()` to factor a number $N$ by QuICT's built-in implementation of Shor's algorithm:"
   ]
  },
  {
   "cell_type": "code",
   "execution_count": 1,
   "metadata": {
    "ExecuteTime": {
     "end_time": "2022-12-30T08:38:15.017701Z",
     "start_time": "2022-12-30T08:38:14.337118Z"
    }
   },
   "outputs": [
    {
     "ename": "ImportError",
     "evalue": "cannot import name 'ConstantStateVectorSimulator' from 'QuICT.simulation.state_vector' (/home/me/quict/QuICT/simulation/state_vector/__init__.py)",
     "output_type": "error",
     "traceback": [
      "\u001b[0;31m---------------------------------------------------------------------------\u001b[0m",
      "\u001b[0;31mImportError\u001b[0m                               Traceback (most recent call last)",
      "Cell \u001b[0;32mIn[1], line 2\u001b[0m\n\u001b[1;32m      1\u001b[0m \u001b[38;5;28;01mfrom\u001b[39;00m \u001b[38;5;21;01mQuICT\u001b[39;00m\u001b[38;5;21;01m.\u001b[39;00m\u001b[38;5;21;01msimulation\u001b[39;00m\u001b[38;5;21;01m.\u001b[39;00m\u001b[38;5;21;01mstate_vector\u001b[39;00m\u001b[38;5;21;01m.\u001b[39;00m\u001b[38;5;21;01mcpu_simulator\u001b[39;00m \u001b[38;5;28;01mimport\u001b[39;00m CircuitSimulator\n\u001b[0;32m----> 2\u001b[0m \u001b[38;5;28;01mfrom\u001b[39;00m \u001b[38;5;21;01mQuICT\u001b[39;00m\u001b[38;5;21;01m.\u001b[39;00m\u001b[38;5;21;01malgorithm\u001b[39;00m\u001b[38;5;21;01m.\u001b[39;00m\u001b[38;5;21;01mquantum_algorithm\u001b[39;00m \u001b[38;5;28;01mimport\u001b[39;00m ShorFactor\n\u001b[1;32m      4\u001b[0m \u001b[38;5;28minput\u001b[39m  \u001b[38;5;241m=\u001b[39m \u001b[38;5;241m35\u001b[39m\n\u001b[1;32m      5\u001b[0m sf \u001b[38;5;241m=\u001b[39m ShorFactor(mode\u001b[38;5;241m=\u001b[39m\u001b[38;5;124m\"\u001b[39m\u001b[38;5;124mBEA_zip\u001b[39m\u001b[38;5;124m\"\u001b[39m, N\u001b[38;5;241m=\u001b[39m\u001b[38;5;28minput\u001b[39m, max_rd\u001b[38;5;241m=\u001b[39m\u001b[38;5;241m1\u001b[39m)\n",
      "File \u001b[0;32m~/quict/QuICT/algorithm/__init__.py:8\u001b[0m\n\u001b[1;32m      1\u001b[0m \u001b[38;5;66;03m#!/usr/bin/env python\u001b[39;00m\n\u001b[1;32m      2\u001b[0m \u001b[38;5;66;03m# -*- coding:utf8 -*-\u001b[39;00m\n\u001b[1;32m      3\u001b[0m \u001b[38;5;66;03m# @TIME    : 2020/2/11 10:30\u001b[39;00m\n\u001b[1;32m      4\u001b[0m \u001b[38;5;66;03m# @Author  : Han Yu\u001b[39;00m\n\u001b[1;32m      5\u001b[0m \u001b[38;5;66;03m# @File    : __init__.py.py\u001b[39;00m\n\u001b[1;32m      7\u001b[0m \u001b[38;5;28;01mfrom\u001b[39;00m \u001b[38;5;21;01m.\u001b[39;00m\u001b[38;5;21;01m_algorithm\u001b[39;00m \u001b[38;5;28;01mimport\u001b[39;00m Algorithm\n\u001b[0;32m----> 8\u001b[0m \u001b[38;5;28;01mfrom\u001b[39;00m \u001b[38;5;21;01m.\u001b[39;00m\u001b[38;5;21;01mquantum_algorithm\u001b[39;00m \u001b[38;5;28;01mimport\u001b[39;00m \u001b[38;5;241m*\u001b[39m\n\u001b[1;32m      9\u001b[0m \u001b[38;5;28;01mfrom\u001b[39;00m \u001b[38;5;21;01m.\u001b[39;00m\u001b[38;5;21;01msynthetical_unitary\u001b[39;00m \u001b[38;5;28;01mimport\u001b[39;00m SyntheticalUnitary\n\u001b[1;32m     10\u001b[0m \u001b[38;5;28;01mfrom\u001b[39;00m \u001b[38;5;21;01m.\u001b[39;00m\u001b[38;5;21;01mweight_decision\u001b[39;00m \u001b[38;5;28;01mimport\u001b[39;00m WeightDecision\n",
      "File \u001b[0;32m~/quict/QuICT/algorithm/quantum_algorithm/__init__.py:1\u001b[0m\n\u001b[0;32m----> 1\u001b[0m \u001b[38;5;28;01mfrom\u001b[39;00m \u001b[38;5;21;01m.\u001b[39;00m\u001b[38;5;21;01mgrover\u001b[39;00m \u001b[38;5;28;01mimport\u001b[39;00m \u001b[38;5;241m*\u001b[39m\n\u001b[1;32m      2\u001b[0m \u001b[38;5;28;01mfrom\u001b[39;00m \u001b[38;5;21;01m.\u001b[39;00m\u001b[38;5;21;01mshor\u001b[39;00m \u001b[38;5;28;01mimport\u001b[39;00m \u001b[38;5;241m*\u001b[39m\n\u001b[1;32m      3\u001b[0m \u001b[38;5;28;01mfrom\u001b[39;00m \u001b[38;5;21;01m.\u001b[39;00m\u001b[38;5;21;01mamplitude_estimate\u001b[39;00m \u001b[38;5;28;01mimport\u001b[39;00m QAE, OracleInfo, StatePreparationInfo\n",
      "File \u001b[0;32m~/quict/QuICT/algorithm/quantum_algorithm/grover/__init__.py:8\u001b[0m\n\u001b[1;32m      1\u001b[0m \u001b[38;5;66;03m#!/usr/bin/env python\u001b[39;00m\n\u001b[1;32m      2\u001b[0m \u001b[38;5;66;03m# -*- coding:utf8 -*-\u001b[39;00m\n\u001b[1;32m      3\u001b[0m \u001b[38;5;66;03m# @TIME    : 2021/1/11 2:04 下午\u001b[39;00m\n\u001b[1;32m      4\u001b[0m \u001b[38;5;66;03m# @Author  : Han Yu\u001b[39;00m\n\u001b[1;32m      5\u001b[0m \u001b[38;5;66;03m# @File    : __init__.py\u001b[39;00m\n\u001b[1;32m      7\u001b[0m \u001b[38;5;28;01mfrom\u001b[39;00m \u001b[38;5;21;01m.\u001b[39;00m\u001b[38;5;21;01mgrover\u001b[39;00m \u001b[38;5;28;01mimport\u001b[39;00m Grover\n\u001b[0;32m----> 8\u001b[0m \u001b[38;5;28;01mfrom\u001b[39;00m \u001b[38;5;21;01m.\u001b[39;00m\u001b[38;5;21;01msearch_with_prior_knowledge\u001b[39;00m \u001b[38;5;28;01mimport\u001b[39;00m GroverWithPriorKnowledge\n\u001b[1;32m      9\u001b[0m \u001b[38;5;28;01mfrom\u001b[39;00m \u001b[38;5;21;01m.\u001b[39;00m\u001b[38;5;21;01mpartial_grover\u001b[39;00m \u001b[38;5;28;01mimport\u001b[39;00m PartialGrover\n",
      "File \u001b[0;32m~/quict/QuICT/algorithm/quantum_algorithm/grover/search_with_prior_knowledge.py:13\u001b[0m\n\u001b[1;32m     11\u001b[0m \u001b[38;5;28;01mfrom\u001b[39;00m \u001b[38;5;21;01mQuICT\u001b[39;00m\u001b[38;5;21;01m.\u001b[39;00m\u001b[38;5;21;01mcore\u001b[39;00m\u001b[38;5;21;01m.\u001b[39;00m\u001b[38;5;21;01mgate\u001b[39;00m \u001b[38;5;28;01mimport\u001b[39;00m \u001b[38;5;241m*\u001b[39m\n\u001b[1;32m     12\u001b[0m \u001b[38;5;28;01mfrom\u001b[39;00m \u001b[38;5;21;01mQuICT\u001b[39;00m\u001b[38;5;21;01m.\u001b[39;00m\u001b[38;5;21;01mcore\u001b[39;00m\u001b[38;5;21;01m.\u001b[39;00m\u001b[38;5;21;01mgate\u001b[39;00m\u001b[38;5;21;01m.\u001b[39;00m\u001b[38;5;21;01mbackend\u001b[39;00m \u001b[38;5;28;01mimport\u001b[39;00m MCTOneAux\n\u001b[0;32m---> 13\u001b[0m \u001b[38;5;28;01mfrom\u001b[39;00m \u001b[38;5;21;01mQuICT\u001b[39;00m\u001b[38;5;21;01m.\u001b[39;00m\u001b[38;5;21;01mqcda\u001b[39;00m\u001b[38;5;21;01m.\u001b[39;00m\u001b[38;5;21;01msynthesis\u001b[39;00m\u001b[38;5;21;01m.\u001b[39;00m\u001b[38;5;21;01mquantum_state_preparation\u001b[39;00m \u001b[38;5;28;01mimport\u001b[39;00m QuantumStatePreparation\n\u001b[1;32m     15\u001b[0m P_GLOBAL \u001b[38;5;241m=\u001b[39m []\n\u001b[1;32m     16\u001b[0m T_GLOBAL \u001b[38;5;241m=\u001b[39m \u001b[38;5;241m1\u001b[39m\n",
      "File \u001b[0;32m~/quict/QuICT/qcda/synthesis/__init__.py:10\u001b[0m\n\u001b[1;32m      8\u001b[0m \u001b[38;5;28;01mfrom\u001b[39;00m \u001b[38;5;21;01m.\u001b[39;00m\u001b[38;5;21;01mclifford\u001b[39;00m \u001b[38;5;28;01mimport\u001b[39;00m \u001b[38;5;241m*\u001b[39m\n\u001b[1;32m      9\u001b[0m \u001b[38;5;28;01mfrom\u001b[39;00m \u001b[38;5;21;01m.\u001b[39;00m\u001b[38;5;21;01mgate_transform\u001b[39;00m \u001b[38;5;28;01mimport\u001b[39;00m \u001b[38;5;241m*\u001b[39m\n\u001b[0;32m---> 10\u001b[0m \u001b[38;5;28;01mfrom\u001b[39;00m \u001b[38;5;21;01m.\u001b[39;00m\u001b[38;5;21;01mquantum_state_preparation\u001b[39;00m \u001b[38;5;28;01mimport\u001b[39;00m \u001b[38;5;241m*\u001b[39m\n\u001b[1;32m     11\u001b[0m \u001b[38;5;28;01mfrom\u001b[39;00m \u001b[38;5;21;01m.\u001b[39;00m\u001b[38;5;21;01munitary_decomposition\u001b[39;00m \u001b[38;5;28;01mimport\u001b[39;00m \u001b[38;5;241m*\u001b[39m\n",
      "File \u001b[0;32m~/quict/QuICT/qcda/synthesis/quantum_state_preparation/__init__.py:2\u001b[0m\n\u001b[1;32m      1\u001b[0m \u001b[38;5;28;01mfrom\u001b[39;00m \u001b[38;5;21;01m.\u001b[39;00m\u001b[38;5;21;01mutility\u001b[39;00m \u001b[38;5;28;01mimport\u001b[39;00m schmidt_decompose\n\u001b[0;32m----> 2\u001b[0m \u001b[38;5;28;01mfrom\u001b[39;00m \u001b[38;5;21;01m.\u001b[39;00m\u001b[38;5;21;01mquantum_state_preparation\u001b[39;00m \u001b[38;5;28;01mimport\u001b[39;00m QuantumStatePreparation, SparseQuantumStatePreparation\n",
      "File \u001b[0;32m~/quict/QuICT/qcda/synthesis/quantum_state_preparation/quantum_state_preparation.py:7\u001b[0m\n\u001b[1;32m      5\u001b[0m \u001b[38;5;28;01mfrom\u001b[39;00m \u001b[38;5;21;01mQuICT\u001b[39;00m\u001b[38;5;21;01m.\u001b[39;00m\u001b[38;5;21;01mcore\u001b[39;00m\u001b[38;5;21;01m.\u001b[39;00m\u001b[38;5;21;01mgate\u001b[39;00m\u001b[38;5;21;01m.\u001b[39;00m\u001b[38;5;21;01mbackend\u001b[39;00m \u001b[38;5;28;01mimport\u001b[39;00m MCTWithoutAux, UniformlyRotation\n\u001b[1;32m      6\u001b[0m \u001b[38;5;28;01mfrom\u001b[39;00m \u001b[38;5;21;01mQuICT\u001b[39;00m\u001b[38;5;21;01m.\u001b[39;00m\u001b[38;5;21;01mqcda\u001b[39;00m\u001b[38;5;21;01m.\u001b[39;00m\u001b[38;5;21;01msynthesis\u001b[39;00m\u001b[38;5;21;01m.\u001b[39;00m\u001b[38;5;21;01munitary_decomposition\u001b[39;00m \u001b[38;5;28;01mimport\u001b[39;00m UnitaryDecomposition\n\u001b[0;32m----> 7\u001b[0m \u001b[38;5;28;01mfrom\u001b[39;00m \u001b[38;5;21;01mQuICT\u001b[39;00m\u001b[38;5;21;01m.\u001b[39;00m\u001b[38;5;21;01msimulation\u001b[39;00m\u001b[38;5;21;01m.\u001b[39;00m\u001b[38;5;21;01mstate_vector\u001b[39;00m \u001b[38;5;28;01mimport\u001b[39;00m ConstantStateVectorSimulator\n\u001b[1;32m     10\u001b[0m \u001b[38;5;28;01mclass\u001b[39;00m \u001b[38;5;21;01mQuantumStatePreparation\u001b[39;00m(\u001b[38;5;28mobject\u001b[39m):\n\u001b[1;32m     11\u001b[0m     \u001b[38;5;124;03m\"\"\"\u001b[39;00m\n\u001b[1;32m     12\u001b[0m \u001b[38;5;124;03m    For a given quantum state |psi>, create a CompositeGate C that |psi> = C |0>\u001b[39;00m\n\u001b[1;32m     13\u001b[0m \u001b[38;5;124;03m    \"\"\"\u001b[39;00m\n",
      "\u001b[0;31mImportError\u001b[0m: cannot import name 'ConstantStateVectorSimulator' from 'QuICT.simulation.state_vector' (/home/me/quict/QuICT/simulation/state_vector/__init__.py)"
     ]
    }
   ],
   "source": [
    "from QuICT.simulation.state_vector.cpu_simulator import CircuitSimulator\n",
    "from QuICT.algorithm.quantum_algorithm import ShorFactor\n",
    "\n",
    "input  = 35\n",
    "sf = ShorFactor(mode=\"BEA_zip\", N=input, max_rd=1)\n",
    "circ, indices = sf.circuit()\n",
    "\n",
    "output = sf.run(simulator=CircuitSimulator(), circuit=circ, indices=indices, forced_quantum_approach=True)\n",
    "print(f\"input  = {input}\")\n",
    "print(f\"output = {output}\")"
   ]
  },
  {
   "cell_type": "markdown",
   "metadata": {},
   "source": [
    "### Error rate\n",
    "\n",
    "The behaviour of order-finding algorithm is consistent with theoretical prediction. \n",
    "\n",
    "| mode    | original   | reinforced(MAX_ROUND=3)         | $Pr(r\\neq 0\\text{ and }r\\nmid\\text{order}(a,N))$  | repetitions |\n",
    "| ------- | ---------- | ------------------------------- | ---------------------------------------- |---------------|\n",
    "| BEA     | 0.47       | 0.12                            | 0                                        | 108 |\n",
    "| BEA_zip | 0.48       | 0.11                            | 0                                        | 108 |\n",
    "| HRS     | 0.44       | 0.06                            | 0                                        | 108 |\n",
    "| HRS_zip | 0.44       | 0.03                            | 0                                        | 108 |\n",
    "\n",
    "The data set is composites in $[4,54)$, 36 in total and 9 of them are odd composites.\n",
    "\n",
    "`original` refers to the **original** procedure given above, and `forced` is only different in step 3, where we pick a random number $x$ that $gcd(x,N)=1$ to **force** the execution of order-finding subroutine. The number refers to repetition of order-finding subroutines in step 4.\n",
    "\n",
    "| mode    | original-2 | forced-2 | original-3 | forced-3 |\n",
    "| ------- | ---------- | -------- | ---------- | :------- |\n",
    "| BEA_zip | 0.028      | 0.028    | 0.0        | 0.0      |\n",
    "| HRS_zip | 0.028      | 0.028    | 0.0        | 0.0      |"
   ]
  },
  {
   "cell_type": "markdown",
   "metadata": {},
   "source": [
    "## References\n",
    "\n",
    "[1] Beauregard, S. (2003). Circuit for Shor’s algorithm using 2n+3 qubits. Quantum Information and Computation, 3(2), 175–185. https://doi.org/10.26421/qic3.2-8\n",
    "\n",
    "[2] Haner, T., Roetteler, M., & Svore, K. M. (2017). Factoring using 2n+2 qubits with Toffoli based modular multiplication. Quantum Information and Computation, 17(7&8), 673–684. https://doi.org/10.26421/qic17.7-8-7\n",
    "\n",
    "[3] He, Y., Luo, MX., Zhang, E. et al. (2017). Decompositions of n-qubit Toffoli Gates with Linear Circuit Complexity. Int J Theor Phys, 56, 2350–2361. https://doi.org/10.1007/s10773-017-3389-4"
   ]
  }
 ],
 "metadata": {
  "kernelspec": {
   "display_name": "Python 3 (ipykernel)",
   "language": "python",
   "name": "python3"
  },
  "language_info": {
   "codemirror_mode": {
    "name": "ipython",
    "version": 3
   },
   "file_extension": ".py",
   "mimetype": "text/x-python",
   "name": "python",
   "nbconvert_exporter": "python",
   "pygments_lexer": "ipython3",
   "version": "3.9.7"
  }
 },
 "nbformat": 4,
 "nbformat_minor": 2
}
