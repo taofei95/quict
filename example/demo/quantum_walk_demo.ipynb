{
 "cells": [
  {
   "cell_type": "code",
   "execution_count": 1,
   "id": "5187061d",
   "metadata": {},
   "outputs": [],
   "source": [
    "from QuICT.core.gate import *\n",
    "from QuICT.algorithm.quantum_algorithm.random_walk import RandomWalk, Graph\n",
    "from QuICT.simulation.state_vector import ConstantStateVectorSimulator"
   ]
  },
  {
   "cell_type": "code",
   "execution_count": 24,
   "id": "608ac21d",
   "metadata": {},
   "outputs": [],
   "source": [
    "import matplotlib.pyplot as plt\n",
    "\n",
    "def plot_state_hist(state):\n",
    "    state = list(abs(state))\n",
    "    state = [state[i].get() + state[i+1].get() for i in range(0, 16, 2)]\n",
    "    plt.plot(list(range(len(state))), state, marker='o')"
   ]
  },
  {
   "cell_type": "code",
   "execution_count": 3,
   "id": "e2b9ce92",
   "metadata": {},
   "outputs": [],
   "source": [
    "# Build Linearly Graph with different coin by vertices\n",
    "vertices = 4\n",
    "edges = {0: [1, 1], 1: [0, 2], 2: [1, 3], 3: [2, 2]}\n",
    "coin_operators = [H.matrix, H.matrix, U2.matrix, U1.matrix]\n",
    "graph_linear = Graph(vertices, edges, coin_operators)\n",
    "\n",
    "# Build Circular Graph\n",
    "vertices = 5\n",
    "edges = {0: [4, 1], 1: [0, 2], 2: [1, 3], 3: [2, 4], 4: [3, 0]}\n",
    "graph_circular = Graph(vertices, edges)"
   ]
  },
  {
   "cell_type": "code",
   "execution_count": 4,
   "id": "62622903",
   "metadata": {},
   "outputs": [],
   "source": [
    "# Quantum Walk Algorithm\n",
    "rw = RandomWalk(\n",
    "    step=5,\n",
    "    graph=graph_circular,\n",
    "    coin_operator=H.matrix\n",
    ")\n",
    "\n",
    "rw_cir = rw.circuit\n",
    "sim = ConstantStateVectorSimulator()\n",
    "state = rw.run(sim)"
   ]
  },
  {
   "cell_type": "code",
   "execution_count": 25,
   "id": "93bc1e7f",
   "metadata": {
    "scrolled": true
   },
   "outputs": [
    {
     "name": "stdout",
     "output_type": "stream",
     "text": [
      "[0.35355339059327084, 0.3535533905932711, 0.8838834764831881, 0.530330085889902, 0.35355339059329166, 9.69797578842592e-15, 3.904605236053911e-15, 7.2303318958703e-15]\n"
     ]
    },
    {
     "data": {
      "image/png": "[encoded data removed]",
      "text/plain": [
       "<Figure size 432x288 with 1 Axes>"
      ]
     },
     "metadata": {
      "needs_background": "light"
     },
     "output_type": "display_data"
    }
   ],
   "source": [
    "plot_state_hist(state)"
   ]
  },
  {
   "cell_type": "code",
   "execution_count": null,
   "id": "91ae7be1",
   "metadata": {},
   "outputs": [],
   "source": []
  }
 ],
 "metadata": {
  "kernelspec": {
   "display_name": "Python 3",
   "language": "python",
   "name": "python3"
  },
  "language_info": {
   "codemirror_mode": {
    "name": "ipython",
    "version": 3
   },
   "file_extension": ".py",
   "mimetype": "text/x-python",
   "name": "python",
   "nbconvert_exporter": "python",
   "pygments_lexer": "ipython3",
   "version": "3.8.5"
  }
 },
 "nbformat": 4,
 "nbformat_minor": 5
}
