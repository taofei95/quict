{
 "cells": [
  {
   "cell_type": "code",
   "execution_count": 1,
   "id": "5187061d",
   "metadata": {},
   "outputs": [],
   "source": [
    "import numpy as np\n",
    "\n",
    "from QuICT.core.gate import *\n",
    "from QuICT.algorithm.quantum_algorithm.random_walk import RandomWalk, Graph\n",
    "from QuICT.simulation.state_vector import ConstantStateVectorSimulator"
   ]
  },
  {
   "cell_type": "code",
   "execution_count": 2,
   "id": "608ac21d",
   "metadata": {},
   "outputs": [],
   "source": [
    "import matplotlib.pyplot as plt\n",
    "\n",
    "def plot(data, size):\n",
    "    data = [data[i] + data[i+1] for i in range(0, size*2, 2)]\n",
    "    for i in range(size):\n",
    "        plt.bar(i, data[i])"
   ]
  },
  {
   "cell_type": "code",
   "execution_count": 3,
   "id": "34a842dc",
   "metadata": {},
   "outputs": [],
   "source": [
    "def classical_random_walk(size: int):\n",
    "    position = [0] * size\n",
    "    step = 0\n",
    "    while step < size ** 3:\n",
    "        related_prob = [0] * size\n",
    "        for i in range(size):\n",
    "            if position[i] != 0:\n",
    "                add_idx = 0 if i == size - 1 else i + 1\n",
    "                red_idx = size - 1 if i == 0 else i - 1\n",
    "                related_prob[add_idx] += position[i]/2\n",
    "                related_prob[red_idx] += position[i]/2\n",
    "\n",
    "        if step == 0:\n",
    "            position[0] = 1\n",
    "        else:\n",
    "            position = related_prob[:]\n",
    "\n",
    "        break_point = True\n",
    "        for prob in position:\n",
    "            if not np.isclose(prob, 1/size):\n",
    "                break_point = False\n",
    "                break\n",
    "\n",
    "        if break_point:\n",
    "            break\n",
    "\n",
    "        step += 1\n",
    "\n",
    "    return position, step"
   ]
  },
  {
   "cell_type": "code",
   "execution_count": 4,
   "id": "aa412a26",
   "metadata": {},
   "outputs": [
    {
     "name": "stdout",
     "output_type": "stream",
     "text": [
      "([0.0909081747562393, 0.09090996995131473, 0.09090832019226788, 0.09090969086161968, 0.09090871032544212, 0.09090922129123578, 0.09090922129123578, 0.09090871032544212, 0.09090969086161968, 0.09090832019226788, 0.09090996995131473], 295)\n"
     ]
    }
   ],
   "source": [
    "print(classical_random_walk(11))"
   ]
  },
  {
   "cell_type": "code",
   "execution_count": 5,
   "id": "e225533a",
   "metadata": {},
   "outputs": [],
   "source": [
    "def circular_graph_generator(size):\n",
    "    vertices = size\n",
    "    edges = {}\n",
    "    for i in range(size):\n",
    "        addi = i + 1 if i != size - 1 else 0\n",
    "        subi = i - 1 if i != 0 else size - 1\n",
    "        edges[i] = [addi, subi]\n",
    "    \n",
    "    return Graph(vertices, edges)"
   ]
  },
  {
   "cell_type": "code",
   "execution_count": 3,
   "id": "e2b9ce92",
   "metadata": {},
   "outputs": [],
   "source": [
    "# Build Circular Graph with different coin by vertices\n",
    "vertices = 5\n",
    "edges = {0: [4, 1], 1: [0, 2], 2: [1, 3], 3: [2, 4], 4: [3, 0]}\n",
    "coin_operators = [H.matrix, H.matrix, U2.matrix, U1.matrix, H.matrix]\n",
    "graph_circular = Graph(vertices, edges, coin_operators)"
   ]
  },
  {
   "cell_type": "code",
   "execution_count": 10,
   "id": "62622903",
   "metadata": {},
   "outputs": [
    {
     "name": "stdout",
     "output_type": "stream",
     "text": [
      "241800\n",
      "[-1.22374917e-01-4.63292285e-12j -1.48503339e-02-7.35627858e-13j\n",
      "  6.54094561e-02+2.50124920e-12j  1.85706900e-01+7.34579146e-12j\n",
      "  1.38210651e-02+2.47626914e-13j  1.50326382e-01+6.50600627e-12j\n",
      "  2.29013588e-01+9.67156793e-12j -3.38118537e-01-1.31914014e-11j\n",
      " -4.34758548e-02-1.88776599e-12j -7.69509546e-02-3.61823335e-12j\n",
      "  2.86908782e-01+1.11685470e-11j  7.69509546e-02+2.81454894e-12j\n",
      "  5.48076364e-01+2.21005040e-11j  3.38118537e-01+1.38019307e-11j\n",
      " -1.16851282e-01-5.23632973e-12j -1.50326382e-01-6.33813084e-12j\n",
      "  3.81425226e-01+1.55716794e-11j -1.85706900e-01-7.70918906e-12j\n",
      " -1.21654983e-01-4.69042395e-12j  1.48503339e-02+8.49072474e-13j\n",
      " -1.20297444e-01-5.30206425e-12j -5.33450919e-14-1.68436637e-13j\n",
      "  2.99695224e-13+1.79296137e-13j -3.87626382e-14-5.44867564e-14j\n",
      " -2.33716800e-13-2.52617858e-13j -3.02937183e-13-1.41872831e-13j\n",
      " -4.22651613e-14-8.47373127e-14j -1.56087797e-14-5.39503426e-15j\n",
      "  2.61059961e-13-1.42571536e-13j  1.56708064e-13-9.26907437e-14j\n",
      "  2.54250163e-14-1.10796081e-13j -6.21065248e-14-1.90889675e-13j]\n"
     ]
    }
   ],
   "source": [
    "vertices = 11\n",
    "graph_circular = circular_graph_generator(vertices)\n",
    "# Quantum Walk Algorithm\n",
    "rw = RandomWalk(\n",
    "    step=200,\n",
    "    graph=graph_circular,\n",
    "    coin_operator=H.matrix\n",
    ")\n",
    "\n",
    "rw_cir = rw.circuit\n",
    "print(rw_cir.size())\n",
    "\n",
    "sim = ConstantStateVectorSimulator()\n",
    "state = rw.run(sim, record_measured=False, shots = 100)\n",
    "\n",
    "print(state)\n",
    "# plot(state, vertices)"
   ]
  },
  {
   "cell_type": "code",
   "execution_count": null,
   "id": "6b734cbb",
   "metadata": {},
   "outputs": [],
   "source": []
  }
 ],
 "metadata": {
  "kernelspec": {
   "display_name": "Python 3",
   "language": "python",
   "name": "python3"
  },
  "language_info": {
   "codemirror_mode": {
    "name": "ipython",
    "version": 3
   },
   "file_extension": ".py",
   "mimetype": "text/x-python",
   "name": "python",
   "nbconvert_exporter": "python",
   "pygments_lexer": "ipython3",
   "version": "3.8.5"
  }
 },
 "nbformat": 4,
 "nbformat_minor": 5
}
