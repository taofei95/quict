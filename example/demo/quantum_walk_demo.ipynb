{
 "cells": [
  {
   "cell_type": "code",
   "execution_count": 1,
   "id": "5187061d",
   "metadata": {},
   "outputs": [],
   "source": [
    "from QuICT.core.gate import *\n",
    "from QuICT.algorithm.quantum_algorithm.random_walk import RandomWalk, Graph\n",
    "from QuICT.simulation.state_vector import ConstantStateVectorSimulator"
   ]
  },
  {
   "cell_type": "code",
   "execution_count": 2,
   "id": "608ac21d",
   "metadata": {},
   "outputs": [],
   "source": [
    "import matplotlib.pyplot as plt\n",
    "\n",
    "def plot(data, size):\n",
    "    data = [data[i] + data[i+1] for i in range(0, size*2, 2)]\n",
    "    for i in range(size):\n",
    "        plt.bar(i, data[i])"
   ]
  },
  {
   "cell_type": "code",
   "execution_count": 3,
   "id": "e2b9ce92",
   "metadata": {},
   "outputs": [],
   "source": [
    "# Build Circular Graph with different coin by vertices\n",
    "vertices = 5\n",
    "edges = {0: [4, 1], 1: [0, 2], 2: [1, 3], 3: [2, 4], 4: [3, 0]}\n",
    "coin_operators = [H.matrix, H.matrix, U2.matrix, U1.matrix, H.matrix]\n",
    "graph_circular = Graph(vertices, edges, coin_operators)"
   ]
  },
  {
   "cell_type": "code",
   "execution_count": 10,
   "id": "62622903",
   "metadata": {},
   "outputs": [
    {
     "data": {
      "image/png": "[encoded data removed]",
      "text/plain": [
       "<Figure size 432x288 with 1 Axes>"
      ]
     },
     "metadata": {
      "needs_background": "light"
     },
     "output_type": "display_data"
    }
   ],
   "source": [
    "# Quantum Walk Algorithm\n",
    "rw = RandomWalk(\n",
    "    step=1,\n",
    "    graph=graph_circular,\n",
    "    coin_operator=H.matrix\n",
    ")\n",
    "\n",
    "rw_cir = rw.circuit\n",
    "\n",
    "sim = ConstantStateVectorSimulator()\n",
    "state = rw.run(sim, record_measured=True, shots = 100)\n",
    "\n",
    "plot(state, vertices)"
   ]
  },
  {
   "cell_type": "code",
   "execution_count": null,
   "id": "6b734cbb",
   "metadata": {},
   "outputs": [],
   "source": []
  }
 ],
 "metadata": {
  "kernelspec": {
   "display_name": "Python 3",
   "language": "python",
   "name": "python3"
  },
  "language_info": {
   "codemirror_mode": {
    "name": "ipython",
    "version": 3
   },
   "file_extension": ".py",
   "mimetype": "text/x-python",
   "name": "python",
   "nbconvert_exporter": "python",
   "pygments_lexer": "ipython3",
   "version": "3.8.5"
  }
 },
 "nbformat": 4,
 "nbformat_minor": 5
}
