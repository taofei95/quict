{
 "cells": [
  {
   "cell_type": "code",
   "execution_count": 1,
   "id": "5187061d",
   "metadata": {},
   "outputs": [],
   "source": [
    "import numpy as np\n",
    "\n",
    "from QuICT.core.gate import *\n",
    "from QuICT.algorithm.quantum_algorithm.random_walk import RandomWalk, Graph\n",
    "from QuICT.simulation.state_vector import ConstantStateVectorSimulator"
   ]
  },
  {
   "cell_type": "code",
   "execution_count": 2,
   "id": "608ac21d",
   "metadata": {},
   "outputs": [],
   "source": [
    "import matplotlib.pyplot as plt\n",
    "\n",
    "def plot(data, size):\n",
    "    data = [data[i] + data[i+1] for i in range(0, size*2, 2)]\n",
    "    for i in range(size):\n",
    "        plt.bar(i, data[i])"
   ]
  },
  {
   "cell_type": "code",
   "execution_count": 3,
   "id": "34a842dc",
   "metadata": {},
   "outputs": [],
   "source": [
    "def classical_random_walk(size: int):\n",
    "    position = [0] * size\n",
    "    step = 0\n",
    "    while step < size ** 3:\n",
    "        related_prob = [0] * size\n",
    "        for i in range(size):\n",
    "            if position[i] != 0:\n",
    "                add_idx = 0 if i == size - 1 else i + 1\n",
    "                red_idx = size - 1 if i == 0 else i - 1\n",
    "                related_prob[add_idx] += position[i]/2\n",
    "                related_prob[red_idx] += position[i]/2\n",
    "\n",
    "        if step == 0:\n",
    "            position[0] = 1\n",
    "        else:\n",
    "            position = related_prob[:]\n",
    "\n",
    "        break_point = True\n",
    "        for prob in position:\n",
    "            if not np.isclose(prob, 1/size):\n",
    "                break_point = False\n",
    "                break\n",
    "\n",
    "        if break_point:\n",
    "            break\n",
    "\n",
    "        step += 1\n",
    "\n",
    "    return position, step"
   ]
  },
  {
   "cell_type": "code",
   "execution_count": 4,
   "id": "aa412a26",
   "metadata": {},
   "outputs": [
    {
     "name": "stdout",
     "output_type": "stream",
     "text": [
      "([0.0909081747562393, 0.09090996995131473, 0.09090832019226788, 0.09090969086161968, 0.09090871032544212, 0.09090922129123578, 0.09090922129123578, 0.09090871032544212, 0.09090969086161968, 0.09090832019226788, 0.09090996995131473], 295)\n"
     ]
    }
   ],
   "source": [
    "print(classical_random_walk(11))"
   ]
  },
  {
   "cell_type": "code",
   "execution_count": 5,
   "id": "e225533a",
   "metadata": {},
   "outputs": [],
   "source": [
    "def circular_graph_generator(size):\n",
    "    vertices = size\n",
    "    edges = {}\n",
    "    for i in range(size):\n",
    "        addi = i + 1 if i != size - 1 else 0\n",
    "        subi = i - 1 if i != 0 else size - 1\n",
    "        edges[i] = [addi, subi]\n",
    "    \n",
    "    return Graph(vertices, edges)"
   ]
  },
  {
   "cell_type": "code",
   "execution_count": 6,
   "id": "e2b9ce92",
   "metadata": {},
   "outputs": [],
   "source": [
    "# Build Circular Graph with different coin by vertices\n",
    "vertices = 5\n",
    "edges = {0: [4, 1], 1: [0, 2], 2: [1, 3], 3: [2, 4], 4: [3, 0]}\n",
    "coin_operators = [H.matrix, H.matrix, U2.matrix, U1.matrix, H.matrix]\n",
    "graph_circular = Graph(vertices, edges, coin_operators)"
   ]
  },
  {
   "cell_type": "code",
   "execution_count": 7,
   "id": "62622903",
   "metadata": {},
   "outputs": [
    {
     "data": {
      "image/png": "[encoded data removed]",
      "text/plain": [
       "<Figure size 432x288 with 1 Axes>"
      ]
     },
     "metadata": {
      "needs_background": "light"
     },
     "output_type": "display_data"
    }
   ],
   "source": [
    "vertices = 5\n",
    "graph_circular = circular_graph_generator(vertices)\n",
    "# Quantum Walk Algorithm\n",
    "rw = RandomWalk(\n",
    "    step=1,\n",
    "    graph=graph_circular,\n",
    "    coin_operator=H.matrix\n",
    ")\n",
    "\n",
    "rw_cir = rw.circuit\n",
    "\n",
    "sim = ConstantStateVectorSimulator()\n",
    "state = rw.run(sim, record_runtime_measured=True, shots = 100)\n",
    "\n",
    "plot(state, vertices)"
   ]
  },
  {
   "cell_type": "code",
   "execution_count": null,
   "id": "6b734cbb",
   "metadata": {},
   "outputs": [],
   "source": []
  }
 ],
 "metadata": {
  "kernelspec": {
   "display_name": "Python 3",
   "language": "python",
   "name": "python3"
  },
  "language_info": {
   "codemirror_mode": {
    "name": "ipython",
    "version": 3
   },
   "file_extension": ".py",
   "mimetype": "text/x-python",
   "name": "python",
   "nbconvert_exporter": "python",
   "pygments_lexer": "ipython3",
   "version": "3.8.5"
  }
 },
 "nbformat": 4,
 "nbformat_minor": 5
}
