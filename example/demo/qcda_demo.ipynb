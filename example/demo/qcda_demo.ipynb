{
 "cells": [
  {
   "cell_type": "markdown",
   "metadata": {},
   "source": [
    "# QCDA\n",
    "\n",
    "QCDA, short for Quantum Circuit Design Automation, is designed as a one-stop process to make a logical quantum circuit executable on some quantum device. Obstacles that we may face in this process could be divided into three parts - decomposing a routine method with basic gates, reducing the size and depth of the circuit, and mapping the logical qubits to the physical qubits with a given layout while adding fewer swap gates. Corresponding to these problems, we develop three sub-modules - synthesis, optimization, and mapping - for them."
   ]
  },
  {
   "cell_type": "code",
   "execution_count": null,
   "metadata": {},
   "outputs": [],
   "source": [
    "import random\n",
    "import numpy as np\n",
    "from scipy.stats import unitary_group\n",
    "# Import everything about gates and circuits\n",
    "from QuICT.core import *\n",
    "from QuICT.core.gate import *"
   ]
  },
  {
   "cell_type": "markdown",
   "metadata": {},
   "source": [
    "# QCDA-flow\n",
    "\n",
    "Generally, a QCDA workflow defines as a list of methods that would execute sequentially. Some default sublists are preset in the class, which is helpful to average users but perhaps not always targeted to the input circuit. Experienced users could customize the sequence with other methods for their benefit."
   ]
  },
  {
   "cell_type": "code",
   "execution_count": null,
   "metadata": {},
   "outputs": [],
   "source": [
    "from QuICT.qcda.qcda import QCDA\n",
    "from QuICT.qcda.synthesis.gate_transform import USTCSet\n",
    "\n",
    "type_list = [GateType.rx, GateType.ry, GateType.rz, GateType.x, GateType.y, GateType.z, GateType.cx]\n",
    "layout = Layout.load_file(\"../layout/ibmqx2_layout.json\")\n",
    "\n",
    "# Read circuit\n",
    "circuit = Circuit(5)\n",
    "circuit.random_append(typelist=type_list)\n",
    "target = random.sample(range(5), 3)\n",
    "CCRz(np.pi / 3) | circuit(target)\n",
    "circuit.random_append(typelist=type_list)\n",
    "target = random.sample(range(5), 3)\n",
    "CSwap | circuit(target)\n",
    "circuit.random_append(typelist=type_list)\n",
    "matrix = unitary_group.rvs(2 ** 3)\n",
    "target = random.sample(range(5), 3)\n",
    "Unitary(matrix) | circuit(target)\n",
    "circuit.random_append(typelist=type_list)\n",
    "circuit.draw()\n",
    "\n",
    "# Show circuit statistics between processes\n",
    "qcda = QCDA()\n",
    "qcda.add_default_synthesis(USTCSet)\n",
    "qcda.add_default_optimization()\n",
    "qcda.add_default_mapping(layout)\n",
    "qcda.add_default_synthesis(USTCSet)\n",
    "circuit_phy = qcda.compile(circuit)\n",
    "circuit_phy.draw()"
   ]
  },
  {
   "cell_type": "markdown",
   "metadata": {},
   "source": [
    "# Synthesis\n",
    "\n",
    "In synthesis, we implement methods to decompose complex gates with basic gates and transform a circuit with a given instruction set."
   ]
  },
  {
   "cell_type": "markdown",
   "metadata": {},
   "source": [
    "## Clifford\n",
    "\n",
    "Bravyi, S., Shaydulin, R., Hu, S., & Maslov, D.L. (2021). Clifford Circuit Optimization with Templates and Symbolic Pauli Gates. Quantum, 5, 580.\n",
    "\n",
    "https://arxiv.org/abs/2105.02291"
   ]
  },
  {
   "cell_type": "code",
   "execution_count": null,
   "metadata": {},
   "outputs": [],
   "source": [
    "from QuICT.qcda.synthesis import CliffordUnidirectionalSynthesizer\n",
    "\n",
    "n = 10\n",
    "prob_list = [1 / 9 for _ in range(6)] + [1 / 3]\n",
    "circuit = Circuit(n)\n",
    "circuit.random_append(10 * n, typelist=CLIFFORD_GATE_SET, probabilities=prob_list)\n",
    "circuit.draw()\n",
    "print(circuit)\n",
    "CUS = CliffordUnidirectionalSynthesizer(strategy='greedy')\n",
    "circuit_syn = CUS.execute(circuit)\n",
    "circuit_syn.draw()\n",
    "print(circuit_syn)"
   ]
  },
  {
   "cell_type": "markdown",
   "metadata": {},
   "source": [
    "## Gate transform"
   ]
  },
  {
   "cell_type": "code",
   "execution_count": null,
   "metadata": {},
   "outputs": [],
   "source": [
    "from QuICT.qcda.synthesis import GateTransform, USTCSet\n",
    "\n",
    "n = 10\n",
    "circuit = Circuit(n)\n",
    "circuit.random_append(50, random_params=True)\n",
    "circuit.draw()\n",
    "print(circuit)\n",
    "GT = GateTransform(USTCSet)\n",
    "circuit_tran = GT.execute(circuit)\n",
    "circuit_tran.draw()\n",
    "print(circuit_tran)"
   ]
  },
  {
   "cell_type": "markdown",
   "metadata": {},
   "source": [
    "## Multi-controlled Toffoli (mct)\n",
    "\n",
    "Barenco, Bennett, Cleve, DiVincenzo, Margolus, Shor, Sleator, Smolin, & Weinfurter (1995). Elementary gates for quantum computation. Physical review. A, Atomic, molecular, and optical physics, 52 5, 3457-3467 .\n",
    "\n",
    "https://arxiv.org/abs/quant-ph/9503016\n",
    "\n",
    "He, Y., Luo, M., Zhang, E.J., Wang, H., & Wang, X. (2017). Decompositions of n-qubit Toffoli Gates with Linear Circuit Complexity. International Journal of Theoretical Physics, 56, 2350-2361.\n",
    "\n",
    "https://link.springer.com/article/10.1007/s10773-017-3389-4"
   ]
  },
  {
   "cell_type": "code",
   "execution_count": null,
   "metadata": {},
   "outputs": [],
   "source": [
    "# The last qubit is ancillary\n",
    "from QuICT.qcda.synthesis import MCTOneAux\n",
    "\n",
    "n = 5\n",
    "circuit = Circuit(n)\n",
    "MCT = MCTOneAux()\n",
    "MCT.execute(n) | circuit\n",
    "# Show CCCX as a single gate\n",
    "circuit.draw()\n",
    "print(circuit)"
   ]
  },
  {
   "cell_type": "markdown",
   "metadata": {},
   "source": [
    "## Uniformly-controlled gate\n",
    "\n",
    "Mottonen, M., & Vartiainen, J.J. (2006). Decompositions of general quantum gates. arXiv: Quantum Physics.\n",
    "\n",
    "https://arxiv.org/abs/quant-ph/0504100"
   ]
  },
  {
   "cell_type": "code",
   "execution_count": null,
   "metadata": {},
   "outputs": [],
   "source": [
    "from QuICT.qcda.synthesis import UniformlyRotation\n",
    "\n",
    "n = 5\n",
    "circuit = Circuit(n)\n",
    "angles = [2 * np.pi * random.random() for _ in range(1 << (n - 1))]\n",
    "URy = UniformlyRotation(GateType.ry)\n",
    "URy.execute(angles) | circuit\n",
    "circuit.draw()\n",
    "print(circuit)"
   ]
  },
  {
   "cell_type": "code",
   "execution_count": null,
   "metadata": {},
   "outputs": [],
   "source": [
    "from QuICT.qcda.synthesis import UniformlyUnitary\n",
    "\n",
    "n = 5\n",
    "circuit = Circuit(n)\n",
    "unitaries = [unitary_group.rvs(2) for _ in range(1 << (n - 1))]\n",
    "UUnitary = UniformlyUnitary()\n",
    "UUnitary.execute(unitaries) | circuit\n",
    "circuit.draw()\n",
    "print(circuit)"
   ]
  },
  {
   "cell_type": "markdown",
   "metadata": {},
   "source": [
    "## Unitary decomposition\n",
    "\n",
    "Shende, V.V., Bullock, S.S., & Markov, I.L. (2006). Synthesis of quantum-logic circuits. IEEE Transactions on Computer-Aided Design of Integrated Circuits and Systems, 25, 1000-1010.\n",
    "\n",
    "https://arxiv.org/abs/quant-ph/0406176\n",
    "\n",
    "Drury, B., & Love, P.J. (2008). Constructive quantum Shannon decomposition from Cartan involutions. Journal of Physics A: Mathematical and Theoretical, 41, 395305.\n",
    "\n",
    "https://arxiv.org/abs/0806.4015\n"
   ]
  },
  {
   "cell_type": "code",
   "execution_count": null,
   "metadata": {},
   "outputs": [],
   "source": [
    "from QuICT.qcda.synthesis import UnitaryDecomposition\n",
    "\n",
    "n = 5\n",
    "circuit = Circuit(n)\n",
    "mat = unitary_group.rvs(1 << n)\n",
    "UD = UnitaryDecomposition(recursive_basis=2)\n",
    "gates, _ = UD.execute(mat)\n",
    "gates | circuit\n",
    "# circuit.draw()\n",
    "print(circuit)"
   ]
  },
  {
   "cell_type": "markdown",
   "metadata": {},
   "source": [
    "# Optimization\n",
    "\n",
    "In optimization, we implement methods to reduce the size and depth of circuits with different gates."
   ]
  },
  {
   "cell_type": "markdown",
   "metadata": {},
   "source": [
    "## Quipper's optimization\n",
    "\n",
    "Nam, Y.S., Ross, N.J., Su, Y., Childs, A.M., & Maslov, D.L. (2017). Automated optimization of large quantum circuits with continuous parameters. npj Quantum Information, 4, 1-12.\n",
    "\n",
    "https://arxiv.org/abs/1710.07345"
   ]
  },
  {
   "cell_type": "code",
   "execution_count": null,
   "metadata": {},
   "outputs": [],
   "source": [
    "from QuICT.qcda.optimization import CliffordRzOptimization\n",
    "\n",
    "type_list = [GateType.h, GateType.cx, GateType.rz]\n",
    "\n",
    "n = 5\n",
    "circuit = Circuit(n)\n",
    "circuit.random_append(2000, typelist=type_list, random_params=True)\n",
    "# circuit.draw()\n",
    "print(circuit)\n",
    "AO = CliffordRzOptimization(mode='light', verbose=False)\n",
    "circuit_opt = AO.execute(circuit)\n",
    "# circuit_opt.draw()\n",
    "print(circuit_opt)"
   ]
  },
  {
   "cell_type": "markdown",
   "metadata": {},
   "source": [
    "## Commutative optimization"
   ]
  },
  {
   "cell_type": "code",
   "execution_count": null,
   "metadata": {},
   "outputs": [],
   "source": [
    "from QuICT.qcda.optimization import CommutativeOptimization\n",
    "\n",
    "typelist = [GateType.rx, GateType.ry, GateType.rz, GateType.x, GateType.y, GateType.z, GateType.cx]\n",
    "prob_list = [1 / 9 for _ in range(6)] + [1 / 3]\n",
    "\n",
    "n = 5\n",
    "circuit = Circuit(n)\n",
    "circuit.random_append(rand_size=100, typelist=typelist, random_params=True, probabilities=prob_list)\n",
    "circuit.draw()\n",
    "print(circuit)\n",
    "CO = CommutativeOptimization(deparameterization=True)\n",
    "circuit_opt = CO.execute(circuit)\n",
    "circuit_opt.draw()\n",
    "print(circuit_opt)"
   ]
  },
  {
   "cell_type": "markdown",
   "metadata": {},
   "source": [
    "## Symbolic Clifford optimization\n",
    "\n",
    "Bravyi, S., Shaydulin, R., Hu, S., & Maslov, D.L. (2021). Clifford Circuit Optimization with Templates and Symbolic Pauli Gates. Quantum, 5, 580.\n",
    "\n",
    "https://arxiv.org/abs/2105.02291"
   ]
  },
  {
   "cell_type": "code",
   "execution_count": null,
   "metadata": {},
   "outputs": [],
   "source": [
    "from QuICT.qcda.optimization import SymbolicCliffordOptimization\n",
    "\n",
    "prob_list = [1 / 9 for _ in range(6)] + [1 / 3]\n",
    "\n",
    "n = 5\n",
    "circuit = Circuit(n)\n",
    "circuit.random_append(10 * n, typelist=CLIFFORD_GATE_SET, probabilities=prob_list)\n",
    "circuit.draw()\n",
    "print(circuit)\n",
    "SCO = SymbolicCliffordOptimization()\n",
    "circuit_opt = SCO.execute(circuit)\n",
    "circuit_opt.draw()\n",
    "print(circuit_opt)"
   ]
  },
  {
   "cell_type": "markdown",
   "metadata": {},
   "source": [
    "## Template optimization\n",
    "\n",
    "Iten, R., Sutter, D., & Woerner, S. (2019). Efficient template matching in quantum circuits. ArXiv, abs/1909.05270.\n",
    "\n",
    "https://arxiv.org/abs/1909.05270"
   ]
  },
  {
   "cell_type": "code",
   "execution_count": null,
   "metadata": {},
   "outputs": [],
   "source": [
    "from QuICT.lib.circuitlib import CircuitLib\n",
    "from QuICT.qcda.optimization import TemplateOptimization\n",
    "\n",
    "n = 5\n",
    "template_list = CircuitLib.load_template_circuit()\n",
    "circuit = Circuit(n)\n",
    "typelist = [GateType.x, GateType.cx, GateType.ccx, GateType.h, GateType.s, GateType.t, GateType.sdg, GateType.tdg]\n",
    "circuit.random_append(200, typelist=typelist)\n",
    "circuit.draw()\n",
    "print(circuit)\n",
    "TO = TemplateOptimization(\n",
    "    template_list=random.sample(template_list, 10),\n",
    "    heuristics_qubits_param=[10],\n",
    "    heuristics_backward_param=[3, 1]\n",
    ")\n",
    "circuit_opt = TO.execute(circuit)\n",
    "circuit_opt.draw()\n",
    "print(circuit_opt)"
   ]
  },
  {
   "cell_type": "markdown",
   "metadata": {},
   "source": [
    "## CNOT optimization\n",
    "\n",
    "We implement various methods to optimize CNOT circuits in different cases, with or without ancillary qubits and topology restrictions. Here we take methods with no ancilla and no topology as an example to demo CNOT optimization."
   ]
  },
  {
   "cell_type": "code",
   "execution_count": null,
   "metadata": {},
   "outputs": [],
   "source": [
    "from QuICT.qcda.optimization import CnotWithoutAncilla, CnotLocalForceBfs, CnotLocalForceDepthBfs\n",
    "\n",
    "n = 10\n",
    "circuit = Circuit(n)\n",
    "circuit.random_append(20 * n, typelist=[GateType.cx])\n",
    "# circuit.draw()\n",
    "print(circuit)\n",
    "\n",
    "CWA = CnotWithoutAncilla()\n",
    "circuit_cwa = CWA.execute(circuit)\n",
    "# circuit_cwa.draw()\n",
    "print(circuit_cwa)\n",
    "\n",
    "CLFB = CnotLocalForceBfs()\n",
    "circuit_clfb = CLFB.execute(circuit)\n",
    "# circuit_clfb.draw()\n",
    "print(circuit_clfb)\n",
    "\n",
    "CLFDB = CnotLocalForceDepthBfs()\n",
    "circuit_clfdb = CLFDB.execute(circuit)\n",
    "# circuit_clfdb.draw()\n",
    "print(circuit_clfdb)"
   ]
  },
  {
   "cell_type": "markdown",
   "metadata": {},
   "source": [
    "# Mapping\n",
    "\n",
    "In mapping, we implement the algorithm based on the Monte-Carlo tree search."
   ]
  },
  {
   "cell_type": "code",
   "execution_count": null,
   "metadata": {},
   "outputs": [],
   "source": [
    "from QuICT.tools.interface import OPENQASMInterface\n",
    "from QuICT.qcda.mapping import MCTSMapping\n",
    "\n",
    "layout = Layout.load_file(\"./example/ibmq_casablanca.layout\")\n",
    "# circuit = OPENQASMInterface.load_file(\"./example/example_test.qasm\").circuit\n",
    "circuit = Circuit(7)\n",
    "circuit.random_append(20, typelist=[GateType.cx])\n",
    "circuit.draw()\n",
    "print(circuit)\n",
    "MCTS = MCTSMapping(layout=layout, init_mapping_method=\"naive\")\n",
    "circuit_map = MCTS.execute(circuit)\n",
    "circuit_map.draw()\n",
    "print(circuit_map)"
   ]
  }
 ],
 "metadata": {
  "kernelspec": {
   "display_name": "Python 3.8.10 ('base')",
   "language": "python",
   "name": "python3"
  },
  "language_info": {
   "codemirror_mode": {
    "name": "ipython",
    "version": 3
   },
   "file_extension": ".py",
   "mimetype": "text/x-python",
   "name": "python",
   "nbconvert_exporter": "python",
   "pygments_lexer": "ipython3",
   "version": "3.8.10"
  },
  "orig_nbformat": 4,
  "vscode": {
   "interpreter": {
    "hash": "ea739c591120dea1de734a7dc1cc60680d368e3c183a015ab06e1f899ee4ad6d"
   }
  }
 },
 "nbformat": 4,
 "nbformat_minor": 2
}
