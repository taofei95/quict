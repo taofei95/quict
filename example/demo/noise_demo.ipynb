{
 "cells": [
  {
   "cell_type": "code",
   "execution_count": 10,
   "id": "ba7be74f",
   "metadata": {},
   "outputs": [],
   "source": [
    "from QuICT.core import Circuit\n",
    "from QuICT.core.gate import *\n",
    "\n",
    "from QuICT.core.noise import *\n",
    "from QuICT.simulation.density_matrix import DensityMatrixSimulation"
   ]
  },
  {
   "cell_type": "code",
   "execution_count": 11,
   "id": "f3df8ce6",
   "metadata": {},
   "outputs": [
    {
     "name": "stdout",
     "output_type": "stream",
     "text": [
      "Pauli Channel with 1 qubits.\n",
      "Noise with probability 0.95: [[1.+0.j 0.+0.j]\n",
      " [0.+0.j 1.+0.j]]\n",
      "Noise with probability 0.05: [[0.+0.j 1.+0.j]\n",
      " [1.+0.j 0.+0.j]]\n",
      "\n",
      "Pauli Channel with 1 qubits.\n",
      "Noise with probability 0.95: [[1.+0.j 0.+0.j]\n",
      " [0.+0.j 1.+0.j]]\n",
      "Noise with probability 0.05: [[ 1.+0.j  0.+0.j]\n",
      " [ 0.+0.j -1.+0.j]]\n",
      "\n",
      "Depolarizing Channel with 1 qubits.\n",
      "Noise with probability 0.9625: [[1.+0.j 0.+0.j]\n",
      " [0.+0.j 1.+0.j]]\n",
      "Noise with probability 0.0125: [[0.+0.j 1.+0.j]\n",
      " [1.+0.j 0.+0.j]]\n",
      "Noise with probability 0.0125: [[ 0.+0.j -0.-1.j]\n",
      " [ 0.+1.j  0.+0.j]]\n",
      "Noise with probability 0.0125: [[ 1.+0.j  0.+0.j]\n",
      " [ 0.+0.j -1.+0.j]]\n",
      "\n",
      "Damping Channel with 1 qubit\n",
      "amplitude damping prob: 0.01 \n",
      "Damping Channel with 1 qubit\n",
      "phase damping prob: 0.3 \n",
      "Damping Channel with 1 qubit\n",
      "amplitude damping prob: 0.1 phase damping prob: 0.3 prob of stable state: 0.5\n"
     ]
    }
   ],
   "source": [
    "# Build Pauli Error\n",
    "bit_flip = BitflipError(0.05)\n",
    "phase_flip = PhaseflipError(0.05)\n",
    "print(bit_flip)\n",
    "print(phase_flip)\n",
    "\n",
    "# Build Depolarizing Error\n",
    "dpe = DepolarizingError(0.05, 1)\n",
    "print(dpe)\n",
    "\n",
    "# Build Damping Error\n",
    "amp_damping = DampingError(\n",
    "    amplitude_prob=0.01,\n",
    "    phase_prob = 0,\n",
    "    dissipation_state = 0\n",
    ")\n",
    "phase_damping = DampingError(0, 0.3, 0)\n",
    "ampphase_damping = DampingError(0.1, 0.3, 0.5)\n",
    "print(amp_damping)\n",
    "print(phase_damping)\n",
    "print(ampphase_damping)"
   ]
  },
  {
   "cell_type": "code",
   "execution_count": 12,
   "id": "99d13083",
   "metadata": {},
   "outputs": [
    {
     "name": "stdout",
     "output_type": "stream",
     "text": [
      "Noise Model:\n",
      "Basic Gates: ['h', 's', 'sdg', 'x', 'y', 'z', 'sx', 'sy', 'sw', 'id', 'u1', 'u2', 'u3', 'rx', 'ry', 'rz', 't', 'tdg', 'phase', 'cz', 'cx', 'cy', 'ch', 'crz', 'cu1', 'cu3', 'fsim', 'Rxx', 'Ryy', 'Rzz', 'swap', 'cswap', 'ccx', 'ccz', 'CCRz', 'measure', 'reset', 'barrier', 'unitary', 'perm', 'perm_fx', 'qft', 'iqft']\n",
      "Noise Errors:\n",
      "Gates with all qubits: {'y', 'x', 'z'}\n",
      "Gates with specified qubits:[qubits: [1], gates: ['u1']] \n"
     ]
    }
   ],
   "source": [
    "# Build noise model\n",
    "model = NoiseModel()\n",
    "model.add(dpe, ['x', 'y', 'z'])\n",
    "model.add(amp_damping, ['u1'], [1])\n",
    "model.add_noise_for_all_qubits(bit_flip, ['h'])\n",
    "print(model)"
   ]
  },
  {
   "cell_type": "code",
   "execution_count": 13,
   "id": "f8737e27",
   "metadata": {},
   "outputs": [
    {
     "data": {
      "image/png": "[encoded data removed]",
      "text/plain": [
       "<Figure size 653.6x378.4 with 1 Axes>"
      ]
     },
     "metadata": {},
     "output_type": "display_data"
    }
   ],
   "source": [
    "# Build Test Example\n",
    "cir = Circuit(4)\n",
    "H | cir(0)\n",
    "for i in range(3):\n",
    "    CX | cir([i, i+1])\n",
    "Measure | cir\n",
    "cir.draw()"
   ]
  },
  {
   "cell_type": "code",
   "execution_count": 14,
   "id": "58189e38",
   "metadata": {},
   "outputs": [],
   "source": [
    "import matplotlib.pyplot as plt\n",
    "\n",
    "def plot_hist(data):\n",
    "    plt.hist(x=data, bins=\"auto\", alpha=0.9, rwidth=0.85)"
   ]
  },
  {
   "cell_type": "code",
   "execution_count": 15,
   "id": "5b6d53f5",
   "metadata": {},
   "outputs": [
    {
     "data": {
      "image/png": "[encoded data removed]",
      "text/plain": [
       "<Figure size 432x288 with 1 Axes>"
      ]
     },
     "metadata": {
      "needs_background": "light"
     },
     "output_type": "display_data"
    }
   ],
   "source": [
    "# Density Matrix Simulate normal circuit\n",
    "dm_sim = DensityMatrixSimulation()\n",
    "counts = []\n",
    "for _ in range(100):\n",
    "    state = dm_sim.run(cir)\n",
    "    res = int(cir.qubits)\n",
    "    counts.append(res)\n",
    "\n",
    "plot_hist(counts)"
   ]
  },
  {
   "cell_type": "code",
   "execution_count": 16,
   "id": "e54c827b",
   "metadata": {},
   "outputs": [
    {
     "name": "stdout",
     "output_type": "stream",
     "text": [
      "Unitary Channel with 2 qubits.\n",
      "Noise with probability 0.9025: [[1.+0.j 0.+0.j 0.+0.j 0.+0.j]\n",
      " [0.+0.j 1.+0.j 0.+0.j 0.+0.j]\n",
      " [0.+0.j 0.+0.j 1.+0.j 0.+0.j]\n",
      " [0.+0.j 0.+0.j 0.+0.j 1.+0.j]]\n",
      "Noise with probability 0.0475: [[0.+0.j 1.+0.j 0.+0.j 0.+0.j]\n",
      " [1.+0.j 0.+0.j 0.+0.j 0.+0.j]\n",
      " [0.+0.j 0.+0.j 0.+0.j 1.+0.j]\n",
      " [0.+0.j 0.+0.j 1.+0.j 0.+0.j]]\n",
      "Noise with probability 0.0475: [[0.+0.j 0.+0.j 1.+0.j 0.+0.j]\n",
      " [0.+0.j 0.+0.j 0.+0.j 1.+0.j]\n",
      " [1.+0.j 0.+0.j 0.+0.j 0.+0.j]\n",
      " [0.+0.j 1.+0.j 0.+0.j 0.+0.j]]\n",
      "Noise with probability 0.0025000000000000005: [[0.+0.j 0.+0.j 0.+0.j 1.+0.j]\n",
      " [0.+0.j 0.+0.j 1.+0.j 0.+0.j]\n",
      " [0.+0.j 1.+0.j 0.+0.j 0.+0.j]\n",
      " [1.+0.j 0.+0.j 0.+0.j 0.+0.j]]\n",
      "\n"
     ]
    }
   ],
   "source": [
    "# add noise for CX\n",
    "BF_2bits = bit_flip.tensor(bit_flip)\n",
    "model.add(BF_2bits, ['cx'])\n",
    "print(BF_2bits)"
   ]
  },
  {
   "cell_type": "code",
   "execution_count": 18,
   "id": "2a3d3b88",
   "metadata": {},
   "outputs": [
    {
     "data": {
      "image/png": "[encoded data removed]",
      "text/plain": [
       "<Figure size 432x288 with 1 Axes>"
      ]
     },
     "metadata": {
      "needs_background": "light"
     },
     "output_type": "display_data"
    }
   ],
   "source": [
    "# simulate noise circuit\n",
    "counts = []\n",
    "for _ in range(100):\n",
    "    state = dm_sim.run(cir, model)\n",
    "    res = int(cir.qubits)\n",
    "    counts.append(res)\n",
    "\n",
    "plot_hist(counts)"
   ]
  },
  {
   "cell_type": "code",
   "execution_count": null,
   "id": "85de83f5",
   "metadata": {},
   "outputs": [],
   "source": []
  }
 ],
 "metadata": {
  "kernelspec": {
   "display_name": "Python 3",
   "language": "python",
   "name": "python3"
  },
  "language_info": {
   "codemirror_mode": {
    "name": "ipython",
    "version": 3
   },
   "file_extension": ".py",
   "mimetype": "text/x-python",
   "name": "python",
   "nbconvert_exporter": "python",
   "pygments_lexer": "ipython3",
   "version": "3.8.5"
  }
 },
 "nbformat": 4,
 "nbformat_minor": 5
}
