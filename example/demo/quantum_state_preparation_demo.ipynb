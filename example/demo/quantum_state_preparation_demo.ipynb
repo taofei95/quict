{
 "cells": [
  {
   "cell_type": "markdown",
   "metadata": {},
   "source": [
    "# Quantum state preparation\n",
    "\n",
    "In quantum state preparation we need to create a circuit that would transform the zero state, i.e. $\\ket{0}$, to a given state."
   ]
  },
  {
   "cell_type": "code",
   "execution_count": null,
   "metadata": {},
   "outputs": [],
   "source": [
    "import numpy as np\n",
    "# Import everything about gates and circuits\n",
    "from QuICT.core import *\n",
    "from QuICT.core.gate import *\n",
    "\n",
    "def random_unit_vector(n):\n",
    "    real = np.random.random(n)\n",
    "    imag = np.random.random(n)\n",
    "    state_vector = (real + 1j * imag) / np.linalg.norm(real + 1j * imag)\n",
    "    return state_vector"
   ]
  },
  {
   "cell_type": "markdown",
   "metadata": {},
   "source": [
    "## with uniformly gates\n",
    "\n",
    "Möttönen, M., Vartiainen, J.J., Bergholm, V., & Salomaa, M.M. (2005). Transformation of quantum states using uniformly controlled rotations. Quantum Inf. Comput., 5, 467-473."
   ]
  },
  {
   "cell_type": "code",
   "execution_count": null,
   "metadata": {},
   "outputs": [],
   "source": [
    "from QuICT.qcda.synthesis import QuantumStatePreparation\n",
    "\n",
    "n = 4\n",
    "state_vector = random_unit_vector(1 << n)\n",
    "QSP = QuantumStatePreparation('uniformly_gates')\n",
    "gates = QSP.execute(state_vector)\n",
    "circ = Circuit(n)\n",
    "circ.extend(gates)\n",
    "circ.draw()\n",
    "print(circ)"
   ]
  },
  {
   "cell_type": "markdown",
   "metadata": {},
   "source": [
    "## with unitary decomposition\n",
    "\n",
    "Plesch, M., & Brukner, V. (2011). Quantum-state preparation with universal gate decompositions. Physical Review A, 83, 032302."
   ]
  },
  {
   "cell_type": "code",
   "execution_count": null,
   "metadata": {},
   "outputs": [],
   "source": [
    "from QuICT.qcda.synthesis import QuantumStatePreparation\n",
    "\n",
    "n = 4\n",
    "state_vector = random_unit_vector(1 << n)\n",
    "QSP = QuantumStatePreparation('unitary_decomposition')\n",
    "gates = QSP.execute(state_vector)\n",
    "circ = Circuit(n)\n",
    "circ.extend(gates)\n",
    "circ.draw()\n",
    "print(circ)"
   ]
  },
  {
   "cell_type": "markdown",
   "metadata": {},
   "source": [
    "## Sparse\n",
    "\n",
    "Gleinig, N., & Hoefler, T. (2021). An Efficient Algorithm for Sparse Quantum State Preparation. 2021 58th ACM/IEEE Design Automation Conference (DAC), 433-438."
   ]
  },
  {
   "cell_type": "code",
   "execution_count": null,
   "metadata": {},
   "outputs": [],
   "source": [
    "from QuICT.qcda.synthesis import SparseQuantumStatePreparation\n",
    "\n",
    "n = 4\n",
    "k = 4\n",
    "state_vector = np.zeros(1 << n, dtype=complex)\n",
    "nonzeros = random_unit_vector(k)\n",
    "qubits = np.random.choice(range(1 << n), k, replace=False)\n",
    "state_vector[qubits] = nonzeros\n",
    "print(qubits)\n",
    "\n",
    "sparseQSP = SparseQuantumStatePreparation('state_vector')\n",
    "gates = sparseQSP.execute(state_vector)\n",
    "circ = Circuit(n)\n",
    "circ.extend(gates)\n",
    "circ.draw()\n",
    "print(circ)"
   ]
  }
 ],
 "metadata": {
  "kernelspec": {
   "display_name": "Python 3.8.10 ('base')",
   "language": "python",
   "name": "python3"
  },
  "language_info": {
   "codemirror_mode": {
    "name": "ipython",
    "version": 3
   },
   "file_extension": ".py",
   "mimetype": "text/x-python",
   "name": "python",
   "nbconvert_exporter": "python",
   "pygments_lexer": "ipython3",
   "version": "3.8.10"
  },
  "orig_nbformat": 4,
  "vscode": {
   "interpreter": {
    "hash": "ea739c591120dea1de734a7dc1cc60680d368e3c183a015ab06e1f899ee4ad6d"
   }
  }
 },
 "nbformat": 4,
 "nbformat_minor": 2
}
