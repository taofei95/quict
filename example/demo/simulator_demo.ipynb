{
 "cells": [
  {
   "cell_type": "code",
   "execution_count": 1,
   "id": "d16646b7",
   "metadata": {},
   "outputs": [],
   "source": [
    "import random\n",
    "import numpy as np\n",
    "from scipy.stats import unitary_group\n",
    "\n",
    "# import circuit, gates\n",
    "from QuICT.core import Circuit\n",
    "from QuICT.core.gate import *\n",
    "from QuICT.core.utils import GateType\n",
    "from QuICT.simulation.simulator import Simulator\n",
    "from QuICT.simulation.gpu_simulator import ConstantStateVectorSimulator"
   ]
  },
  {
   "cell_type": "markdown",
   "id": "26584503",
   "metadata": {},
   "source": [
    "# Circuit"
   ]
  },
  {
   "cell_type": "code",
   "execution_count": 2,
   "id": "2f8ab821",
   "metadata": {},
   "outputs": [
    {
     "data": {
      "image/png": "[encoded data removed]",
      "text/plain": [
       "<Figure size 997.6x464.4 with 1 Axes>"
      ]
     },
     "metadata": {},
     "output_type": "display_data"
    }
   ],
   "source": [
    "# build circuit with 5 quantum qubits\n",
    "qubits = 5\n",
    "cir = Circuit(qubits)\n",
    "\n",
    "# append gates into circuit\n",
    "gate_size = 10\n",
    "typelist = [GateType.rx, GateType.ry, GateType.rz, GateType.x, GateType.y, GateType.z, GateType.cx]\n",
    "cir.random_append(gate_size, typelist=typelist)\n",
    "target = random.sample(range(5), 3)\n",
    "CCX | cir(target)\n",
    "cir.random_append(gate_size, typelist=typelist)\n",
    "\n",
    "cir.draw(filename=\"simulator_circuit\")"
   ]
  },
  {
   "cell_type": "markdown",
   "id": "0aa9c0c6",
   "metadata": {},
   "source": [
    "# Simulator"
   ]
  },
  {
   "cell_type": "code",
   "execution_count": 3,
   "id": "7717268d",
   "metadata": {},
   "outputs": [],
   "source": [
    "# Using GPU simulator\n",
    "gpu_simulator = ConstantStateVectorSimulator(\n",
    "    precision=\"double\",\n",
    "    optimize=True,\n",
    "    gpu_device_id=0,\n",
    "    sync=True\n",
    ")"
   ]
  },
  {
   "cell_type": "code",
   "execution_count": 4,
   "id": "e855df0d",
   "metadata": {},
   "outputs": [
    {
     "data": {
      "text/plain": [
       "array([ 0.00000000e+00+0.j ,  0.00000000e+00+0.j ,  0.00000000e+00+0.j ,\n",
       "        0.00000000e+00+0.j ,  0.00000000e+00+0.j ,  0.00000000e+00+0.j ,\n",
       "        0.00000000e+00+0.j ,  0.00000000e+00+0.j ,  1.28942506e-16+0.5j,\n",
       "       -0.00000000e+00+0.j , -5.04378831e-17-0.5j, -0.00000000e+00+0.j ,\n",
       "       -1.95950393e-16-0.5j, -0.00000000e+00+0.j ,  1.17445770e-16+0.5j,\n",
       "       -0.00000000e+00+0.j ,  0.00000000e+00+0.j ,  0.00000000e+00+0.j ,\n",
       "        0.00000000e+00+0.j ,  0.00000000e+00+0.j ,  0.00000000e+00+0.j ,\n",
       "        0.00000000e+00+0.j ,  0.00000000e+00+0.j ,  0.00000000e+00+0.j ,\n",
       "       -0.00000000e+00+0.j , -0.00000000e+00+0.j , -0.00000000e+00+0.j ,\n",
       "       -0.00000000e+00+0.j , -0.00000000e+00+0.j , -0.00000000e+00+0.j ,\n",
       "       -0.00000000e+00+0.j , -0.00000000e+00+0.j ])"
      ]
     },
     "execution_count": 4,
     "metadata": {},
     "output_type": "execute_result"
    }
   ],
   "source": [
    "gpu_simulator.run(circuit=cir)"
   ]
  },
  {
   "cell_type": "code",
   "execution_count": 8,
   "id": "fd76f451",
   "metadata": {},
   "outputs": [],
   "source": [
    "# Using simulator with CPU\n",
    "simulator = Simulator(\n",
    "    device=\"CPU\",   # [CPU/GPU/qiskit/qcompute]\n",
    "    backend=\"statevector\",\n",
    "    shots=10\n",
    ")"
   ]
  },
  {
   "cell_type": "code",
   "execution_count": 9,
   "id": "024fcc88",
   "metadata": {},
   "outputs": [
    {
     "name": "stderr",
     "output_type": "stream",
     "text": [
      "/home/likaiqi/Workplace/test/QuICT/QuICT/simulation/cpu_simulator/cpu.py:211: Warning: Attention! You are using a working-in-process version of circuit simulator!\n",
      "  warnings.warn(\n"
     ]
    },
    {
     "data": {
      "text/plain": [
       "{'id': '1f77075aa36c11ec93d471343a620809',\n",
       " 'device': 'CPU',\n",
       " 'backend': 'statevector',\n",
       " 'shots': 10,\n",
       " 'options': {'precision': 'double'},\n",
       " 'spending_time': 0.006925034523010255,\n",
       " 'counts': defaultdict(int, {'01010': 2, '01100': 2, '01000': 5, '01110': 1}),\n",
       " 'output_path': '/home/likaiqi/Workplace/test/QuICT/example/demo/output/1f77075aa36c11ec93d471343a620809'}"
      ]
     },
     "execution_count": 9,
     "metadata": {},
     "output_type": "execute_result"
    }
   ],
   "source": [
    "simulator.run(cir, use_previous=False, circuit_out=True, statevector_out=True)"
   ]
  },
  {
   "cell_type": "code",
   "execution_count": null,
   "id": "33620e8a",
   "metadata": {},
   "outputs": [],
   "source": []
  }
 ],
 "metadata": {
  "kernelspec": {
   "display_name": "Python 3",
   "language": "python",
   "name": "python3"
  },
  "language_info": {
   "codemirror_mode": {
    "name": "ipython",
    "version": 3
   },
   "file_extension": ".py",
   "mimetype": "text/x-python",
   "name": "python",
   "nbconvert_exporter": "python",
   "pygments_lexer": "ipython3",
   "version": "3.8.5"
  }
 },
 "nbformat": 4,
 "nbformat_minor": 5
}
