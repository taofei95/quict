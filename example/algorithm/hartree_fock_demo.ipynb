{
 "cells": [
  {
   "attachments": {},
   "cell_type": "markdown",
   "metadata": {},
   "source": [
    "# Hartree-Fock VQE Demo"
   ]
  },
  {
   "cell_type": "code",
   "execution_count": null,
   "metadata": {},
   "outputs": [],
   "source": [
    "import tqdm\n",
    "import pickle\n",
    "\n",
    "import numpy as np\n",
    "import scipy as sp\n",
    "import numpy_ml\n",
    "\n",
    "from molecular_data import MolecularData, obi_basis_rotation, tbi_basis_rotation, generate_hamiltonian\n",
    "from QuICT.algorithm.quantum_machine_learning.model.VQE.operators.encoder import JordanWigner\n",
    "from QuICT.algorithm.quantum_machine_learning.model.VQE import HartreeFockVQENet\n",
    "from QuICT.algorithm.quantum_machine_learning.utils import Hamiltonian"
   ]
  },
  {
   "attachments": {},
   "cell_type": "markdown",
   "metadata": {},
   "source": [
    "## Load the data"
   ]
  },
  {
   "cell_type": "code",
   "execution_count": null,
   "metadata": {},
   "outputs": [],
   "source": [
    "moldir = \"./molecular_data\"\n",
    "molfile = moldir + \"/H6_sto-3g_singlet_linear_r-1.3.hdf5\"\n",
    "moldata = MolecularData(molfile)\n",
    "\n",
    "overlap = np.load(moldir + \"/overlap.npy\")\n",
    "Hcore = np.load(moldir + \"/h_core.npy\")\n",
    "two_electron_integral = np.einsum(\"psqr\", np.load(moldir + \"/tei.npy\"))  # (1, 1, 0, 0)\n",
    "\n",
    "_, X = sp.linalg.eigh(Hcore, overlap)\n",
    "obi = obi_basis_rotation(Hcore, X)\n",
    "tbi = tbi_basis_rotation(two_electron_integral, X)\n",
    "molecular_hamiltonian = generate_hamiltonian(moldata.nuclear_repulsion, obi, tbi)"
   ]
  },
  {
   "attachments": {},
   "cell_type": "markdown",
   "metadata": {},
   "source": [
    "## Convert the Hamiltonian"
   ]
  },
  {
   "cell_type": "code",
   "execution_count": null,
   "metadata": {},
   "outputs": [],
   "source": [
    "fermi_op = molecular_hamiltonian.get_fermion_operator()\n",
    "orbitals = 2 * moldata.n_orbitals\n",
    "electrons = moldata.n_electrons\n",
    "qubit_op = JordanWigner(orbitals).encode(fermi_op)\n",
    "hamiltonian = Hamiltonian(qubit_op.to_hamiltonian())\n",
    "\n",
    "ham_str = pickle.dumps(hamiltonian)\n",
    "with open('hamiltonian', 'wb') as f:\n",
    "    f.write(ham_str)"
   ]
  },
  {
   "attachments": {},
   "cell_type": "markdown",
   "metadata": {},
   "source": [
    "## Calculate the ground energy"
   ]
  },
  {
   "cell_type": "code",
   "execution_count": null,
   "metadata": {},
   "outputs": [],
   "source": [
    "MAX_ITERS = 1000\n",
    "LR = 0.1\n",
    "\n",
    "orbitals = 2 * moldata.n_orbitals\n",
    "electrons = moldata.n_electrons\n",
    "with open('hamiltonian', 'rb') as f:\n",
    "    hamiltonian = pickle.load(f)\n",
    "hfvqe_net = HartreeFockVQENet(orbitals, electrons, hamiltonian)\n",
    "optim = numpy_ml.neural_nets.optimizers.Adam(lr=LR)\n",
    "energy = []\n",
    "\n",
    "loader = tqdm.trange(MAX_ITERS, desc=\"Training\", leave=True)\n",
    "for it in loader:\n",
    "    state, loss = hfvqe_net.run_step(optim)\n",
    "    print(hfvqe_net.params)\n",
    "    for g in hfvqe_net._circuit.gates:\n",
    "        print(g.type, g.parg)\n",
    "    loader.set_postfix(loss=loss.item())\n",
    "\n",
    "print(energy)\n",
    "print(hfvqe_net.params)\n",
    "print(float(loss))"
   ]
  }
 ],
 "metadata": {
  "kernelspec": {
   "display_name": "base",
   "language": "python",
   "name": "python3"
  },
  "language_info": {
   "codemirror_mode": {
    "name": "ipython",
    "version": 3
   },
   "file_extension": ".py",
   "mimetype": "text/x-python",
   "name": "python",
   "nbconvert_exporter": "python",
   "pygments_lexer": "ipython3",
   "version": "3.8.10"
  },
  "orig_nbformat": 4,
  "vscode": {
   "interpreter": {
    "hash": "ea739c591120dea1de734a7dc1cc60680d368e3c183a015ab06e1f899ee4ad6d"
   }
  }
 },
 "nbformat": 4,
 "nbformat_minor": 2
}
