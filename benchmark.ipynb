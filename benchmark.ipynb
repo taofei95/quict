{
 "cells": [
  {
   "cell_type": "code",
   "execution_count": 8,
   "metadata": {},
   "outputs": [],
   "source": [
    "from QuICT.benchmark.benchmark import QuICTBenchmark\n",
    "import numpy as np\n",
    "import scipy.stats"
   ]
  },
  {
   "cell_type": "code",
   "execution_count": 9,
   "metadata": {},
   "outputs": [
    {
     "ename": "UnboundLocalError",
     "evalue": "local variable 'Excel' referenced before assignment",
     "output_type": "error",
     "traceback": [
      "\u001b[0;31m---------------------------------------------------------------------------\u001b[0m",
      "\u001b[0;31mUnboundLocalError\u001b[0m                         Traceback (most recent call last)",
      "\u001b[1;32m/home/wangrui/quict/benchmark.ipynb Cell 2\u001b[0m in \u001b[0;36m<cell line: 4>\u001b[0;34m()\u001b[0m\n\u001b[1;32m      <a href='vscode-notebook-cell://ssh-remote%2B7b22686f73744e616d65223a224750552d65787465726e616c227d/home/wangrui/quict/benchmark.ipynb#W1sdnNjb2RlLXJlbW90ZQ%3D%3D?line=1'>2</a>\u001b[0m cir_list \u001b[39m=\u001b[39m bench\u001b[39m.\u001b[39mget_circuit([\u001b[39m\"\u001b[39m\u001b[39mgrover\u001b[39m\u001b[39m\"\u001b[39m], \u001b[39m4\u001b[39m, \u001b[39m25\u001b[39m, \u001b[39m12\u001b[39m)\n\u001b[1;32m      <a href='vscode-notebook-cell://ssh-remote%2B7b22686f73744e616d65223a224750552d65787465726e616c227d/home/wangrui/quict/benchmark.ipynb#W1sdnNjb2RlLXJlbW90ZQ%3D%3D?line=2'>3</a>\u001b[0m result \u001b[39m=\u001b[39m [np\u001b[39m.\u001b[39mload(\u001b[39m\"\u001b[39m\u001b[39mgrover1.npy\u001b[39m\u001b[39m\"\u001b[39m)]\n\u001b[0;32m----> <a href='vscode-notebook-cell://ssh-remote%2B7b22686f73744e616d65223a224750552d65787465726e616c227d/home/wangrui/quict/benchmark.ipynb#W1sdnNjb2RlLXJlbW90ZQ%3D%3D?line=3'>4</a>\u001b[0m ev \u001b[39m=\u001b[39m bench\u001b[39m.\u001b[39;49mevaluate(circuit_list\u001b[39m=\u001b[39;49mcir_list[\u001b[39m0\u001b[39;49m], result_list\u001b[39m=\u001b[39;49mresult, output_type\u001b[39m=\u001b[39;49m\u001b[39m\"\u001b[39;49m\u001b[39mTable\u001b[39;49m\u001b[39m\"\u001b[39;49m)\n",
      "File \u001b[0;32m~/quict/QuICT/benchmark/benchmark.py:120\u001b[0m, in \u001b[0;36mQuICTBenchmark.evaluate\u001b[0;34m(self, circuit_list, result_list, output_type)\u001b[0m\n\u001b[1;32m    109\u001b[0m \u001b[39m# Step 3: Show Result\u001b[39;00m\n\u001b[1;32m    110\u001b[0m result_dict \u001b[39m=\u001b[39m {\u001b[39m\"\u001b[39m\u001b[39mfield\u001b[39m\u001b[39m\"\u001b[39m:field,\n\u001b[1;32m    111\u001b[0m                \u001b[39m\"\u001b[39m\u001b[39mcircuit_size\u001b[39m\u001b[39m\"\u001b[39m: circuit\u001b[39m.\u001b[39msize(),\n\u001b[1;32m    112\u001b[0m             \u001b[39m\"\u001b[39m\u001b[39mcircuit_width\u001b[39m\u001b[39m\"\u001b[39m: circuit\u001b[39m.\u001b[39mwidth(),\n\u001b[0;32m   (...)\u001b[0m\n\u001b[1;32m    117\u001b[0m            \u001b[39m\"\u001b[39m\u001b[39malg_cal\u001b[39m\u001b[39m\"\u001b[39m:  score_list[\u001b[39m2\u001b[39m]\n\u001b[1;32m    118\u001b[0m            }\n\u001b[0;32m--> 120\u001b[0m show \u001b[39m=\u001b[39m \u001b[39mself\u001b[39;49m\u001b[39m.\u001b[39;49mshow_result(result_dict, output_type)\n\u001b[1;32m    122\u001b[0m \u001b[39mreturn\u001b[39;00m result_dict\n",
      "File \u001b[0;32m~/quict/QuICT/benchmark/benchmark.py:229\u001b[0m, in \u001b[0;36mQuICTBenchmark.show_result\u001b[0;34m(self, result_dict, output_type)\u001b[0m\n\u001b[1;32m    226\u001b[0m \u001b[39m# Excel\u001b[39;00m\n\u001b[1;32m    227\u001b[0m \u001b[39melse\u001b[39;00m:\n\u001b[1;32m    228\u001b[0m     Excel \u001b[39m=\u001b[39m \u001b[39mself\u001b[39m\u001b[39m.\u001b[39m_excel_show(result_dict)\n\u001b[0;32m--> 229\u001b[0m \u001b[39mreturn\u001b[39;00m Excel\n",
      "\u001b[0;31mUnboundLocalError\u001b[0m: local variable 'Excel' referenced before assignment"
     ]
    }
   ],
   "source": [
    "bench = QuICTBenchmark(\"circuit\", \"Graph\")\n",
    "cir_list = bench.get_circuit([\"grover\"], 4, 25, 12)\n",
    "result = [np.load(\"grover1.npy\")]\n",
    "ev = bench.evaluate(circuit_list=cir_list[0], result_list=result, output_type=\"Table\")"
   ]
  },
  {
   "cell_type": "code",
   "execution_count": null,
   "metadata": {},
   "outputs": [],
   "source": [
    "print(ev)"
   ]
  }
 ],
 "metadata": {
  "kernelspec": {
   "display_name": "Python 3.8.13 ('env_gpu')",
   "language": "python",
   "name": "python3"
  },
  "language_info": {
   "codemirror_mode": {
    "name": "ipython",
    "version": 3
   },
   "file_extension": ".py",
   "mimetype": "text/x-python",
   "name": "python",
   "nbconvert_exporter": "python",
   "pygments_lexer": "ipython3",
   "version": "3.8.13"
  },
  "orig_nbformat": 4,
  "vscode": {
   "interpreter": {
    "hash": "4a1e0e3fbb4a86ec8d569c9e53e8dc7148a48665ce3c2fe7df7a9692830ccbbf"
   }
  }
 },
 "nbformat": 4,
 "nbformat_minor": 2
}
