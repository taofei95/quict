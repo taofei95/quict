{
 "cells": [
  {
   "cell_type": "code",
   "execution_count": 1,
   "metadata": {},
   "outputs": [
    {
     "name": "stdout",
     "output_type": "stream",
     "text": [
      "Please install quict_sim first, you can use 'pip install quict_sim' to install. \n",
      "Please install pytorch, torch-geometric, torch-sparse, tensorboard, cupy and quict_ml first, you can use 'pip install quict-ml' to install quict_ml. \n",
      "Please install pytorch, cupy and quict_ml first, you can use 'pip install quict-ml' to install quict_ml. \n"
     ]
    }
   ],
   "source": [
    "import numpy as np\n",
    "import collections\n",
    "import tqdm\n",
    "from torchvision import datasets, transforms\n",
    "import matplotlib.pyplot as plt\n",
    "import sys\n",
    "import random\n",
    "import time\n",
    "\n",
    "import mindspore as ms\n",
    "# from mindquantum.core.circuit import Circuit, controlled\n",
    "# from mindquantum.core.gates import H, ZZ, RX, RY, XX\n",
    "# from mindquantum.core.operators import Hamiltonian, QubitOperator\n",
    "# from mindquantum.framework import MQAnsatzOnlyLayer\n",
    "from mindquantum.simulator import Simulator\n",
    "from ansatz import Ansatz\n",
    "\n",
    "import sys\n",
    "sys.path.append(\"/home/zoker/quict\")\n",
    "from QuICT.algorithm.quantum_machine_learning.data import *\n",
    "from frqi import HIQFRQI\n",
    "from QuICT.algorithm.quantum_machine_learning.encoding import *\n",
    "from QuICT.simulation.state_vector import StateVectorSimulator\n",
    "from QuICT.core.circuit import Circuit\n",
    "from QuICT.core.gate import *"
   ]
  },
  {
   "cell_type": "code",
   "execution_count": 2,
   "metadata": {},
   "outputs": [],
   "source": [
    "RESIZE = (4, 4)\n",
    "QUBIT = int(np.log2(RESIZE[0] * RESIZE[1]) + 2)"
   ]
  },
  {
   "cell_type": "code",
   "execution_count": 3,
   "metadata": {},
   "outputs": [
    {
     "name": "stdout",
     "output_type": "stream",
     "text": [
      "Training examples:  60000\n",
      "Testing examples:  10000\n",
      "Filtered training examples:  12049\n",
      "Filtered testing examples:  1968\n",
      "Label:  tensor(False)\n",
      "Remaining training examples:  10338\n",
      "Remaining testing examples:  1793\n"
     ]
    },
    {
     "data": {
      "image/png": "[encoded data removed]",
      "text/plain": [
       "<Figure size 432x288 with 1 Axes>"
      ]
     },
     "metadata": {
      "needs_background": "light"
     },
     "output_type": "display_data"
    }
   ],
   "source": [
    "train_data = datasets.MNIST(root=\"./data/\", train=True, download=True)\n",
    "test_data = datasets.MNIST(root=\"./data/\", train=False, download=True)\n",
    "train_X = train_data.data\n",
    "train_Y = train_data.targets\n",
    "test_X = test_data.data\n",
    "test_Y = test_data.targets\n",
    "print(\"Training examples: \", len(train_Y))\n",
    "print(\"Testing examples: \", len(test_Y))\n",
    "\n",
    "\n",
    "def filter_targets(X, Y, class0=3, class1=6):\n",
    "    idx = (Y == class0) | (Y == class1)\n",
    "    X, Y = (X[idx], Y[idx])\n",
    "    Y = Y == class1\n",
    "    return X, Y\n",
    "\n",
    "\n",
    "train_X, train_Y = filter_targets(train_X, train_Y)\n",
    "test_X, test_Y = filter_targets(test_X, test_Y)\n",
    "print(\"Filtered training examples: \", len(train_Y))\n",
    "print(\"Filtered testing examples: \", len(test_Y))\n",
    "print(\"Label: \", train_Y[200])\n",
    "plt.imshow(train_X[200], cmap=\"gray\")\n",
    "\n",
    "\n",
    "def downscale(X, resize):\n",
    "    transform = transforms.Resize(size=resize)\n",
    "    X = transform(X) / 255.0\n",
    "    return X\n",
    "\n",
    "\n",
    "resized_train_X = downscale(train_X, RESIZE)\n",
    "resized_test_X = downscale(test_X, RESIZE)\n",
    "plt.imshow(resized_train_X[200], cmap=\"gray\")\n",
    "\n",
    "\n",
    "def remove_conflict(X, Y, resize):\n",
    "    x_dict = collections.defaultdict(set)\n",
    "    for x, y in zip(X, Y):\n",
    "        x_dict[tuple(x.numpy().flatten())].add(y.item())\n",
    "    X_rmcon = []\n",
    "    Y_rmcon = []\n",
    "    for x in x_dict.keys():\n",
    "        if len(x_dict[x]) == 1:\n",
    "            X_rmcon.append(np.array(x).reshape(resize))\n",
    "            Y_rmcon.append(list(x_dict[x])[0])\n",
    "    X = np.array(X_rmcon)\n",
    "    Y = np.array(Y_rmcon)\n",
    "    return X, Y\n",
    "\n",
    "\n",
    "nocon_train_X, nocon_train_Y = remove_conflict(resized_train_X, train_Y, RESIZE)\n",
    "nocon_test_X, nocon_test_Y = remove_conflict(resized_test_X, test_Y, RESIZE)\n",
    "print(\"Remaining training examples: \", len(nocon_train_Y))\n",
    "print(\"Remaining testing examples: \", len(nocon_test_Y))\n",
    "\n",
    "\n",
    "def binary_img(X, threshold):\n",
    "    X = X > threshold\n",
    "    X = X.astype(np.int16)\n",
    "    return X\n",
    "\n",
    "\n",
    "threshold = 0.5\n",
    "bin_train_X = binary_img(nocon_train_X, threshold)\n",
    "bin_test_X = binary_img(nocon_test_X, threshold)\n",
    "\n",
    "\n",
    "def encoding_img(X, encoding):\n",
    "    data_circuits = []\n",
    "    for i in tqdm.tqdm(range(len(X))):\n",
    "        data_circuit = encoding(X[i])\n",
    "        data_circuits.append(data_circuit)\n",
    "\n",
    "    return data_circuits\n"
   ]
  },
  {
   "cell_type": "code",
   "execution_count": 4,
   "metadata": {},
   "outputs": [],
   "source": [
    "EPOCH = 3  # 训练总轮数\n",
    "BATCH_SIZE = 1  # 一次迭代使用的样本数\n",
    "LR = 0.001  # 梯度下降的学习率\n",
    "SEED = 17  # 随机数种子\n",
    "\n",
    "np.random.seed(SEED)\n",
    "random.seed(SEED)\n",
    "ms.set_seed(SEED)"
   ]
  },
  {
   "cell_type": "code",
   "execution_count": 5,
   "metadata": {},
   "outputs": [],
   "source": [
    "train_X = bin_train_X\n",
    "test_X = bin_test_X\n",
    "train_Y = nocon_train_Y\n",
    "test_Y = nocon_test_Y\n",
    "\n",
    "train_dataset = Dataset(train_X, train_Y)\n",
    "test_dataset = Dataset(test_X, test_Y)\n",
    "train_loader = DataLoader(\n",
    "    dataset=train_dataset, batch_size=BATCH_SIZE, shuffle=True, drop_last=True\n",
    ")\n",
    "test_loader = DataLoader(\n",
    "    dataset=test_dataset, batch_size=BATCH_SIZE, shuffle=True, drop_last=True\n",
    ")"
   ]
  },
  {
   "cell_type": "code",
   "execution_count": 6,
   "metadata": {},
   "outputs": [],
   "source": [
    "# import torch.utils.tensorboard\n",
    "\n",
    "# now_time = time.strftime(\"%Y-%m-%d-%H_%M_%S\", time.localtime(time.time()))\n",
    "# model_path = \"D:/ICT/dev_qml/quict/QNN2.0_MNIST_\" + now_time + \"/\"\n",
    "# tb = torch.utils.tensorboard.SummaryWriter(log_dir=model_path + \"logs\")"
   ]
  },
  {
   "cell_type": "code",
   "execution_count": 7,
   "metadata": {},
   "outputs": [],
   "source": [
    "# encoding = FRQI(2)\n",
    "# data_circuit = encoding()\n",
    "# data_circuit.as_encoder()\n",
    "# ansatz = Ansatz(QUBIT)\n",
    "# model_circuit = ansatz()\n",
    "# model_circuit.as_ansatz()\n",
    "# ham = Hamiltonian(QubitOperator('Z'+str(QUBIT-1), -1))\n",
    "# sim = Simulator('mqvector', QUBIT)"
   ]
  },
  {
   "cell_type": "code",
   "execution_count": 8,
   "metadata": {},
   "outputs": [
    {
     "name": "stderr",
     "output_type": "stream",
     "text": [
      "100%|██████████| 10338/10338 [00:37<00:00, 277.11it/s]\n"
     ]
    }
   ],
   "source": [
    "quict_frqi = FRQI(2)\n",
    "hiq_frqi = HIQFRQI(2)\n",
    "quict_sim = StateVectorSimulator(device=\"CPU\")\n",
    "n_qubits = int(np.log2(RESIZE[0] * RESIZE[1])) + 1\n",
    "hiq_sim = Simulator('mqvector', n_qubits)\n",
    "\n",
    "\n",
    "loader = tqdm.tqdm(train_loader, leave=True)\n",
    "for it, (x_train, y_train) in enumerate(loader):\n",
    "    hiq_sim.reset()\n",
    "    quict_datacir = quict_frqi(x_train[0], use_qic=False)\n",
    "    hiq_datacir = hiq_frqi(x_train[0])\n",
    "    quict_sv = quict_sim.run(quict_datacir)\n",
    "    hiq_sim.apply_circuit(hiq_datacir)\n",
    "    hiq_sv = hiq_sim.get_qs()\n",
    "    if abs(np.linalg.norm(quict_sv - hiq_sv)) > 1e-12:\n",
    "        print(it)\n",
    "        print(\"FALSE\")\n",
    "        print(x_train[0])\n",
    "        print(quict_sv)\n",
    "        print(hiq_sv)\n",
    "        hiq_datacir.svg()\n",
    "        break\n"
   ]
  },
  {
   "cell_type": "code",
   "execution_count": 9,
   "metadata": {},
   "outputs": [
    {
     "data": {
      "image/svg+xml": [
       "<div class=\"nb-html-output output_area\"><svg xmlns=\"http://www.w3.org/2000/svg\" width=\"456.8\" height=\"320.0\" xmlns:xlink=\"http://www.w3.org/1999/xlink\">\n",
       "<rect x=\"0\" y=\"0.0\" width=\"456.8\" height=\"320.0\" fill=\"#ffffff\" />\n",
       "<text x=\"20.0\" y=\"40.0\" font-size=\"16px\" dominant-baseline=\"middle\" text-anchor=\"start\" font-family=\"Arial\" font-weight=\"normal\" fill=\"#252b3a\" >\n",
       "q0:\n",
       " </text>\n",
       "<text x=\"20.0\" y=\"100.0\" font-size=\"16px\" dominant-baseline=\"middle\" text-anchor=\"start\" font-family=\"Arial\" font-weight=\"normal\" fill=\"#252b3a\" >\n",
       "q1:\n",
       " </text>\n",
       "<text x=\"20.0\" y=\"160.0\" font-size=\"16px\" dominant-baseline=\"middle\" text-anchor=\"start\" font-family=\"Arial\" font-weight=\"normal\" fill=\"#252b3a\" >\n",
       "q2:\n",
       " </text>\n",
       "<text x=\"20.0\" y=\"220.0\" font-size=\"16px\" dominant-baseline=\"middle\" text-anchor=\"start\" font-family=\"Arial\" font-weight=\"normal\" fill=\"#252b3a\" >\n",
       "q3:\n",
       " </text>\n",
       "<text x=\"20.0\" y=\"280.0\" font-size=\"16px\" dominant-baseline=\"middle\" text-anchor=\"start\" font-family=\"Arial\" font-weight=\"normal\" fill=\"#252b3a\" >\n",
       "q4:\n",
       " </text>\n",
       "<line x1=\"48.8\" x2=\"436.8\" y1=\"40.0\" y2=\"40.0\" stroke=\"#adb0b8\" stroke-width=\"1\" />\n",
       "<line x1=\"48.8\" x2=\"436.8\" y1=\"100.0\" y2=\"100.0\" stroke=\"#adb0b8\" stroke-width=\"1\" />\n",
       "<line x1=\"48.8\" x2=\"436.8\" y1=\"160.0\" y2=\"160.0\" stroke=\"#adb0b8\" stroke-width=\"1\" />\n",
       "<line x1=\"48.8\" x2=\"436.8\" y1=\"220.0\" y2=\"220.0\" stroke=\"#adb0b8\" stroke-width=\"1\" />\n",
       "<line x1=\"48.8\" x2=\"436.8\" y1=\"280.0\" y2=\"280.0\" stroke=\"#adb0b8\" stroke-width=\"1\" />\n",
       "\n",
       "<rect x=\"72.8\" y=\"20.0\" width=\"40.0\" height=\"40\" rx=\"4\" ry=\"4\" stroke=\"#ffffff\" stroke-width=\"0\" fill=\"#5e7ce0\" fill-opacity=\"1\" />\n",
       "<text x=\"92.8\" y=\"40.0\" font-size=\"20px\" dominant-baseline=\"middle\" text-anchor=\"middle\" font-family=\"Arial\" font-weight=\"normal\" fill=\"#ffffff\" >\n",
       "H\n",
       " </text>\n",
       "\n",
       "\n",
       "<rect x=\"72.8\" y=\"80.0\" width=\"40.0\" height=\"40\" rx=\"4\" ry=\"4\" stroke=\"#ffffff\" stroke-width=\"0\" fill=\"#5e7ce0\" fill-opacity=\"1\" />\n",
       "<text x=\"92.8\" y=\"100.0\" font-size=\"20px\" dominant-baseline=\"middle\" text-anchor=\"middle\" font-family=\"Arial\" font-weight=\"normal\" fill=\"#ffffff\" >\n",
       "H\n",
       " </text>\n",
       "\n",
       "\n",
       "<rect x=\"72.8\" y=\"140.0\" width=\"40.0\" height=\"40\" rx=\"4\" ry=\"4\" stroke=\"#ffffff\" stroke-width=\"0\" fill=\"#5e7ce0\" fill-opacity=\"1\" />\n",
       "<text x=\"92.8\" y=\"160.0\" font-size=\"20px\" dominant-baseline=\"middle\" text-anchor=\"middle\" font-family=\"Arial\" font-weight=\"normal\" fill=\"#ffffff\" >\n",
       "H\n",
       " </text>\n",
       "\n",
       "\n",
       "<rect x=\"72.8\" y=\"200.0\" width=\"40.0\" height=\"40\" rx=\"4\" ry=\"4\" stroke=\"#ffffff\" stroke-width=\"0\" fill=\"#5e7ce0\" fill-opacity=\"1\" />\n",
       "<text x=\"92.8\" y=\"220.0\" font-size=\"20px\" dominant-baseline=\"middle\" text-anchor=\"middle\" font-family=\"Arial\" font-weight=\"normal\" fill=\"#ffffff\" >\n",
       "H\n",
       " </text>\n",
       "\n",
       "\n",
       "<rect x=\"132.8\" y=\"80.0\" width=\"40.0\" height=\"40\" rx=\"4\" ry=\"4\" stroke=\"#ffffff\" stroke-width=\"0\" fill=\"#5e7ce0\" fill-opacity=\"1\" />\n",
       "<text x=\"152.8\" y=\"100.0\" font-size=\"20px\" dominant-baseline=\"middle\" text-anchor=\"middle\" font-family=\"Arial\" font-weight=\"normal\" fill=\"#ffffff\" >\n",
       "X\n",
       " </text>\n",
       "\n",
       "\n",
       "<rect x=\"132.8\" y=\"200.0\" width=\"40.0\" height=\"40\" rx=\"4\" ry=\"4\" stroke=\"#ffffff\" stroke-width=\"0\" fill=\"#5e7ce0\" fill-opacity=\"1\" />\n",
       "<text x=\"152.8\" y=\"220.0\" font-size=\"20px\" dominant-baseline=\"middle\" text-anchor=\"middle\" font-family=\"Arial\" font-weight=\"normal\" fill=\"#ffffff\" >\n",
       "X\n",
       " </text>\n",
       "\n",
       "<circle cx=\"212.8\" cy=\"40.0\" r=\"4\" fill=\"#fac209\" />\n",
       "<circle cx=\"212.8\" cy=\"100.0\" r=\"4\" fill=\"#fac209\" />\n",
       "<circle cx=\"212.8\" cy=\"160.0\" r=\"4\" fill=\"#fac209\" />\n",
       "<circle cx=\"212.8\" cy=\"220.0\" r=\"4\" fill=\"#fac209\" />\n",
       "<line x1=\"212.8\" x2=\"212.8\" y1=\"40.0\" y2=\"280.0\" stroke=\"#fac209\" stroke-width=\"3\" />\n",
       "<rect x=\"192.8\" y=\"260.0\" width=\"40.0\" height=\"40\" rx=\"4\" ry=\"4\" stroke=\"#ffffff\" stroke-width=\"0\" fill=\"#fac209\" fill-opacity=\"1\" />\n",
       "<text x=\"212.8\" y=\"276.0\" font-size=\"20px\" dominant-baseline=\"middle\" text-anchor=\"middle\" font-family=\"Arial\" font-weight=\"normal\" fill=\"#ffffff\" >\n",
       "RY\n",
       " </text>\n",
       "<text x=\"212.8\" y=\"292.0\" font-size=\"14.0px\" dominant-baseline=\"middle\" text-anchor=\"middle\" font-family=\"Arial\" font-weight=\"normal\" fill=\"#ffffff\" >\n",
       "π\n",
       " </text>\n",
       "\n",
       "\n",
       "<rect x=\"252.8\" y=\"80.0\" width=\"40.0\" height=\"40\" rx=\"4\" ry=\"4\" stroke=\"#ffffff\" stroke-width=\"0\" fill=\"#5e7ce0\" fill-opacity=\"1\" />\n",
       "<text x=\"272.8\" y=\"100.0\" font-size=\"20px\" dominant-baseline=\"middle\" text-anchor=\"middle\" font-family=\"Arial\" font-weight=\"normal\" fill=\"#ffffff\" >\n",
       "X\n",
       " </text>\n",
       "\n",
       "\n",
       "<rect x=\"252.8\" y=\"140.0\" width=\"40.0\" height=\"40\" rx=\"4\" ry=\"4\" stroke=\"#ffffff\" stroke-width=\"0\" fill=\"#5e7ce0\" fill-opacity=\"1\" />\n",
       "<text x=\"272.8\" y=\"160.0\" font-size=\"20px\" dominant-baseline=\"middle\" text-anchor=\"middle\" font-family=\"Arial\" font-weight=\"normal\" fill=\"#ffffff\" >\n",
       "X\n",
       " </text>\n",
       "\n",
       "\n",
       "<rect x=\"252.8\" y=\"200.0\" width=\"40.0\" height=\"40\" rx=\"4\" ry=\"4\" stroke=\"#ffffff\" stroke-width=\"0\" fill=\"#5e7ce0\" fill-opacity=\"1\" />\n",
       "<text x=\"272.8\" y=\"220.0\" font-size=\"20px\" dominant-baseline=\"middle\" text-anchor=\"middle\" font-family=\"Arial\" font-weight=\"normal\" fill=\"#ffffff\" >\n",
       "X\n",
       " </text>\n",
       "\n",
       "<circle cx=\"332.8\" cy=\"40.0\" r=\"4\" fill=\"#fac209\" />\n",
       "<circle cx=\"332.8\" cy=\"100.0\" r=\"4\" fill=\"#fac209\" />\n",
       "<circle cx=\"332.8\" cy=\"160.0\" r=\"4\" fill=\"#fac209\" />\n",
       "<circle cx=\"332.8\" cy=\"220.0\" r=\"4\" fill=\"#fac209\" />\n",
       "<line x1=\"332.8\" x2=\"332.8\" y1=\"40.0\" y2=\"280.0\" stroke=\"#fac209\" stroke-width=\"3\" />\n",
       "<rect x=\"312.8\" y=\"260.0\" width=\"40.0\" height=\"40\" rx=\"4\" ry=\"4\" stroke=\"#ffffff\" stroke-width=\"0\" fill=\"#fac209\" fill-opacity=\"1\" />\n",
       "<text x=\"332.8\" y=\"276.0\" font-size=\"20px\" dominant-baseline=\"middle\" text-anchor=\"middle\" font-family=\"Arial\" font-weight=\"normal\" fill=\"#ffffff\" >\n",
       "RY\n",
       " </text>\n",
       "<text x=\"332.8\" y=\"292.0\" font-size=\"14.0px\" dominant-baseline=\"middle\" text-anchor=\"middle\" font-family=\"Arial\" font-weight=\"normal\" fill=\"#ffffff\" >\n",
       "π\n",
       " </text>\n",
       "\n",
       "\n",
       "<rect x=\"372.8\" y=\"140.0\" width=\"40.0\" height=\"40\" rx=\"4\" ry=\"4\" stroke=\"#ffffff\" stroke-width=\"0\" fill=\"#5e7ce0\" fill-opacity=\"1\" />\n",
       "<text x=\"392.8\" y=\"160.0\" font-size=\"20px\" dominant-baseline=\"middle\" text-anchor=\"middle\" font-family=\"Arial\" font-weight=\"normal\" fill=\"#ffffff\" >\n",
       "X\n",
       " </text>\n",
       "\n",
       "</svg></div>"
      ],
      "text/plain": [
       "<mindquantum.io.display.circuit_svg_drawer.SVGCircuit at 0x7fe859392eb0>"
      ]
     },
     "execution_count": 9,
     "metadata": {},
     "output_type": "execute_result"
    }
   ],
   "source": [
    "hiq_sim.reset()\n",
    "frqi = HIQFRQI(2)\n",
    "img = np.array([[0, 0, 0, 0], [0, 0, 0, 0], [0, 0, 1, 0], [0, 1, 0, 0]])\n",
    "circuit = frqi(img)\n",
    "hiq_sim.apply_circuit(circuit)\n",
    "sv = hiq_sim.get_qs()\n",
    "circuit.svg()\n",
    "# print(sv)\n",
    "\n",
    "# circuit.matrix()"
   ]
  },
  {
   "cell_type": "code",
   "execution_count": 10,
   "metadata": {},
   "outputs": [
    {
     "data": {
      "text/plain": [
       "array([[ 2.50000000e-01+0.j,  2.72866517e-19+0.j,  2.50000000e-01+0.j,\n",
       "        ...,  2.72866517e-19+0.j,  2.50000000e-01+0.j,\n",
       "         2.72866517e-19+0.j],\n",
       "       [ 2.72866517e-19+0.j,  2.50000000e-01+0.j,  2.72866517e-19+0.j,\n",
       "        ...,  2.50000000e-01+0.j,  2.72866517e-19+0.j,\n",
       "         2.50000000e-01+0.j],\n",
       "       [ 2.50000000e-01+0.j,  4.09299776e-19+0.j, -2.50000000e-01+0.j,\n",
       "        ...,  4.09299776e-19+0.j, -2.50000000e-01+0.j,\n",
       "        -4.09299776e-19+0.j],\n",
       "       ...,\n",
       "       [-5.08307411e-18+0.j,  2.50000000e-01+0.j, -5.08307411e-18+0.j,\n",
       "        ..., -2.50000000e-01+0.j,  5.08307411e-18+0.j,\n",
       "        -2.50000000e-01+0.j],\n",
       "       [ 2.50000000e-01+0.j,  4.77059033e-18+0.j, -2.50000000e-01+0.j,\n",
       "        ..., -4.77059033e-18+0.j,  2.50000000e-01+0.j,\n",
       "         4.77059033e-18+0.j],\n",
       "       [ 1.85581979e-18+0.j,  2.50000000e-01+0.j, -1.85581979e-18+0.j,\n",
       "        ..., -2.50000000e-01+0.j,  1.85581979e-18+0.j,\n",
       "         2.50000000e-01+0.j]])"
      ]
     },
     "execution_count": 10,
     "metadata": {},
     "output_type": "execute_result"
    }
   ],
   "source": [
    "cir = Circuit(5)\n",
    "mcr = MultiControlRotation(GateType.ry, np.pi)\n",
    "\n",
    "H | cir(0)\n",
    "H | cir(1)\n",
    "H | cir(2)\n",
    "H | cir(3)\n",
    "X | cir(1)\n",
    "X | cir(3)\n",
    "mcr(4) | cir([0, 1, 2, 3, 4])\n",
    "X | cir(1)\n",
    "X | cir(2)\n",
    "X | cir(3)\n",
    "mcr(4) | cir([0, 1, 2, 3, 4])\n",
    "X | cir(2)\n",
    "sv = quict_sim.run(cir)\n",
    "# print(sv)\n",
    "cir.matrix()"
   ]
  },
  {
   "cell_type": "code",
   "execution_count": 11,
   "metadata": {},
   "outputs": [],
   "source": [
    "# encoding = FRQI(2)\n",
    "# data_circuit = encoding()\n",
    "# data_circuit.as_encoder()\n",
    "# ansatz = Ansatz(QUBIT)\n",
    "# model_circuit = ansatz()\n",
    "# model_circuit.as_ansatz()\n",
    "# ham = Hamiltonian(QubitOperator('Z'+str(QUBIT-1), -1))\n",
    "# sim = Simulator('mqvector', QUBIT)\n",
    "\n",
    "# # train epoch\n",
    "# for ep in range(EPOCH):\n",
    "#     loader = tqdm.tqdm(\n",
    "#         train_loader, desc=\"Training epoch {}\".format(ep + 1), leave=True\n",
    "#     )\n",
    "#     # train iteration\n",
    "#     for it, (x_train, y_train) in enumerate(loader):\n",
    "#         x_train = [encoding(x) for x in x_train]\n",
    "#         for data_circuit in x_train:\n",
    "#             circuit = Circuit()\n",
    "#             circuit += data_circuit\n",
    "#             circuit += model_circuit\n",
    "#             grad_ops = sim.get_expectation_with_grad(ham, circuit)\n",
    "#             print(grad_ops)\n",
    "#             measure_result, encoder_grad, ansatz_grad = grad_ops(encoder_data, ansatz_data)\n",
    "\n",
    "#             print('Measurement result: ', measure_result)\n",
    "#             print('Gradient of encoder parameters: ', encoder_grad)\n",
    "#             print('Gradient of ansatz parameters: ', ansatz_grad)"
   ]
  }
 ],
 "metadata": {
  "kernelspec": {
   "display_name": "base",
   "language": "python",
   "name": "python3"
  },
  "language_info": {
   "codemirror_mode": {
    "name": "ipython",
    "version": 3
   },
   "file_extension": ".py",
   "mimetype": "text/x-python",
   "name": "python",
   "nbconvert_exporter": "python",
   "pygments_lexer": "ipython3",
   "version": "3.9.12"
  },
  "orig_nbformat": 4,
  "vscode": {
   "interpreter": {
    "hash": "88279d2366fe020547cde40dd65aa0e3aa662a6ec1f3ca12d88834876c85e1a6"
   }
  }
 },
 "nbformat": 4,
 "nbformat_minor": 2
}
