{
 "cells": [
  {
   "cell_type": "code",
   "execution_count": 1,
   "metadata": {},
   "outputs": [
    {
     "name": "stdout",
     "output_type": "stream",
     "text": [
      "Please install quict_sim first, you can use 'pip install quict_sim' to install. \n",
      "Please install pytorch, torch-geometric, torch-sparse, tensorboard, cupy and quict_ml first, you can use 'pip install quict-ml' to install quict_ml. \n",
      "Please install pytorch, cupy and quict_ml first, you can use 'pip install quict-ml' to install quict_ml. \n"
     ]
    }
   ],
   "source": [
    "import numpy as np\n",
    "import collections\n",
    "import tqdm\n",
    "from torchvision import datasets, transforms\n",
    "import matplotlib.pyplot as plt\n",
    "import sys\n",
    "import random\n",
    "import time\n",
    "\n",
    "import mindspore as ms\n",
    "from mindquantum.core.circuit import Circuit as HiqCircuit\n",
    "from mindquantum.core.gates import ZZ, XX\n",
    "from mindquantum.core.gates import H as HiqH\n",
    "from mindquantum.core.operators import Hamiltonian as HiqHamiltonian\n",
    "from mindquantum.core.operators import QubitOperator\n",
    "# from mindquantum.framework import MQAnsatzOnlyLayer\n",
    "from mindquantum.simulator import Simulator\n",
    "\n",
    "import sys\n",
    "sys.path.append(\"/home/zoker/quict\")\n",
    "from QuICT.algorithm.quantum_machine_learning.data import *\n",
    "from frqi import HIQFRQI\n",
    "from ansatz import HIQAnsatz\n",
    "from QuICT.algorithm.quantum_machine_learning.encoding import *\n",
    "from QuICT.simulation.state_vector import StateVectorSimulator\n",
    "from QuICT.algorithm.quantum_machine_learning.ansatz_library import *\n",
    "from QuICT.core.circuit import Circuit\n",
    "from QuICT.core.gate import *\n",
    "from QuICT.algorithm.quantum_machine_learning.utils import Hamiltonian\n",
    "from QuICT.algorithm.quantum_machine_learning.differentiator import Differentiator"
   ]
  },
  {
   "cell_type": "code",
   "execution_count": 2,
   "metadata": {},
   "outputs": [],
   "source": [
    "RESIZE = (4, 4)\n",
    "QUBIT = int(np.log2(RESIZE[0] * RESIZE[1]) + 2)"
   ]
  },
  {
   "cell_type": "code",
   "execution_count": 3,
   "metadata": {},
   "outputs": [
    {
     "name": "stdout",
     "output_type": "stream",
     "text": [
      "Training examples:  60000\n",
      "Testing examples:  10000\n",
      "Filtered training examples:  12049\n",
      "Filtered testing examples:  1968\n",
      "Label:  tensor(False)\n",
      "Remaining training examples:  10338\n",
      "Remaining testing examples:  1793\n"
     ]
    },
    {
     "data": {
      "image/png": "[encoded data removed]",
      "text/plain": [
       "<Figure size 432x288 with 1 Axes>"
      ]
     },
     "metadata": {
      "needs_background": "light"
     },
     "output_type": "display_data"
    }
   ],
   "source": [
    "train_data = datasets.MNIST(root=\"./data/\", train=True, download=True)\n",
    "test_data = datasets.MNIST(root=\"./data/\", train=False, download=True)\n",
    "train_X = train_data.data\n",
    "train_Y = train_data.targets\n",
    "test_X = test_data.data\n",
    "test_Y = test_data.targets\n",
    "print(\"Training examples: \", len(train_Y))\n",
    "print(\"Testing examples: \", len(test_Y))\n",
    "\n",
    "\n",
    "def filter_targets(X, Y, class0=3, class1=6):\n",
    "    idx = (Y == class0) | (Y == class1)\n",
    "    X, Y = (X[idx], Y[idx])\n",
    "    Y = Y == class1\n",
    "    return X, Y\n",
    "\n",
    "\n",
    "train_X, train_Y = filter_targets(train_X, train_Y)\n",
    "test_X, test_Y = filter_targets(test_X, test_Y)\n",
    "print(\"Filtered training examples: \", len(train_Y))\n",
    "print(\"Filtered testing examples: \", len(test_Y))\n",
    "print(\"Label: \", train_Y[200])\n",
    "plt.imshow(train_X[200], cmap=\"gray\")\n",
    "\n",
    "\n",
    "def downscale(X, resize):\n",
    "    transform = transforms.Resize(size=resize)\n",
    "    X = transform(X) / 255.0\n",
    "    return X\n",
    "\n",
    "\n",
    "resized_train_X = downscale(train_X, RESIZE)\n",
    "resized_test_X = downscale(test_X, RESIZE)\n",
    "plt.imshow(resized_train_X[200], cmap=\"gray\")\n",
    "\n",
    "\n",
    "def remove_conflict(X, Y, resize):\n",
    "    x_dict = collections.defaultdict(set)\n",
    "    for x, y in zip(X, Y):\n",
    "        x_dict[tuple(x.numpy().flatten())].add(y.item())\n",
    "    X_rmcon = []\n",
    "    Y_rmcon = []\n",
    "    for x in x_dict.keys():\n",
    "        if len(x_dict[x]) == 1:\n",
    "            X_rmcon.append(np.array(x).reshape(resize))\n",
    "            Y_rmcon.append(list(x_dict[x])[0])\n",
    "    X = np.array(X_rmcon)\n",
    "    Y = np.array(Y_rmcon)\n",
    "    return X, Y\n",
    "\n",
    "\n",
    "nocon_train_X, nocon_train_Y = remove_conflict(resized_train_X, train_Y, RESIZE)\n",
    "nocon_test_X, nocon_test_Y = remove_conflict(resized_test_X, test_Y, RESIZE)\n",
    "print(\"Remaining training examples: \", len(nocon_train_Y))\n",
    "print(\"Remaining testing examples: \", len(nocon_test_Y))\n",
    "\n",
    "\n",
    "def binary_img(X, threshold):\n",
    "    X = X > threshold\n",
    "    X = X.astype(np.int16)\n",
    "    return X\n",
    "\n",
    "\n",
    "threshold = 0.5\n",
    "bin_train_X = binary_img(nocon_train_X, threshold)\n",
    "bin_test_X = binary_img(nocon_test_X, threshold)\n",
    "\n",
    "\n",
    "def encoding_img(X, encoding):\n",
    "    data_circuits = []\n",
    "    for i in tqdm.tqdm(range(len(X))):\n",
    "        data_circuit = encoding(X[i])\n",
    "        data_circuits.append(data_circuit)\n",
    "\n",
    "    return data_circuits\n"
   ]
  },
  {
   "cell_type": "code",
   "execution_count": 4,
   "metadata": {},
   "outputs": [],
   "source": [
    "BATCH_SIZE = 1  # 一次迭代使用的样本数\n",
    "SEED = 17  # 随机数种子\n",
    "\n",
    "np.random.seed(SEED)\n",
    "random.seed(SEED)\n",
    "ms.set_seed(SEED)"
   ]
  },
  {
   "cell_type": "code",
   "execution_count": 5,
   "metadata": {},
   "outputs": [],
   "source": [
    "train_X = bin_train_X\n",
    "test_X = bin_test_X\n",
    "train_Y = nocon_train_Y\n",
    "test_Y = nocon_test_Y\n",
    "\n",
    "train_dataset = Dataset(train_X, train_Y)\n",
    "test_dataset = Dataset(test_X, test_Y)\n",
    "train_loader = DataLoader(\n",
    "    dataset=train_dataset, batch_size=BATCH_SIZE, shuffle=True, drop_last=True\n",
    ")\n",
    "test_loader = DataLoader(\n",
    "    dataset=test_dataset, batch_size=BATCH_SIZE, shuffle=True, drop_last=True\n",
    ")"
   ]
  },
  {
   "cell_type": "code",
   "execution_count": 6,
   "metadata": {},
   "outputs": [
    {
     "name": "stderr",
     "output_type": "stream",
     "text": [
      "100%|██████████| 10338/10338 [03:35<00:00, 48.01it/s]"
     ]
    },
    {
     "name": "stdout",
     "output_type": "stream",
     "text": [
      "PASS\n"
     ]
    },
    {
     "name": "stderr",
     "output_type": "stream",
     "text": [
      "\n"
     ]
    }
   ],
   "source": [
    "# Test grad\n",
    "quict_frqi = FRQI(2)\n",
    "hiq_frqi = HIQFRQI(RESIZE[0] * RESIZE[1])\n",
    "quict_sim = StateVectorSimulator(device=\"GPU\")\n",
    "hiq_sim = Simulator('mqvector', QUBIT)\n",
    "hiq_datacir = hiq_frqi()\n",
    "quict_qnn = CRADL(QUBIT, color_qubit=1, readout=0)\n",
    "hiq_qnn = HIQAnsatz(QUBIT, color_qubit=QUBIT - 2, readout=QUBIT - 1)\n",
    "hiq_encoder = hiq_frqi()\n",
    "hiq_encoder.as_encoder()\n",
    "hiq_ansatz = hiq_qnn()\n",
    "hiq_ansatz.as_ansatz()\n",
    "hiq_cir = hiq_encoder + hiq_ansatz\n",
    "differentiator = Differentiator(device=\"GPU\")\n",
    "quict_ham = Hamiltonian([[1.0, \"Z0\"]])\n",
    "hiq_ham = HiqHamiltonian(QubitOperator(\"Z\" + str(QUBIT - 1)))\n",
    "\n",
    "\n",
    "loader = tqdm.tqdm(train_loader, leave=True)\n",
    "for it, (x_train, y_train) in enumerate(loader):\n",
    "    params = np.ones((1, (QUBIT - 2) * 4))\n",
    "    hiq_sim.reset()\n",
    "    quict_datacir = quict_frqi(x_train[0], use_qic=False)\n",
    "    quict_modelcir = quict_qnn.init_circuit(params=params)\n",
    "    quict_params = quict_qnn.params\n",
    "    quict_cir = Circuit(QUBIT)\n",
    "    quict_datacir | quict_cir(list(range(1, QUBIT)))\n",
    "    sv = quict_sim.run(quict_cir)\n",
    "    \n",
    "    \n",
    "    quict_modelcir | quict_cir(list(range(QUBIT)))\n",
    "    quict_sv = quict_sim.run(quict_cir)\n",
    "    quict_vars, poss = differentiator.run(quict_modelcir, quict_params, quict_sv, quict_ham)\n",
    "    quict_grad = quict_vars.grads\n",
    "    \n",
    "    # hiq_sim.apply_circuit(hiq_cir, list(x_train[0].flatten()) + list(params[0] / 2))\n",
    "    grad_ops = hiq_sim.get_expectation_with_grad(hams=hiq_ham, circ_right=hiq_cir)\n",
    "    hiq_img = np.array(list(x_train[0].flatten())).reshape(1, RESIZE[0] * RESIZE[1])\n",
    "    hiq_params = np.array(list(params[0] / 2))\n",
    "    re = grad_ops(hiq_img, hiq_params)\n",
    "    hiq_grad = re[2]\n",
    "    \n",
    "    # hiq_sv = hiq_sim.get_qs()\n",
    "    if abs(np.linalg.norm(quict_grad*2 - hiq_grad)) > 1e-12:\n",
    "        print(it)\n",
    "        print(\"FALSE\")\n",
    "        print(x_train[0])\n",
    "        print(\"quict\", quict_grad)\n",
    "        print(\"hiq\", hiq_grad)\n",
    "        break\n",
    "print(\"PASS\")"
   ]
  },
  {
   "cell_type": "code",
   "execution_count": null,
   "metadata": {},
   "outputs": [],
   "source": []
  }
 ],
 "metadata": {
  "kernelspec": {
   "display_name": "base",
   "language": "python",
   "name": "python3"
  },
  "language_info": {
   "codemirror_mode": {
    "name": "ipython",
    "version": 3
   },
   "file_extension": ".py",
   "mimetype": "text/x-python",
   "name": "python",
   "nbconvert_exporter": "python",
   "pygments_lexer": "ipython3",
   "version": "3.9.12"
  },
  "orig_nbformat": 4,
  "vscode": {
   "interpreter": {
    "hash": "88279d2366fe020547cde40dd65aa0e3aa662a6ec1f3ca12d88834876c85e1a6"
   }
  }
 },
 "nbformat": 4,
 "nbformat_minor": 2
}
