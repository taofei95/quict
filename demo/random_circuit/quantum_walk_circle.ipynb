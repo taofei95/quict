{
 "cells": [
  {
   "cell_type": "code",
   "execution_count": 28,
   "metadata": {},
   "outputs": [],
   "source": [
    "import numpy as np\n",
    "import sys\n",
    "sys.path.append(\"/home/zoker/quict/\")\n",
    "\n",
    "from QuICT.core import Circuit\n",
    "from QuICT.core.gate import *\n",
    "from QuICT.simulation.state_vector import ConstantStateVectorSimulator"
   ]
  },
  {
   "cell_type": "code",
   "execution_count": 3,
   "metadata": {},
   "outputs": [],
   "source": [
    "def incr(n_qubits):\n",
    "    circuit = Circuit(n_qubits)\n",
    "    MCX = MultiControlToffoli()\n",
    "    for i in range(n_qubits):\n",
    "        print(n_qubits - i - 1, list(range(n_qubits - 1, i - 1, -1)))\n",
    "        MCX(n_qubits - i - 1) | circuit(list(range(n_qubits - 1, i - 1, -1)))\n",
    "    return circuit\n",
    "\n",
    "def decr(n_qubits):\n",
    "    circuit = Circuit(n_qubits)\n",
    "    MCX = MultiControlToffoli()\n",
    "    for i in range(n_qubits):\n",
    "        ctrls = list(range(i + 1, n_qubits))\n",
    "        for qid in ctrls:\n",
    "            X | circuit(qid)\n",
    "        MCX(n_qubits - i - 1) | circuit(list(range(n_qubits - 1, i - 1, -1)))\n",
    "        for qid in ctrls:\n",
    "            X | circuit(qid)\n",
    "    return circuit\n",
    "\n",
    "def construct_circuit(length):\n",
    "    pos_qubits = int(np.ceil(np.log2(length)))\n",
    "    n_qubits = pos_qubits + 1\n",
    "    return"
   ]
  },
  {
   "cell_type": "code",
   "execution_count": 17,
   "metadata": {},
   "outputs": [
    {
     "name": "stdout",
     "output_type": "stream",
     "text": [
      "2023-01-09 21:56:15 | circuit | INFO | Initial Quantum Circuit circuit_625607fa902511ed9ce3fd0ce661b241 with 3 qubits.\n",
      "2023-01-09 21:56:15 | circuit | INFO | Initial Quantum Circuit circuit_625623f2902511ed9ce3fd0ce661b241 with 3 qubits.\n",
      "2023-01-09 21:56:15 | circuit | INFO | Initial Quantum Circuit circuit_6256393c902511ed9ce3fd0ce661b241 with 3 qubits.\n"
     ]
    },
    {
     "data": {
      "image/png": "[encoded data removed]",
      "text/plain": [
       "<Figure size 997.6x292.4 with 1 Axes>"
      ]
     },
     "metadata": {},
     "output_type": "display_data"
    }
   ],
   "source": [
    "def control_incr(n_qubits):\n",
    "    circuit = Circuit(n_qubits)\n",
    "    MCX = MultiControlToffoli()\n",
    "    for i in range(n_qubits - 1):\n",
    "        MCX(n_qubits - i - 1) | circuit(list(range(n_qubits - 1, i - 1, -1)))\n",
    "    return circuit\n",
    "\n",
    "def neg_control_decr(n_qubits):\n",
    "    circuit = Circuit(n_qubits)\n",
    "    MCX = MultiControlToffoli()\n",
    "    for i in range(n_qubits - 1):\n",
    "        ctrls = list(range(i + 1, n_qubits))\n",
    "        for qid in ctrls:\n",
    "            X | circuit(qid)\n",
    "        MCX(n_qubits - i - 1) | circuit(list(range(n_qubits - 1, i - 1, -1)))\n",
    "        for qid in ctrls:\n",
    "            X | circuit(qid)\n",
    "    return circuit\n",
    "\n",
    "def construct_circuit(n_qubits):\n",
    "    circuit = Circuit(n_qubits)\n",
    "    subnode = n_qubits - 1\n",
    "    H | circuit(subnode)\n",
    "    incr = control_incr(n_qubits)\n",
    "    decr = neg_control_decr(n_qubits)\n",
    "    circuit.extend(incr.gates)\n",
    "    circuit.extend(decr.gates)\n",
    "    return circuit"
   ]
  },
  {
   "cell_type": "code",
   "execution_count": 29,
   "metadata": {},
   "outputs": [
    {
     "name": "stdout",
     "output_type": "stream",
     "text": [
      "2023-01-09 22:04:57 | circuit | INFO | Initial Quantum Circuit circuit_99228988902611ed9ce3fd0ce661b241 with 5 qubits.\n",
      "2023-01-09 22:04:57 | circuit | INFO | Initial Quantum Circuit circuit_9922a56c902611ed9ce3fd0ce661b241 with 5 qubits.\n",
      "2023-01-09 22:04:57 | circuit | INFO | Initial Quantum Circuit circuit_9923ac64902611ed9ce3fd0ce661b241 with 5 qubits.\n",
      "[-3.29365923e-17+6.71425820e-18j  4.67633933e-18-6.21762143e-18j\n",
      " -4.31623176e-17+1.87598774e-17j  7.07106781e-01-8.44383056e-17j\n",
      " -1.29276346e-17+1.34621497e-17j -4.67633933e-18-6.21762143e-18j\n",
      " -3.73498693e-17+3.75184358e-17j  0.00000000e+00+0.00000000e+00j\n",
      "  5.10491067e-19+1.54945046e-17j -1.26425385e-17+1.26283235e-17j\n",
      "  1.97808595e-17+2.25151797e-17j  0.00000000e+00+7.05599253e-17j\n",
      "  1.27720338e-17+1.16207971e-17j  1.26425385e-17+1.26283235e-17j\n",
      "  5.55111512e-17+4.52697534e-17j  2.02130269e-19+0.00000000e+00j\n",
      " -1.25699035e-17+1.28793111e-17j  5.68188518e-18+3.07627764e-18j\n",
      "  3.08148791e-33+1.01137284e-18j  5.55111512e-17+5.43407576e-17j\n",
      " -7.05625225e-18-1.48762645e-17j -4.58198260e-18+7.93148255e-18j\n",
      "  5.55111512e-17+5.75041068e-17j -2.02130269e-19+0.00000000e+00j\n",
      "  1.88920758e-17-2.26473781e-17j -1.58478896e-17-1.69975843e-17j\n",
      "  0.00000000e+00-4.22864300e-17j -2.77555756e-17-4.04623772e-17j\n",
      " -1.88920758e-17-2.26473781e-17j -2.15164202e-17-6.83157996e-18j\n",
      "  7.07106781e-01-1.40292296e-16j  2.02130269e-19+0.00000000e+00j]\n"
     ]
    }
   ],
   "source": [
    "nodes = 4\n",
    "# nodes必须是2的整数次幂\n",
    "assert abs(np.log2(nodes) - np.floor(np.log2(nodes))) < 1e-9, \"nodes must be an integer power of 2\"\n",
    "circuit = construct_circuit(nodes + 1)\n",
    "simulator = ConstantStateVectorSimulator()\n",
    "sv = simulator.run(circuit)\n",
    "print(sv)\n"
   ]
  }
 ],
 "metadata": {
  "kernelspec": {
   "display_name": "base",
   "language": "python",
   "name": "python3"
  },
  "language_info": {
   "codemirror_mode": {
    "name": "ipython",
    "version": 3
   },
   "file_extension": ".py",
   "mimetype": "text/x-python",
   "name": "python",
   "nbconvert_exporter": "python",
   "pygments_lexer": "ipython3",
   "version": "3.9.12 (main, Apr  5 2022, 06:56:58) \n[GCC 7.5.0]"
  },
  "orig_nbformat": 4,
  "vscode": {
   "interpreter": {
    "hash": "9cfda9c6ac4ee00795f036a3a51c2a252dbaac295b2df82962255d5893773bf4"
   }
  }
 },
 "nbformat": 4,
 "nbformat_minor": 2
}
