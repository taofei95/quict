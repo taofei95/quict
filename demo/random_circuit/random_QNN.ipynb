{
 "cells": [
  {
   "cell_type": "code",
   "execution_count": 2,
   "metadata": {},
   "outputs": [],
   "source": [
    "import numpy as np\n",
    "import torch\n",
    "import tqdm\n",
    "\n",
    "from QuICT.algorithm.quantum_machine_learning.ansatz_library import QNNLayer\n",
    "from QuICT.core import Circuit\n",
    "from QuICT.core.gate import *"
   ]
  },
  {
   "cell_type": "code",
   "execution_count": 8,
   "metadata": {},
   "outputs": [
    {
     "name": "stdout",
     "output_type": "stream",
     "text": [
      "2022-12-20 17:25:57 | circuit | INFO | Initial Quantum Circuit circuit_4f2de6a8804811ed81733b8da63d5ac7 with 17 qubits.\n",
      "2022-12-20 17:25:57 | circuit | INFO | Initial Quantum Circuit circuit_4f2e0de0804811ed81733b8da63d5ac7 with 17 qubits.\n",
      "2022-12-20 17:25:57 | circuit | INFO | Initial Quantum Circuit circuit_4f2eb60a804811ed81733b8da63d5ac7 with 17 qubits.\n"
     ]
    }
   ],
   "source": [
    "img_size = [4, 4]\n",
    "n_data_qubits = img_size[0] * img_size[1]\n",
    "data_qubits = list(range(n_data_qubits))    # 可改\n",
    "result_qubit = n_data_qubits                # 可改\n",
    "device = torch.device(\"cuda:0\")             # 可改\n",
    "layers=[\"XX\", \"ZZ\"]                         # 可改\n",
    "\n",
    "params = torch.rand(len(layers), n_data_qubits).to(device)\n",
    "n_qubits = n_data_qubits + 1\n",
    "\n",
    "# model circuit\n",
    "pqc = QNNLayer(data_qubits, result_qubit, device)\n",
    "model_circuit = Circuit(n_qubits)\n",
    "X | model_circuit(data_qubits)\n",
    "H | model_circuit(data_qubits)\n",
    "sub_circuit = pqc.circuit_layer(layers, params)\n",
    "model_circuit.extend(sub_circuit.gates)\n",
    "H | model_circuit(data_qubits)\n",
    "\n",
    "# data circuit\n",
    "img = np.random.randint(0, 2, n_data_qubits)\n",
    "data_circuit = Circuit(n_qubits)\n",
    "for i in data_qubits:\n",
    "    if img[i] > 0.5:\n",
    "        X | data_circuit(i)\n",
    "\n",
    "# final circuit\n",
    "circuit = data_circuit\n",
    "circuit.extend(model_circuit.gates)"
   ]
  }
 ],
 "metadata": {
  "kernelspec": {
   "display_name": "base",
   "language": "python",
   "name": "python3"
  },
  "language_info": {
   "codemirror_mode": {
    "name": "ipython",
    "version": 3
   },
   "file_extension": ".py",
   "mimetype": "text/x-python",
   "name": "python",
   "nbconvert_exporter": "python",
   "pygments_lexer": "ipython3",
   "version": "3.9.12"
  },
  "orig_nbformat": 4,
  "vscode": {
   "interpreter": {
    "hash": "9cfda9c6ac4ee00795f036a3a51c2a252dbaac295b2df82962255d5893773bf4"
   }
  }
 },
 "nbformat": 4,
 "nbformat_minor": 2
}
