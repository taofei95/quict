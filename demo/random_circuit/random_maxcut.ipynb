{
 "cells": [
  {
   "cell_type": "code",
   "execution_count": 14,
   "metadata": {},
   "outputs": [],
   "source": [
    "import random\n",
    "import time\n",
    "import numpy as np\n",
    "import torch\n",
    "import os\n",
    "\n",
    "from QuICT.algorithm.quantum_machine_learning.utils import Hamiltonian\n",
    "from QuICT.algorithm.quantum_machine_learning.VQA.QAOA import MaxCut \n",
    "from QuICT.algorithm.quantum_machine_learning.VQA.model import QAOANet \n",
    "from QuICT.algorithm.tools.drawer import graph_drawer as gd\n",
    "from QuICT.simulation.state_vector import ConstantStateVectorSimulator"
   ]
  },
  {
   "cell_type": "code",
   "execution_count": 15,
   "metadata": {},
   "outputs": [],
   "source": [
    "def seed(seed: int):\n",
    "        \"\"\"Set random seed.\n",
    "\n",
    "        Args:\n",
    "            seed (int): The random seed.\n",
    "        \"\"\"\n",
    "        torch.manual_seed(seed)\n",
    "        torch.cuda.manual_seed_all(seed)\n",
    "        np.random.seed(seed)\n",
    "        random.seed(seed)\n",
    "        torch.backends.cudnn.deterministic = True\n",
    "\n",
    "def random_edges(n_nodes, n_edges):\n",
    "    assert n_nodes >= 2\n",
    "    assert n_edges <= n_nodes * (n_nodes - 1) / 2\n",
    "    edges = []\n",
    "    nodes = np.arange(n_nodes)\n",
    "    while len(edges) < n_edges:\n",
    "        edge = list(np.random.choice(nodes, 2, replace=False))\n",
    "        if edge in edges or edge[::-1] in edges:\n",
    "            continue\n",
    "        edges.append(edge)\n",
    "    return edges"
   ]
  },
  {
   "cell_type": "code",
   "execution_count": 16,
   "metadata": {},
   "outputs": [
    {
     "name": "stdout",
     "output_type": "stream",
     "text": [
      "Generating circuit 0\n",
      "2022-12-05 11:59:53 | circuit | INFO | Initial Quantum Circuit circuit_4626e076745111eda958410367492226 with 4 qubits.\n",
      "2022-12-05 11:59:53 | circuit | INFO | Initial Quantum Circuit circuit_462701f0745111eda958410367492226 with 4 qubits.\n",
      "2022-12-05 11:59:53 | circuit | INFO | Initial Quantum Circuit circuit_46270e52745111eda958410367492226 with 4 qubits.\n",
      "2022-12-05 11:59:53 | circuit | INFO | Initial Quantum Circuit circuit_46272a86745111eda958410367492226 with 4 qubits.\n",
      "2022-12-05 11:59:53 | circuit | INFO | Delete Quantum Circuit circuit_46270e52745111eda958410367492226.\n",
      "2022-12-05 11:59:53 | circuit | INFO | Initial Quantum Circuit circuit_46275204745111eda958410367492226 with 4 qubits.\n",
      "2022-12-05 11:59:53 | circuit | INFO | Delete Quantum Circuit circuit_46272a86745111eda958410367492226.\n",
      "2022-12-05 11:59:53 | circuit | INFO | Initial Quantum Circuit circuit_46277928745111eda958410367492226 with 4 qubits.\n",
      "2022-12-05 11:59:53 | circuit | INFO | Delete Quantum Circuit circuit_46275204745111eda958410367492226.\n",
      "2022-12-05 11:59:53 | circuit | INFO | Delete Quantum Circuit circuit_46277928745111eda958410367492226.\n",
      "2022-12-05 11:59:53 | circuit | INFO | Delete Quantum Circuit circuit_462701f0745111eda958410367492226.\n",
      "2022-12-05 11:59:53 | circuit | INFO | Delete Quantum Circuit circuit_29d25676745111eda958410367492226.\n",
      "Generating circuit 1\n",
      "2022-12-05 11:59:53 | circuit | INFO | Initial Quantum Circuit circuit_46283016745111eda958410367492226 with 4 qubits.\n",
      "2022-12-05 11:59:53 | circuit | INFO | Initial Quantum Circuit circuit_4628457e745111eda958410367492226 with 4 qubits.\n",
      "2022-12-05 11:59:53 | circuit | INFO | Initial Quantum Circuit circuit_46285366745111eda958410367492226 with 4 qubits.\n",
      "2022-12-05 11:59:53 | circuit | INFO | Initial Quantum Circuit circuit_46286fd6745111eda958410367492226 with 4 qubits.\n",
      "2022-12-05 11:59:53 | circuit | INFO | Delete Quantum Circuit circuit_46285366745111eda958410367492226.\n",
      "2022-12-05 11:59:53 | circuit | INFO | Initial Quantum Circuit circuit_46289e2a745111eda958410367492226 with 4 qubits.\n",
      "2022-12-05 11:59:53 | circuit | INFO | Delete Quantum Circuit circuit_46286fd6745111eda958410367492226.\n",
      "2022-12-05 11:59:53 | circuit | INFO | Initial Quantum Circuit circuit_4628be32745111eda958410367492226 with 4 qubits.\n",
      "2022-12-05 11:59:53 | circuit | INFO | Delete Quantum Circuit circuit_46289e2a745111eda958410367492226.\n",
      "2022-12-05 11:59:53 | circuit | INFO | Delete Quantum Circuit circuit_4628be32745111eda958410367492226.\n",
      "2022-12-05 11:59:53 | circuit | INFO | Delete Quantum Circuit circuit_4628457e745111eda958410367492226.\n",
      "2022-12-05 11:59:53 | circuit | INFO | Delete Quantum Circuit circuit_4626e076745111eda958410367492226.\n"
     ]
    }
   ],
   "source": [
    "device = torch.device(\"cuda:0\")\n",
    "n = 4\n",
    "n_edges = 4\n",
    "p = 1\n",
    "seed(0)\n",
    "N_circuit = 2\n",
    "\n",
    "folder_path = \"MaxCut_NODE\" + str(n) + \"_EDGE\" + str(n_edges) + \"_p\" + str(p)\n",
    "if not os.path.exists(folder_path):\n",
    "    os.makedirs(folder_path)\n",
    "for i in range(N_circuit):\n",
    "    print(\"Generating circuit \" + str(i))\n",
    "    edges = random_edges(n, n_edges)\n",
    "    maxcut = MaxCut(n, edges)\n",
    "    hamiltonian = maxcut._maxcut_hamiltonian()\n",
    "    qaoa = QAOANet(n, p, hamiltonian, device=device)\n",
    "    circuit = qaoa.construct_circuit()\n",
    "    now = time.strftime(\"_%Y-%m-%d-%H_%M_%S\", time.localtime(time.time()))\n",
    "    file = open(folder_path + '/' + f\"w{n}_s{circuit.size()}_d{circuit.depth()}{now}.qasm\",'w')\n",
    "    file.write(circuit.qasm())\n",
    "    file.close()\n"
   ]
  }
 ],
 "metadata": {
  "kernelspec": {
   "display_name": "Python 3.9.12 ('base')",
   "language": "python",
   "name": "python3"
  },
  "language_info": {
   "codemirror_mode": {
    "name": "ipython",
    "version": 3
   },
   "file_extension": ".py",
   "mimetype": "text/x-python",
   "name": "python",
   "nbconvert_exporter": "python",
   "pygments_lexer": "ipython3",
   "version": "3.9.12"
  },
  "orig_nbformat": 4,
  "vscode": {
   "interpreter": {
    "hash": "9cfda9c6ac4ee00795f036a3a51c2a252dbaac295b2df82962255d5893773bf4"
   }
  }
 },
 "nbformat": 4,
 "nbformat_minor": 2
}
