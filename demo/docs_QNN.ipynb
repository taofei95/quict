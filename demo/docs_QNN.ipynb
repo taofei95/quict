{
 "cells": [
  {
   "cell_type": "code",
   "execution_count": 1,
   "metadata": {},
   "outputs": [],
   "source": [
    "import collections\n",
    "import torch\n",
    "import torch.nn as nn\n",
    "import torch.utils.data as data\n",
    "import torch.nn.functional as F\n",
    "import tqdm\n",
    "from torchvision import datasets, transforms\n",
    "import matplotlib.pyplot as plt\n",
    "import seaborn as sns\n",
    "import sys\n",
    "sys.path.append(\"/home/zoker/quict\")\n",
    "\n",
    "from QuICT.algorithm.quantum_machine_learning.ansatz_library import QNNLayer\n",
    "from QuICT.algorithm.quantum_machine_learning.utils.encoding import *\n",
    "from QuICT.algorithm.quantum_machine_learning.utils.ml_utils import *\n",
    "from QuICT.algorithm.quantum_machine_learning.model.QNN import QuantumNet\n",
    "from QuICT.simulation.state_vector import ConstantStateVectorSimulator\n"
   ]
  },
  {
   "cell_type": "code",
   "execution_count": 2,
   "metadata": {},
   "outputs": [
    {
     "name": "stdout",
     "output_type": "stream",
     "text": [
      "Training examples:  60000\n",
      "Testing examples:  10000\n"
     ]
    }
   ],
   "source": [
    "train_data = datasets.MNIST(root=\"./data/\", train=True, download=True)\n",
    "test_data = datasets.MNIST(root=\"./data/\", train=False, download=True)\n",
    "train_X = train_data.data\n",
    "train_Y = train_data.targets\n",
    "test_X = test_data.data\n",
    "test_Y = test_data.targets\n",
    "print(\"Training examples: \", len(train_Y))\n",
    "print(\"Testing examples: \", len(test_Y))\n"
   ]
  },
  {
   "cell_type": "code",
   "execution_count": 3,
   "metadata": {},
   "outputs": [],
   "source": [
    "def filter_targets(X, Y, class0=3, class1=6):\n",
    "    idx = (Y == class0) | (Y == class1)\n",
    "    X, Y = (X[idx], Y[idx])\n",
    "    Y = Y == class1\n",
    "    return X, Y\n"
   ]
  },
  {
   "cell_type": "code",
   "execution_count": 4,
   "metadata": {},
   "outputs": [
    {
     "name": "stdout",
     "output_type": "stream",
     "text": [
      "Filtered training examples:  12049\n",
      "Filtered testing examples:  1968\n"
     ]
    }
   ],
   "source": [
    "train_X, train_Y = filter_targets(train_X, train_Y)\n",
    "test_X, test_Y = filter_targets(test_X, test_Y)\n",
    "print(\"Filtered training examples: \", len(train_Y))\n",
    "print(\"Filtered testing examples: \", len(test_Y))\n"
   ]
  },
  {
   "cell_type": "code",
   "execution_count": 5,
   "metadata": {},
   "outputs": [
    {
     "name": "stdout",
     "output_type": "stream",
     "text": [
      "Label:  tensor(False)\n"
     ]
    },
    {
     "data": {
      "text/plain": [
       "<matplotlib.image.AxesImage at 0x7efe8842c400>"
      ]
     },
     "execution_count": 5,
     "metadata": {},
     "output_type": "execute_result"
    },
    {
     "data": {
      "image/png": "[encoded data removed]",
      "text/plain": [
       "<Figure size 432x288 with 1 Axes>"
      ]
     },
     "metadata": {
      "needs_background": "light"
     },
     "output_type": "display_data"
    }
   ],
   "source": [
    "print(\"Label: \", train_Y[200])\n",
    "plt.imshow(train_X[200], cmap=\"gray\")\n"
   ]
  },
  {
   "cell_type": "code",
   "execution_count": 6,
   "metadata": {},
   "outputs": [],
   "source": [
    "def downscale(X, resize):\n",
    "    transform = transforms.Resize(size=resize)\n",
    "    X = transform(X) / 255.0\n",
    "    return X\n"
   ]
  },
  {
   "cell_type": "code",
   "execution_count": 7,
   "metadata": {},
   "outputs": [],
   "source": [
    "resized_train_X = downscale(train_X, (4, 4))\n",
    "resized_test_X = downscale(test_X, (4, 4))\n"
   ]
  },
  {
   "cell_type": "code",
   "execution_count": 8,
   "metadata": {},
   "outputs": [
    {
     "data": {
      "text/plain": [
       "<matplotlib.image.AxesImage at 0x7efe8832dcd0>"
      ]
     },
     "execution_count": 8,
     "metadata": {},
     "output_type": "execute_result"
    },
    {
     "data": {
      "image/png": "[encoded data removed]",
      "text/plain": [
       "<Figure size 432x288 with 1 Axes>"
      ]
     },
     "metadata": {
      "needs_background": "light"
     },
     "output_type": "display_data"
    }
   ],
   "source": [
    "plt.imshow(resized_train_X[200], cmap=\"gray\")\n"
   ]
  },
  {
   "cell_type": "code",
   "execution_count": 9,
   "metadata": {},
   "outputs": [],
   "source": [
    "def remove_conflict(X, Y, resize):\n",
    "    x_dict = collections.defaultdict(set)\n",
    "    for x, y in zip(X, Y):\n",
    "        x_dict[tuple(x.numpy().flatten())].add(y.item())\n",
    "    X_rmcon = []\n",
    "    Y_rmcon = []\n",
    "    for x in x_dict.keys():\n",
    "        if len(x_dict[x]) == 1:\n",
    "            X_rmcon.append(np.array(x).reshape(resize))\n",
    "            Y_rmcon.append(list(x_dict[x])[0])\n",
    "    X = torch.from_numpy(np.array(X_rmcon))\n",
    "    Y = torch.from_numpy(np.array(Y_rmcon))\n",
    "    return X, Y\n"
   ]
  },
  {
   "cell_type": "code",
   "execution_count": 10,
   "metadata": {},
   "outputs": [
    {
     "name": "stdout",
     "output_type": "stream",
     "text": [
      "Remaining training examples:  10338\n",
      "Remaining testing examples:  1793\n"
     ]
    }
   ],
   "source": [
    "nocon_train_X, nocon_train_Y = remove_conflict(resized_train_X, train_Y, (4, 4))\n",
    "nocon_test_X, nocon_test_Y = remove_conflict(resized_test_X, test_Y, (4, 4))\n",
    "print(\"Remaining training examples: \", len(nocon_train_Y))\n",
    "print(\"Remaining testing examples: \", len(nocon_test_Y))\n"
   ]
  },
  {
   "cell_type": "code",
   "execution_count": 11,
   "metadata": {},
   "outputs": [],
   "source": [
    "def binary_img(X, threshold):\n",
    "    X = X > threshold\n",
    "    X = X.type(torch.int)\n",
    "    return X\n"
   ]
  },
  {
   "cell_type": "code",
   "execution_count": 12,
   "metadata": {},
   "outputs": [],
   "source": [
    "threshold = 0.5\n",
    "bin_train_X = binary_img(nocon_train_X, threshold)\n",
    "bin_test_X = binary_img(nocon_test_X, threshold)\n"
   ]
  },
  {
   "cell_type": "code",
   "execution_count": 13,
   "metadata": {},
   "outputs": [],
   "source": [
    "device = torch.device(\"cuda:0\")\n",
    "\n",
    "train_X = bin_train_X.to(device)\n",
    "train_Y = nocon_train_Y.to(device)\n",
    "test_X = bin_test_X.to(device)\n",
    "test_Y = nocon_test_Y.to(device)\n"
   ]
  },
  {
   "cell_type": "code",
   "execution_count": 14,
   "metadata": {},
   "outputs": [
    {
     "data": {
      "image/png": "[encoded data removed]",
      "text/plain": [
       "<Figure size 610.6x378.4 with 1 Axes>"
      ]
     },
     "metadata": {},
     "output_type": "display_data"
    }
   ],
   "source": [
    "img = torch.tensor([[0, 1], [0, 0]]).to(device)\n",
    "qe = Qubit(4, device)\n",
    "qe.encoding(img, circuit=True)\n",
    "qe.circuit.draw()\n"
   ]
  },
  {
   "cell_type": "code",
   "execution_count": 15,
   "metadata": {},
   "outputs": [
    {
     "data": {
      "image/png": "[encoded data removed]",
      "text/plain": [
       "<Figure size 610.6x464.4 with 1 Axes>"
      ]
     },
     "metadata": {},
     "output_type": "display_data"
    }
   ],
   "source": [
    "pqc = QNNLayer(list(range(4)), 4, device=device)\n",
    "params = nn.Parameter(torch.rand(1, 4, device=device), requires_grad=True)\n",
    "model_circuit = pqc.circuit_layer([\"XX\"], params)\n",
    "model_circuit.draw()\n"
   ]
  },
  {
   "cell_type": "code",
   "execution_count": 16,
   "metadata": {},
   "outputs": [],
   "source": [
    "data_qubits = list(range(16))\n",
    "readout_qubit = 16\n",
    "pqc = QNNLayer(data_qubits, readout_qubit, device=device)\n",
    "layers = [\"XX\", \"ZZ\"]\n",
    "params = nn.Parameter(torch.rand(2, 16, device=device), requires_grad=True)\n",
    "model_ansatz = pqc(layers, params)\n"
   ]
  },
  {
   "cell_type": "code",
   "execution_count": 17,
   "metadata": {},
   "outputs": [],
   "source": [
    "EPOCH = 3       # 训练总轮数\n",
    "BATCH_SIZE = 32 # 一次迭代使用的样本数\n",
    "LR = 0.001      # 梯度下降的学习率\n",
    "SEED = 17       # 随机数种子\n",
    "\n",
    "set_seed(SEED)  # 设置全局随机种子\n"
   ]
  },
  {
   "cell_type": "code",
   "execution_count": 18,
   "metadata": {},
   "outputs": [],
   "source": [
    "train_dataset = data.TensorDataset(train_X, train_Y)\n",
    "test_dataset = data.TensorDataset(test_X, test_Y)\n",
    "train_loader = data.DataLoader(dataset=train_dataset, batch_size=BATCH_SIZE, shuffle=True, drop_last=True)\n",
    "test_loader = data.DataLoader(dataset=test_dataset, batch_size=BATCH_SIZE, shuffle=True, drop_last=True)\n"
   ]
  },
  {
   "cell_type": "code",
   "execution_count": 19,
   "metadata": {},
   "outputs": [],
   "source": [
    "net = QuantumNet(16, layers, encoding=\"qubit\", device=device)\n",
    "optim = torch.optim.Adam([dict(params=net.parameters(), lr=LR)])\n"
   ]
  },
  {
   "cell_type": "code",
   "execution_count": 20,
   "metadata": {},
   "outputs": [],
   "source": [
    "def loss_func(y_true, y_pred):\n",
    "    y_true = 2 * y_true.type(torch.float32) - 1.0\n",
    "    y_pred = 2 * y_pred - 1.0\n",
    "    loss = torch.clamp(1 - y_pred * y_true, min=0.0)\n",
    "    correct = torch.where(y_true * y_pred > 0)[0].shape[0]\n",
    "    return torch.mean(loss), correct\n"
   ]
  },
  {
   "cell_type": "code",
   "execution_count": 21,
   "metadata": {},
   "outputs": [
    {
     "name": "stderr",
     "output_type": "stream",
     "text": [
      "Training epoch 1: 100%|██████████| 323/323 [29:28<00:00,  5.48s/it, accuracy=0.906, it=322, loss=0.543]\n",
      "Validating epoch 1: 100%|██████████| 56/56 [05:05<00:00,  5.46s/it, accuracy=0.750, it=55, loss=0.724]\n"
     ]
    },
    {
     "name": "stdout",
     "output_type": "stream",
     "text": [
      "Validation Average Loss: 0.5847752690315247, Accuracy: 0.8448660714285714\n"
     ]
    },
    {
     "name": "stderr",
     "output_type": "stream",
     "text": [
      "Training epoch 2: 100%|██████████| 323/323 [29:36<00:00,  5.50s/it, accuracy=0.812, it=322, loss=0.469]\n",
      "Validating epoch 2: 100%|██████████| 56/56 [05:02<00:00,  5.39s/it, accuracy=0.844, it=55, loss=0.446]\n"
     ]
    },
    {
     "name": "stdout",
     "output_type": "stream",
     "text": [
      "Validation Average Loss: 0.4316808879375458, Accuracy: 0.8325892857142857\n"
     ]
    },
    {
     "name": "stderr",
     "output_type": "stream",
     "text": [
      "Training epoch 3: 100%|██████████| 323/323 [29:21<00:00,  5.45s/it, accuracy=0.938, it=322, loss=0.370]\n",
      "Validating epoch 3: 100%|██████████| 56/56 [05:06<00:00,  5.48s/it, accuracy=0.781, it=55, loss=0.472]"
     ]
    },
    {
     "name": "stdout",
     "output_type": "stream",
     "text": [
      "Validation Average Loss: 0.3986954092979431, Accuracy: 0.8364955357142857\n"
     ]
    },
    {
     "name": "stderr",
     "output_type": "stream",
     "text": [
      "\n"
     ]
    }
   ],
   "source": [
    "import torch.utils.tensorboard\n",
    "\n",
    "tb = torch.utils.tensorboard.SummaryWriter(\n",
    "    log_dir=\"/home/zoker/quict/QNN_MNIST1/logs\"\n",
    ")\n",
    "\n",
    "# train epoch\n",
    "for ep in range(EPOCH):\n",
    "    net.train()\n",
    "    loader = tqdm.tqdm(\n",
    "        train_loader, desc=\"Training epoch {}\".format(ep + 1), leave=True\n",
    "    )\n",
    "    # train iteration\n",
    "    for it, (x_train, y_train) in enumerate(loader):\n",
    "        optim.zero_grad()\n",
    "        y_pred = net(x_train)\n",
    "        loss, correct = loss_func(y_train, y_pred)\n",
    "        accuracy = correct / len(y_train)\n",
    "        loss.backward()\n",
    "        optim.step()\n",
    "        loader.set_postfix(\n",
    "            it=it,\n",
    "            loss=\"{:.3f}\".format(loss),\n",
    "            accuracy=\"{:.3f}\".format(accuracy),\n",
    "        )\n",
    "        tb.add_scalar(\"train/loss\", loss, ep * len(loader) + it)\n",
    "        tb.add_scalar(\"train/accuracy\", accuracy, ep * len(loader) + it)\n",
    "\n",
    "        # Save checkpoint\n",
    "        latest = (ep + 1) == EPOCH and (it + 1) == len(loader)\n",
    "        if (it != 0 and it % 30 == 0) or latest:\n",
    "            save_checkpoint(\n",
    "                net, optim, \"/home/zoker/quict/QNN_MNIST1/\", ep, it, latest\n",
    "            )\n",
    "\n",
    "    # Validation\n",
    "    net.eval()\n",
    "    loader_val = tqdm.tqdm(\n",
    "        test_loader, desc=\"Validating epoch {}\".format(ep + 1), leave=True\n",
    "    )\n",
    "    loss_val_list = []\n",
    "    total_correct = 0\n",
    "    for it, (x_test, y_test) in enumerate(loader_val):\n",
    "        y_pred = net(x_test)\n",
    "        loss_val, correct = loss_func(y_test, y_pred)\n",
    "        loss_val_list.append(loss_val.cpu().detach().numpy())\n",
    "        total_correct += correct\n",
    "        accuracy_val = correct / len(y_test)\n",
    "        loader_val.set_postfix(\n",
    "            it=it,\n",
    "            loss=\"{:.3f}\".format(loss_val),\n",
    "            accuracy=\"{:.3f}\".format(accuracy_val),\n",
    "        )\n",
    "\n",
    "    avg_loss = np.mean(loss_val_list)\n",
    "    avg_acc = total_correct / (len(loader_val) * BATCH_SIZE)\n",
    "    tb.add_scalar(\"validation/loss\", avg_loss, ep)\n",
    "    tb.add_scalar(\"validation/accuracy\", avg_acc, ep)\n",
    "    print(\"Validation Average Loss: {}, Accuracy: {}\".format(avg_loss, avg_acc))\n"
   ]
  },
  {
   "cell_type": "code",
   "execution_count": 22,
   "metadata": {},
   "outputs": [
    {
     "data": {
      "text/plain": [
       "[<matplotlib.axis.YTick at 0x7efe437c5040>,\n",
       " <matplotlib.axis.YTick at 0x7efe882b6df0>,\n",
       " <matplotlib.axis.YTick at 0x7efe882ab250>,\n",
       " <matplotlib.axis.YTick at 0x7efe6c065160>,\n",
       " <matplotlib.axis.YTick at 0x7efe6c0658b0>,\n",
       " <matplotlib.axis.YTick at 0x7efe4378a040>]"
      ]
     },
     "execution_count": 22,
     "metadata": {},
     "output_type": "execute_result"
    },
    {
     "data": {
      "image/png": "[encoded data removed]",
      "text/plain": [
       "<Figure size 432x288 with 1 Axes>"
      ]
     },
     "metadata": {
      "needs_background": "light"
     },
     "output_type": "display_data"
    }
   ],
   "source": [
    "qnn_avg_acc = 0.8364955357142857\n",
    "classical_avg_acc = 0.9375\n",
    "ax = sns.barplot(x=[\"QNN\", \"CNN\"], y=[qnn_avg_acc, classical_avg_acc])\n",
    "ax.set_yticks(ticks=[0, 0.2, 0.4, 0.6, 0.8, 1.0])"
   ]
  }
 ],
 "metadata": {
  "kernelspec": {
   "display_name": "base",
   "language": "python",
   "name": "python3"
  },
  "language_info": {
   "codemirror_mode": {
    "name": "ipython",
    "version": 3
   },
   "file_extension": ".py",
   "mimetype": "text/x-python",
   "name": "python",
   "nbconvert_exporter": "python",
   "pygments_lexer": "ipython3",
   "version": "3.9.12"
  },
  "orig_nbformat": 4,
  "vscode": {
   "interpreter": {
    "hash": "9cfda9c6ac4ee00795f036a3a51c2a252dbaac295b2df82962255d5893773bf4"
   }
  }
 },
 "nbformat": 4,
 "nbformat_minor": 2
}
