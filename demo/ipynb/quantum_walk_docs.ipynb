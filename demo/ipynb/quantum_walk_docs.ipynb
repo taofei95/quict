{
 "cells": [
  {
   "cell_type": "code",
   "execution_count": 1,
   "metadata": {},
   "outputs": [],
   "source": [
    "import sys\n",
    "sys.path.append(\"/home/zoker/quict/\")\n",
    "\n",
    "from QuICT.algorithm.quantum_algorithm import QuantumWalkSearch\n",
    "from QuICT.algorithm.tools.drawer.graph_drawer import *\n",
    "from QuICT.simulation.state_vector import ConstantStateVectorSimulator"
   ]
  },
  {
   "cell_type": "code",
   "execution_count": 2,
   "metadata": {},
   "outputs": [
    {
     "name": "stdout",
     "output_type": "stream",
     "text": [
      "2023-01-10 17:15:06 | circuit | INFO | Initial Quantum Circuit circuit_4635ca2c90c711ed98d163a7be280e42 with 6 qubits.\n"
     ]
    },
    {
     "data": {
      "image/png": "[encoded data removed]",
      "text/plain": [
       "<Figure size 432x288 with 1 Axes>"
      ]
     },
     "metadata": {
      "needs_background": "light"
     },
     "output_type": "display_data"
    }
   ],
   "source": [
    "simulator = ConstantStateVectorSimulator()\n",
    "search = QuantumWalkSearch(simulator)\n",
    "result = search.run(index_qubits=4, targets=[11, 12], a_r=5/8, a_nr=1/8)\n",
    "search.draw()"
   ]
  },
  {
   "cell_type": "code",
   "execution_count": 3,
   "metadata": {},
   "outputs": [
    {
     "name": "stdout",
     "output_type": "stream",
     "text": [
      "2023-01-10 17:15:22 | circuit | INFO | Initial Quantum Circuit circuit_4f4b6e8290c711ed98d163a7be280e42 with 6 qubits.\n"
     ]
    },
    {
     "data": {
      "image/png": "[encoded data removed]",
      "text/plain": [
       "<Figure size 432x288 with 1 Axes>"
      ]
     },
     "metadata": {
      "needs_background": "light"
     },
     "output_type": "display_data"
    }
   ],
   "source": [
    "simulator = ConstantStateVectorSimulator()\n",
    "search = QuantumWalkSearch(simulator)\n",
    "result = search.run(index_qubits=4, targets=[11, 12], a_r=5/8, a_nr=4/8)\n",
    "search.draw()"
   ]
  }
 ],
 "metadata": {
  "kernelspec": {
   "display_name": "Python 3.9.12 ('base')",
   "language": "python",
   "name": "python3"
  },
  "language_info": {
   "codemirror_mode": {
    "name": "ipython",
    "version": 3
   },
   "file_extension": ".py",
   "mimetype": "text/x-python",
   "name": "python",
   "nbconvert_exporter": "python",
   "pygments_lexer": "ipython3",
   "version": "3.9.12"
  },
  "orig_nbformat": 4,
  "vscode": {
   "interpreter": {
    "hash": "9cfda9c6ac4ee00795f036a3a51c2a252dbaac295b2df82962255d5893773bf4"
   }
  }
 },
 "nbformat": 4,
 "nbformat_minor": 2
}
