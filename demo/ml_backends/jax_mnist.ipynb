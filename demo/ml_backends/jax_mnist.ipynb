{
 "cells": [
  {
   "cell_type": "code",
   "execution_count": 3,
   "metadata": {},
   "outputs": [],
   "source": [
    "import jax\n",
    "from jax import numpy as jnp\n",
    "from jax import grad, jit, value_and_grad\n",
    "from flax import linen as nn\n",
    "from typing import Sequence\n",
    "\n",
    "# Create PRNGKey (PRNG State)\n",
    "key = jax.random.PRNGKey(0)"
   ]
  },
  {
   "cell_type": "code",
   "execution_count": 13,
   "metadata": {},
   "outputs": [],
   "source": [
    "class MLP(nn.Module):\n",
    "    layer_sizes: Sequence[int] = None\n",
    "    a: int = 1\n",
    "    \n",
    "    def setup(self):\n",
    "        self.layers = [nn.Dense(features=size) for size in self.layer_sizes[1:] * self.a]\n",
    "    \n",
    "    def __call__(self, x):\n",
    "        for layer in self.layers[:-1]:\n",
    "            x = layer(x)\n",
    "            x = nn.relu(x)\n",
    "        return self.layers[-1](x)"
   ]
  },
  {
   "cell_type": "code",
   "execution_count": 14,
   "metadata": {},
   "outputs": [],
   "source": [
    "layer_sizes = [784, 512, 512, 10]\n",
    "\n",
    "# Create model\n",
    "model = MLP(layer_sizes)\n",
    "\n",
    "# Using `init` and dummy_x to create model parameters\n",
    "key, init_key = jax.random.split(key)  # init_key used for initialization\n",
    "dummy_x = jax.random.uniform(init_key, (784, ))\n",
    "key, init_key = jax.random.split(key)\n",
    "\n",
    "params = model.init(init_key, dummy_x)"
   ]
  }
 ],
 "metadata": {
  "kernelspec": {
   "display_name": "base",
   "language": "python",
   "name": "python3"
  },
  "language_info": {
   "codemirror_mode": {
    "name": "ipython",
    "version": 3
   },
   "file_extension": ".py",
   "mimetype": "text/x-python",
   "name": "python",
   "nbconvert_exporter": "python",
   "pygments_lexer": "ipython3",
   "version": "3.9.12"
  },
  "orig_nbformat": 4,
  "vscode": {
   "interpreter": {
    "hash": "9cfda9c6ac4ee00795f036a3a51c2a252dbaac295b2df82962255d5893773bf4"
   }
  }
 },
 "nbformat": 4,
 "nbformat_minor": 2
}
