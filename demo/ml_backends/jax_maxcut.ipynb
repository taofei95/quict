{
 "cells": [
  {
   "cell_type": "code",
   "execution_count": 1,
   "metadata": {},
   "outputs": [],
   "source": [
    "import jax\n",
    "import jax.numpy as jnp\n",
    "import jax.random as jrandom\n",
    "from jax import grad, jit, vmap\n",
    "import optax\n",
    "from jaxopt import OptaxSolver\n",
    "import tqdm\n",
    "import sys\n",
    "sys.path.append(\"/home/zoker/quict\")\n",
    "\n",
    "from QuICT.algorithm.quantum_machine_learning.utils import Hamiltonian\n",
    "from QuICT.algorithm.quantum_machine_learning.model_jax.VQA import QAOANet\n",
    "from QuICT.algorithm.tools.drawer.graph_drawer import *\n",
    "from QuICT.algorithm.quantum_machine_learning.utils.ml_utils import *"
   ]
  },
  {
   "cell_type": "code",
   "execution_count": 2,
   "metadata": {},
   "outputs": [
    {
     "data": {
      "image/png": "[encoded data removed]",
      "text/plain": [
       "<Figure size 432x288 with 1 Axes>"
      ]
     },
     "metadata": {},
     "output_type": "display_data"
    }
   ],
   "source": [
    "n = 5\n",
    "nodes = list(range(n))\n",
    "edges = [[0, 1], [1, 2], [2, 3], [3, 4], [0, 3], [2, 4]]\n",
    "# 内置的画图函数可以打印生成的图G\n",
    "draw_graph(nodes, edges)"
   ]
  },
  {
   "cell_type": "code",
   "execution_count": 3,
   "metadata": {},
   "outputs": [
    {
     "data": {
      "text/plain": [
       "[[-1.0, 'Z0', 'Z1'],\n",
       " [-1.0, 'Z1', 'Z2'],\n",
       " [-1.0, 'Z2', 'Z3'],\n",
       " [-1.0, 'Z3', 'Z4'],\n",
       " [-1.0, 'Z0', 'Z3'],\n",
       " [-1.0, 'Z2', 'Z4']]"
      ]
     },
     "execution_count": 3,
     "metadata": {},
     "output_type": "execute_result"
    }
   ],
   "source": [
    "def maxcut_hamiltonian(edges):\n",
    "    pauli_list = []\n",
    "    for edge in edges:\n",
    "        pauli_list.append([-1.0, \"Z\" + str(edge[0]), \"Z\" + str(edge[1])])\n",
    "    hamiltonian = Hamiltonian(pauli_list)\n",
    "\n",
    "    return hamiltonian\n",
    "\n",
    "H = maxcut_hamiltonian(edges)\n",
    "\n",
    "H.pauli_str"
   ]
  },
  {
   "cell_type": "code",
   "execution_count": 5,
   "metadata": {},
   "outputs": [],
   "source": [
    "KEY = jrandom.PRNGKey(0)\n",
    "qaoa_net_sample = QAOANet(n_qubits=n, p=1, hamiltonian=H)"
   ]
  },
  {
   "cell_type": "code",
   "execution_count": 6,
   "metadata": {},
   "outputs": [
    {
     "ename": "AttributeError",
     "evalue": "\"QAOANet\" object has no attribute \"params\". If \"params\" is defined in '.setup()', remember these fields are only accessible from inside 'init' or 'apply'.",
     "output_type": "error",
     "traceback": [
      "\u001b[0;31m---------------------------------------------------------------------------\u001b[0m",
      "\u001b[0;31mAttributeError\u001b[0m                            Traceback (most recent call last)",
      "\u001b[1;32m/home/zoker/quict/demo/ml_backends/jax_maxcut.ipynb Cell 5\u001b[0m in \u001b[0;36m<cell line: 1>\u001b[0;34m()\u001b[0m\n\u001b[0;32m----> <a href='vscode-notebook-cell:/home/zoker/quict/demo/ml_backends/jax_maxcut.ipynb#W4sZmlsZQ%3D%3D?line=0'>1</a>\u001b[0m qaoa_cir_sample \u001b[39m=\u001b[39m qaoa_net_sample\u001b[39m.\u001b[39;49mconstruct_circuit()\n\u001b[1;32m      <a href='vscode-notebook-cell:/home/zoker/quict/demo/ml_backends/jax_maxcut.ipynb#W4sZmlsZQ%3D%3D?line=1'>2</a>\u001b[0m qaoa_cir_sample\u001b[39m.\u001b[39mdraw()\n",
      "File \u001b[0;32m~/anaconda3/lib/python3.9/site-packages/flax/linen/module.py:424\u001b[0m, in \u001b[0;36mwrap_method_once.<locals>.wrapped_module_method\u001b[0;34m(*args, **kwargs)\u001b[0m\n\u001b[1;32m    422\u001b[0m \u001b[39mif\u001b[39;00m args \u001b[39mand\u001b[39;00m \u001b[39misinstance\u001b[39m(args[\u001b[39m0\u001b[39m], Module):\n\u001b[1;32m    423\u001b[0m   \u001b[39mself\u001b[39m, args \u001b[39m=\u001b[39m args[\u001b[39m0\u001b[39m], args[\u001b[39m1\u001b[39m:]\n\u001b[0;32m--> 424\u001b[0m   \u001b[39mreturn\u001b[39;00m \u001b[39mself\u001b[39;49m\u001b[39m.\u001b[39;49m_call_wrapped_method(fun, args, kwargs)\n\u001b[1;32m    425\u001b[0m \u001b[39melse\u001b[39;00m:\n\u001b[1;32m    426\u001b[0m   \u001b[39mreturn\u001b[39;00m fun(\u001b[39m*\u001b[39margs, \u001b[39m*\u001b[39m\u001b[39m*\u001b[39mkwargs)\n",
      "File \u001b[0;32m~/anaconda3/lib/python3.9/site-packages/flax/linen/module.py:821\u001b[0m, in \u001b[0;36mModule._call_wrapped_method\u001b[0;34m(self, fun, args, kwargs)\u001b[0m\n\u001b[1;32m    819\u001b[0m \u001b[39mif\u001b[39;00m _use_named_call:\n\u001b[1;32m    820\u001b[0m   \u001b[39mwith\u001b[39;00m jax\u001b[39m.\u001b[39mnamed_scope(_derive_profiling_name(\u001b[39mself\u001b[39m, fun)):\n\u001b[0;32m--> 821\u001b[0m     y \u001b[39m=\u001b[39m fun(\u001b[39mself\u001b[39;49m, \u001b[39m*\u001b[39;49margs, \u001b[39m*\u001b[39;49m\u001b[39m*\u001b[39;49mkwargs)\n\u001b[1;32m    822\u001b[0m \u001b[39melse\u001b[39;00m:\n\u001b[1;32m    823\u001b[0m   y \u001b[39m=\u001b[39m fun(\u001b[39mself\u001b[39m, \u001b[39m*\u001b[39margs, \u001b[39m*\u001b[39m\u001b[39m*\u001b[39mkwargs)\n",
      "File \u001b[0;32m~/quict/QuICT/algorithm/quantum_machine_learning/model_jax/VQA/qaoa_net.py:136\u001b[0m, in \u001b[0;36mQAOANet.construct_circuit\u001b[0;34m(self)\u001b[0m\n\u001b[1;32m    130\u001b[0m \u001b[39mdef\u001b[39;00m \u001b[39mconstruct_circuit\u001b[39m(\u001b[39mself\u001b[39m):\n\u001b[1;32m    131\u001b[0m \u001b[39m    \u001b[39m\u001b[39m\"\"\"Build QAOA circuit with optimizable parameters.\u001b[39;00m\n\u001b[1;32m    132\u001b[0m \n\u001b[1;32m    133\u001b[0m \u001b[39m    Returns:\u001b[39;00m\n\u001b[1;32m    134\u001b[0m \u001b[39m        Circuit: The QAOA circuit.\u001b[39;00m\n\u001b[1;32m    135\u001b[0m \u001b[39m    \"\"\"\u001b[39;00m\n\u001b[0;32m--> 136\u001b[0m     params \u001b[39m=\u001b[39m np\u001b[39m.\u001b[39masarray(\u001b[39mself\u001b[39;49m\u001b[39m.\u001b[39;49mparams)\n\u001b[1;32m    137\u001b[0m     gamma \u001b[39m=\u001b[39m params[\u001b[39m0\u001b[39m]\n\u001b[1;32m    138\u001b[0m     beta \u001b[39m=\u001b[39m params[\u001b[39m1\u001b[39m]\n",
      "File \u001b[0;32m~/anaconda3/lib/python3.9/site-packages/flax/linen/module.py:898\u001b[0m, in \u001b[0;36mModule.__getattr__\u001b[0;34m(self, name)\u001b[0m\n\u001b[1;32m    895\u001b[0m \u001b[39mif\u001b[39;00m \u001b[39mself\u001b[39m\u001b[39m.\u001b[39mscope \u001b[39mis\u001b[39;00m \u001b[39mNone\u001b[39;00m:\n\u001b[1;32m    896\u001b[0m   msg \u001b[39m+\u001b[39m\u001b[39m=\u001b[39m (\u001b[39mf\u001b[39m\u001b[39m'\u001b[39m\u001b[39m If \u001b[39m\u001b[39m\"\u001b[39m\u001b[39m{\u001b[39;00mname\u001b[39m}\u001b[39;00m\u001b[39m\"\u001b[39m\u001b[39m is defined in \u001b[39m\u001b[39m\\'\u001b[39;00m\u001b[39m.setup()\u001b[39m\u001b[39m\\'\u001b[39;00m\u001b[39m, remember these fields \u001b[39m\u001b[39m'\u001b[39m\n\u001b[1;32m    897\u001b[0m     \u001b[39m'\u001b[39m\u001b[39mare only accessible from inside \u001b[39m\u001b[39m\\'\u001b[39;00m\u001b[39minit\u001b[39m\u001b[39m\\'\u001b[39;00m\u001b[39m or \u001b[39m\u001b[39m\\'\u001b[39;00m\u001b[39mapply\u001b[39m\u001b[39m\\'\u001b[39;00m\u001b[39m.\u001b[39m\u001b[39m'\u001b[39m)\n\u001b[0;32m--> 898\u001b[0m \u001b[39mraise\u001b[39;00m \u001b[39mAttributeError\u001b[39;00m(msg)\n",
      "\u001b[0;31mAttributeError\u001b[0m: \"QAOANet\" object has no attribute \"params\". If \"params\" is defined in '.setup()', remember these fields are only accessible from inside 'init' or 'apply'."
     ]
    }
   ],
   "source": [
    "qaoa_cir_sample = qaoa_net_sample.construct_circuit()\n",
    "qaoa_cir_sample.draw()"
   ]
  },
  {
   "cell_type": "code",
   "execution_count": 6,
   "metadata": {},
   "outputs": [],
   "source": [
    "p = 4           # 量子电路层数\n",
    "MAX_ITERS = 150 # 最大迭代次数\n",
    "LR = 0.1        # 梯度下降的学习率\n",
    "SEED = 17       # 随机数种子\n",
    "\n",
    "set_seed(SEED)  # 设置全局随机种子"
   ]
  },
  {
   "cell_type": "code",
   "execution_count": null,
   "metadata": {},
   "outputs": [],
   "source": [
    "qaoa_net = QAOANet(n_qubits=n, p=p, hamiltonian=H, key=KEY)\n",
    "optimizer = optax.adam(learning_rate=LR)\n",
    "\n",
    "\n",
    "\n",
    "@jit\n",
    "def update(i, opt_state, state):\n",
    "    params = get_params(opt_state)\n",
    "    return opt_update(i, grad(qaoa_net.loss_func)(state), opt_state)\n",
    "\n",
    "# opt = optax.adam(LR)\n",
    "# solver = OptaxSolver(opt=opt, fun=ridge_reg_objective, maxiter=MAX_ITERS)\n",
    "\n",
    "# 开始训练\n",
    "qaoa_net.train()\n",
    "loader = tqdm.trange(MAX_ITERS, desc=\"Training\", leave=True)\n",
    "for it in loader:\n",
    "    state = qaoa_net()\n",
    "    loss = qaoa_net.loss_func(state)\n",
    "\n",
    "    loader.set_postfix(loss=loss.item())"
   ]
  }
 ],
 "metadata": {
  "kernelspec": {
   "display_name": "base",
   "language": "python",
   "name": "python3"
  },
  "language_info": {
   "codemirror_mode": {
    "name": "ipython",
    "version": 3
   },
   "file_extension": ".py",
   "mimetype": "text/x-python",
   "name": "python",
   "nbconvert_exporter": "python",
   "pygments_lexer": "ipython3",
   "version": "3.9.12"
  },
  "orig_nbformat": 4,
  "vscode": {
   "interpreter": {
    "hash": "9cfda9c6ac4ee00795f036a3a51c2a252dbaac295b2df82962255d5893773bf4"
   }
  }
 },
 "nbformat": 4,
 "nbformat_minor": 2
}
