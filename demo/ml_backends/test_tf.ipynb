{
 "cells": [
  {
   "cell_type": "code",
   "execution_count": 1,
   "metadata": {},
   "outputs": [
    {
     "name": "stderr",
     "output_type": "stream",
     "text": [
      "2023-03-13 16:37:25.653373: I tensorflow/core/platform/cpu_feature_guard.cc:193] This TensorFlow binary is optimized with oneAPI Deep Neural Network Library (oneDNN) to use the following CPU instructions in performance-critical operations:  AVX2 FMA\n",
      "To enable them in other operations, rebuild TensorFlow with the appropriate compiler flags.\n",
      "2023-03-13 16:37:26.619335: W tensorflow/compiler/xla/stream_executor/platform/default/dso_loader.cc:64] Could not load dynamic library 'libnvinfer.so.7'; dlerror: libnvinfer.so.7: cannot open shared object file: No such file or directory; LD_LIBRARY_PATH: /user/local/cuda-11.7/lib64:\n",
      "2023-03-13 16:37:26.619397: W tensorflow/compiler/xla/stream_executor/platform/default/dso_loader.cc:64] Could not load dynamic library 'libnvinfer_plugin.so.7'; dlerror: libnvinfer_plugin.so.7: cannot open shared object file: No such file or directory; LD_LIBRARY_PATH: /user/local/cuda-11.7/lib64:\n",
      "2023-03-13 16:37:26.619402: W tensorflow/compiler/tf2tensorrt/utils/py_utils.cc:38] TF-TRT Warning: Cannot dlopen some TensorRT libraries. If you would like to use Nvidia GPU with TensorRT, please make sure the missing libraries mentioned above are installed properly.\n"
     ]
    }
   ],
   "source": [
    "import tensorflow as tf\n",
    "import numpy as np\n",
    "import sys\n",
    "sys.path.append(\"/home/zoker/quict\")\n",
    "\n",
    "\n",
    "from QuICT.simulation.state_vector import ConstantStateVectorSimulator\n",
    "from QuICT.core import Circuit\n",
    "from QuICT.core.gate import *"
   ]
  },
  {
   "cell_type": "code",
   "execution_count": 2,
   "metadata": {},
   "outputs": [
    {
     "name": "stdout",
     "output_type": "stream",
     "text": [
      "tf.Tensor([3.], shape=(1,), dtype=float64)\n",
      "[3.]\n"
     ]
    },
    {
     "data": {
      "text/plain": [
       "<tf.Tensor: shape=(), dtype=float64, numpy=0.14147440333540579>"
      ]
     },
     "execution_count": 2,
     "metadata": {},
     "output_type": "execute_result"
    }
   ],
   "source": [
    "def f(params):\n",
    "    print(params)\n",
    "    params_np = params.numpy()\n",
    "    print(params_np)\n",
    "    \n",
    "    cir = Circuit(2)\n",
    "    sim = ConstantStateVectorSimulator()\n",
    "    H | cir\n",
    "    Rx(params_np[0]) | cir(0)\n",
    "    sv = sim.run(cir)\n",
    "    \n",
    "    loss = sum(sv).real\n",
    "    loss = tf.convert_to_tensor(loss.get())\n",
    "\n",
    "    return loss\n",
    "\n",
    "param = np.array([3.0])\n",
    "param = tf.convert_to_tensor(param)\n",
    "f(param)"
   ]
  },
  {
   "cell_type": "code",
   "execution_count": 3,
   "metadata": {},
   "outputs": [],
   "source": [
    "def vmap(f):\n",
    "    def wrapper(*args, **kws):\n",
    "        def pf(x):\n",
    "            return f(x, *args[1:], **kws)\n",
    "\n",
    "        return tf.vectorized_map(pf, args[0])\n",
    "    return wrapper"
   ]
  },
  {
   "cell_type": "code",
   "execution_count": 4,
   "metadata": {},
   "outputs": [],
   "source": [
    "def vvag(f):\n",
    "    vf = vmap(f)\n",
    "    def wrapper(*args, **kws):\n",
    "        with tf.GradientTape() as tape:\n",
    "            x = args[0]\n",
    "            tape.watch(x)\n",
    "            vs = vf(*args, **kws)\n",
    "        grad = tape.gradient(vs, x)\n",
    "        return vs, grad\n",
    "\n",
    "    return wrapper"
   ]
  },
  {
   "cell_type": "code",
   "execution_count": 5,
   "metadata": {},
   "outputs": [
    {
     "name": "stdout",
     "output_type": "stream",
     "text": [
      "Tensor(\"loop_body/GatherV2:0\", shape=(), dtype=float64)\n"
     ]
    },
    {
     "ename": "AttributeError",
     "evalue": "in user code:\n\n    File \"/tmp/ipykernel_23593/3913751171.py\", line 4, in pf\n        return f(x, *args[1:], **kws)\n    File \"/tmp/ipykernel_23593/1307783320.py\", line 3, in f\n        params_np = params.numpy()\n\n    AttributeError: 'Tensor' object has no attribute 'numpy'\n",
     "output_type": "error",
     "traceback": [
      "\u001b[0;31m---------------------------------------------------------------------------\u001b[0m",
      "\u001b[0;31mAttributeError\u001b[0m                            Traceback (most recent call last)",
      "\u001b[1;32m/home/zoker/quict/demo/ml_backends/test_tf.ipynb Cell 5\u001b[0m in \u001b[0;36m<cell line: 9>\u001b[0;34m()\u001b[0m\n\u001b[1;32m      <a href='vscode-notebook-cell:/home/zoker/quict/demo/ml_backends/test_tf.ipynb#W4sZmlsZQ%3D%3D?line=5'>6</a>\u001b[0m opt \u001b[39m=\u001b[39m tf\u001b[39m.\u001b[39mkeras\u001b[39m.\u001b[39moptimizers\u001b[39m.\u001b[39mAdam()\n\u001b[1;32m      <a href='vscode-notebook-cell:/home/zoker/quict/demo/ml_backends/test_tf.ipynb#W4sZmlsZQ%3D%3D?line=6'>7</a>\u001b[0m \u001b[39m# op = opt.minimize\u001b[39;00m\n\u001b[0;32m----> <a href='vscode-notebook-cell:/home/zoker/quict/demo/ml_backends/test_tf.ipynb#W4sZmlsZQ%3D%3D?line=8'>9</a>\u001b[0m loss, grad \u001b[39m=\u001b[39m vvag_f(param)\n\u001b[1;32m     <a href='vscode-notebook-cell:/home/zoker/quict/demo/ml_backends/test_tf.ipynb#W4sZmlsZQ%3D%3D?line=9'>10</a>\u001b[0m \u001b[39mprint\u001b[39m(loss)\n\u001b[1;32m     <a href='vscode-notebook-cell:/home/zoker/quict/demo/ml_backends/test_tf.ipynb#W4sZmlsZQ%3D%3D?line=10'>11</a>\u001b[0m \u001b[39mprint\u001b[39m(grad)\n",
      "\u001b[1;32m/home/zoker/quict/demo/ml_backends/test_tf.ipynb Cell 5\u001b[0m in \u001b[0;36mvvag.<locals>.wrapper\u001b[0;34m(*args, **kws)\u001b[0m\n\u001b[1;32m      <a href='vscode-notebook-cell:/home/zoker/quict/demo/ml_backends/test_tf.ipynb#W4sZmlsZQ%3D%3D?line=4'>5</a>\u001b[0m     x \u001b[39m=\u001b[39m args[\u001b[39m0\u001b[39m]\n\u001b[1;32m      <a href='vscode-notebook-cell:/home/zoker/quict/demo/ml_backends/test_tf.ipynb#W4sZmlsZQ%3D%3D?line=5'>6</a>\u001b[0m     tape\u001b[39m.\u001b[39mwatch(x)\n\u001b[0;32m----> <a href='vscode-notebook-cell:/home/zoker/quict/demo/ml_backends/test_tf.ipynb#W4sZmlsZQ%3D%3D?line=6'>7</a>\u001b[0m     vs \u001b[39m=\u001b[39m vf(\u001b[39m*\u001b[39;49margs, \u001b[39m*\u001b[39;49m\u001b[39m*\u001b[39;49mkws)\n\u001b[1;32m      <a href='vscode-notebook-cell:/home/zoker/quict/demo/ml_backends/test_tf.ipynb#W4sZmlsZQ%3D%3D?line=7'>8</a>\u001b[0m grad \u001b[39m=\u001b[39m tape\u001b[39m.\u001b[39mgradient(vs, x)\n\u001b[1;32m      <a href='vscode-notebook-cell:/home/zoker/quict/demo/ml_backends/test_tf.ipynb#W4sZmlsZQ%3D%3D?line=8'>9</a>\u001b[0m \u001b[39mreturn\u001b[39;00m vs, grad\n",
      "\u001b[1;32m/home/zoker/quict/demo/ml_backends/test_tf.ipynb Cell 5\u001b[0m in \u001b[0;36mvmap.<locals>.wrapper\u001b[0;34m(*args, **kws)\u001b[0m\n\u001b[1;32m      <a href='vscode-notebook-cell:/home/zoker/quict/demo/ml_backends/test_tf.ipynb#W4sZmlsZQ%3D%3D?line=2'>3</a>\u001b[0m \u001b[39mdef\u001b[39;00m \u001b[39mpf\u001b[39m(x):\n\u001b[1;32m      <a href='vscode-notebook-cell:/home/zoker/quict/demo/ml_backends/test_tf.ipynb#W4sZmlsZQ%3D%3D?line=3'>4</a>\u001b[0m     \u001b[39mreturn\u001b[39;00m f(x, \u001b[39m*\u001b[39margs[\u001b[39m1\u001b[39m:], \u001b[39m*\u001b[39m\u001b[39m*\u001b[39mkws)\n\u001b[0;32m----> <a href='vscode-notebook-cell:/home/zoker/quict/demo/ml_backends/test_tf.ipynb#W4sZmlsZQ%3D%3D?line=5'>6</a>\u001b[0m \u001b[39mreturn\u001b[39;00m tf\u001b[39m.\u001b[39;49mvectorized_map(pf, args[\u001b[39m0\u001b[39;49m])\n",
      "File \u001b[0;32m~/anaconda3/lib/python3.9/site-packages/tensorflow/python/ops/parallel_for/control_flow_ops.py:565\u001b[0m, in \u001b[0;36mvectorized_map\u001b[0;34m(fn, elems, fallback_to_while_loop, warn)\u001b[0m\n\u001b[1;32m    562\u001b[0m \u001b[39melse\u001b[39;00m:\n\u001b[1;32m    563\u001b[0m   batch_size \u001b[39m=\u001b[39m \u001b[39mmax\u001b[39m(static_first_dims)\n\u001b[0;32m--> 565\u001b[0m \u001b[39mreturn\u001b[39;00m pfor(\n\u001b[1;32m    566\u001b[0m     loop_fn,\n\u001b[1;32m    567\u001b[0m     batch_size,\n\u001b[1;32m    568\u001b[0m     fallback_to_while_loop\u001b[39m=\u001b[39;49mfallback_to_while_loop,\n\u001b[1;32m    569\u001b[0m     warn\u001b[39m=\u001b[39;49mwarn)\n",
      "File \u001b[0;32m~/anaconda3/lib/python3.9/site-packages/tensorflow/python/ops/parallel_for/control_flow_ops.py:214\u001b[0m, in \u001b[0;36mpfor\u001b[0;34m(loop_fn, iters, fallback_to_while_loop, parallel_iterations, warn)\u001b[0m\n\u001b[1;32m    211\u001b[0m     def_function\u001b[39m.\u001b[39mrun_functions_eagerly(\u001b[39mFalse\u001b[39;00m)\n\u001b[1;32m    212\u001b[0m   f \u001b[39m=\u001b[39m def_function\u001b[39m.\u001b[39mfunction(f)\n\u001b[0;32m--> 214\u001b[0m outputs \u001b[39m=\u001b[39m f()\n\u001b[1;32m    215\u001b[0m \u001b[39mif\u001b[39;00m functions_run_eagerly \u001b[39mis\u001b[39;00m \u001b[39mnot\u001b[39;00m \u001b[39mNone\u001b[39;00m:\n\u001b[1;32m    216\u001b[0m   def_function\u001b[39m.\u001b[39mrun_functions_eagerly(functions_run_eagerly)\n",
      "File \u001b[0;32m~/anaconda3/lib/python3.9/site-packages/tensorflow/python/util/traceback_utils.py:153\u001b[0m, in \u001b[0;36mfilter_traceback.<locals>.error_handler\u001b[0;34m(*args, **kwargs)\u001b[0m\n\u001b[1;32m    151\u001b[0m \u001b[39mexcept\u001b[39;00m \u001b[39mException\u001b[39;00m \u001b[39mas\u001b[39;00m e:\n\u001b[1;32m    152\u001b[0m   filtered_tb \u001b[39m=\u001b[39m _process_traceback_frames(e\u001b[39m.\u001b[39m__traceback__)\n\u001b[0;32m--> 153\u001b[0m   \u001b[39mraise\u001b[39;00m e\u001b[39m.\u001b[39mwith_traceback(filtered_tb) \u001b[39mfrom\u001b[39;00m \u001b[39mNone\u001b[39m\n\u001b[1;32m    154\u001b[0m \u001b[39mfinally\u001b[39;00m:\n\u001b[1;32m    155\u001b[0m   \u001b[39mdel\u001b[39;00m filtered_tb\n",
      "File \u001b[0;32m/tmp/__autograph_generated_filebfigr7yq.py:17\u001b[0m, in \u001b[0;36mouter_factory.<locals>.inner_factory.<locals>.tf__f\u001b[0;34m()\u001b[0m\n\u001b[1;32m     15\u001b[0m \u001b[39mtry\u001b[39;00m:\n\u001b[1;32m     16\u001b[0m     do_return \u001b[39m=\u001b[39m \u001b[39mTrue\u001b[39;00m\n\u001b[0;32m---> 17\u001b[0m     retval_ \u001b[39m=\u001b[39m ag__\u001b[39m.\u001b[39mconverted_call(ag__\u001b[39m.\u001b[39mld(_pfor_impl), (ag__\u001b[39m.\u001b[39mld(loop_fn), ag__\u001b[39m.\u001b[39mld(iters)), \u001b[39mdict\u001b[39m(fallback_to_while_loop\u001b[39m=\u001b[39mag__\u001b[39m.\u001b[39mld(fallback_to_while_loop), parallel_iterations\u001b[39m=\u001b[39mag__\u001b[39m.\u001b[39mld(parallel_iterations), warn\u001b[39m=\u001b[39mag__\u001b[39m.\u001b[39mld(warn)), fscope)\n\u001b[1;32m     18\u001b[0m \u001b[39mexcept\u001b[39;00m:\n\u001b[1;32m     19\u001b[0m     do_return \u001b[39m=\u001b[39m \u001b[39mFalse\u001b[39;00m\n",
      "\u001b[1;32m/home/zoker/quict/demo/ml_backends/test_tf.ipynb Cell 5\u001b[0m in \u001b[0;36mvmap.<locals>.wrapper.<locals>.pf\u001b[0;34m(x)\u001b[0m\n\u001b[1;32m      <a href='vscode-notebook-cell:/home/zoker/quict/demo/ml_backends/test_tf.ipynb#W4sZmlsZQ%3D%3D?line=2'>3</a>\u001b[0m \u001b[39mdef\u001b[39;00m \u001b[39mpf\u001b[39m(x):\n\u001b[0;32m----> <a href='vscode-notebook-cell:/home/zoker/quict/demo/ml_backends/test_tf.ipynb#W4sZmlsZQ%3D%3D?line=3'>4</a>\u001b[0m     \u001b[39mreturn\u001b[39;00m f(x, \u001b[39m*\u001b[39;49margs[\u001b[39m1\u001b[39;49m:], \u001b[39m*\u001b[39;49m\u001b[39m*\u001b[39;49mkws)\n",
      "\u001b[1;32m/home/zoker/quict/demo/ml_backends/test_tf.ipynb Cell 5\u001b[0m in \u001b[0;36mf\u001b[0;34m(params)\u001b[0m\n\u001b[1;32m      <a href='vscode-notebook-cell:/home/zoker/quict/demo/ml_backends/test_tf.ipynb#W4sZmlsZQ%3D%3D?line=0'>1</a>\u001b[0m \u001b[39mdef\u001b[39;00m \u001b[39mf\u001b[39m(params):\n\u001b[1;32m      <a href='vscode-notebook-cell:/home/zoker/quict/demo/ml_backends/test_tf.ipynb#W4sZmlsZQ%3D%3D?line=1'>2</a>\u001b[0m     \u001b[39mprint\u001b[39m(params)\n\u001b[0;32m----> <a href='vscode-notebook-cell:/home/zoker/quict/demo/ml_backends/test_tf.ipynb#W4sZmlsZQ%3D%3D?line=2'>3</a>\u001b[0m     params_np \u001b[39m=\u001b[39m params\u001b[39m.\u001b[39;49mnumpy()\n\u001b[1;32m      <a href='vscode-notebook-cell:/home/zoker/quict/demo/ml_backends/test_tf.ipynb#W4sZmlsZQ%3D%3D?line=3'>4</a>\u001b[0m     \u001b[39mprint\u001b[39m(params_np)\n\u001b[1;32m      <a href='vscode-notebook-cell:/home/zoker/quict/demo/ml_backends/test_tf.ipynb#W4sZmlsZQ%3D%3D?line=5'>6</a>\u001b[0m     cir \u001b[39m=\u001b[39m Circuit(\u001b[39m2\u001b[39m)\n",
      "\u001b[0;31mAttributeError\u001b[0m: in user code:\n\n    File \"/tmp/ipykernel_23593/3913751171.py\", line 4, in pf\n        return f(x, *args[1:], **kws)\n    File \"/tmp/ipykernel_23593/1307783320.py\", line 3, in f\n        params_np = params.numpy()\n\n    AttributeError: 'Tensor' object has no attribute 'numpy'\n"
     ]
    }
   ],
   "source": [
    "vvag_f = vvag(f)\n",
    "\n",
    "param = np.array([3.0])\n",
    "param = tf.convert_to_tensor(param)\n",
    "\n",
    "opt = tf.keras.optimizers.Adam()\n",
    "# op = opt.minimize\n",
    "\n",
    "loss, grad = vvag_f(param)\n",
    "print(loss)\n",
    "print(grad)"
   ]
  },
  {
   "cell_type": "code",
   "execution_count": null,
   "metadata": {},
   "outputs": [],
   "source": []
  }
 ],
 "metadata": {
  "kernelspec": {
   "display_name": "base",
   "language": "python",
   "name": "python3"
  },
  "language_info": {
   "codemirror_mode": {
    "name": "ipython",
    "version": 3
   },
   "file_extension": ".py",
   "mimetype": "text/x-python",
   "name": "python",
   "nbconvert_exporter": "python",
   "pygments_lexer": "ipython3",
   "version": "3.9.12"
  },
  "orig_nbformat": 4,
  "vscode": {
   "interpreter": {
    "hash": "9cfda9c6ac4ee00795f036a3a51c2a252dbaac295b2df82962255d5893773bf4"
   }
  }
 },
 "nbformat": 4,
 "nbformat_minor": 2
}
