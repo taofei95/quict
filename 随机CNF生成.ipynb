{
 "cells": [
  {
   "cell_type": "code",
   "execution_count": 1,
   "metadata": {},
   "outputs": [],
   "source": [
    "import random\n",
    "#n：变量数；k：子句的文字数 子句宽度。输出一个子句，参数为n、k\n",
    "def ratio(n,k):\n",
    "    if 3 == k:\n",
    "        return int(n*4.267)\n",
    "    elif 4 == k:\n",
    "        return int(n*9.931)\n",
    "    elif 5 == k:\n",
    "        return int(n*21.117)\n",
    "    elif 6 == k:\n",
    "        return int(n*43.37)\n",
    "    elif 7 == k:\n",
    "        return int(n*87.79)\n",
    "    else:\n",
    "        print(\"Error there is no ratio to output\")\n",
    "        return -1\n",
    "    return -1\n",
    "\n",
    "def rclause(n,k):\n",
    "    templist=random.sample(range(1,n+1),k)\n",
    "    templist.sort()\n",
    "    for i in range(k):\n",
    "        r = random.randint(0,1)\n",
    "        if r == 1:\n",
    "            templist[i] = -templist[i]\n",
    "    return templist\n",
    "\n",
    "def check(cnf,new):\n",
    "    out = 1\n",
    "    for i in range(len(cnf)):\n",
    "        if len(cnf[i]) != len(new):\n",
    "            print(\"Check error: length not match\")\n",
    "            return -1\n",
    "        temp = 1\n",
    "        for j in range(len(new)):\n",
    "            if cnf[i][j] != new[j]:\n",
    "                temp = 0\n",
    "        if temp == 1:\n",
    "            out = 0\n",
    "    return out\n",
    "\n",
    "#k：每个子句的最大文字数(子句宽度);n：变量数；m：子句数。输出一个随机CNF，参数为n、m、k\n",
    "def rcnf(n,m,k,num):\n",
    "    cnf = []\n",
    "    count = 0\n",
    "    while(True):\n",
    "        new = rclause(n,k)\n",
    "        nice = check(cnf,new)\n",
    "        if 0 == nice:\n",
    "            continue\n",
    "        elif 1 == nice:\n",
    "            cnf.append(new)\n",
    "            #print(count)\n",
    "            count = count + 1\n",
    "        if count == m:\n",
    "            break\n",
    "    dir = \"QuICT/algorithm/quantum_algorithm/CNF/test_data/1108\"\n",
    "    name = str(k) + \"_\" + str(n) + \"_\" + str(m) + \"_\" + str(num)\n",
    "    fo = open(name, \"w\")\n",
    "    string = \"p cnf \" + str(n) + \" \" + str(m) + \"\\n\"\n",
    "    fo.write(string)\n",
    "   \n",
    "    for i in range(m):\n",
    "        string = \"\"\n",
    "        for j in range(k):\n",
    "            string = string + str(cnf[i][j]) + \" \"\n",
    "            #print(cnf[i][j], end = ' ')\n",
    "        string = string + \"0\\n\"\n",
    "        #print('0')\n",
    "        fo.write(string)\n",
    "    fo.close()\n",
    "        \n",
    "def generator(n,k):\n",
    "    # m_list = [5, 10, 20, 40]\n",
    "    # for m in m_list:\n",
    "    for i in range(1):\n",
    "        rcnf(n,5,k,i)"
   ]
  },
  {
   "cell_type": "code",
   "execution_count": 32,
   "metadata": {},
   "outputs": [],
   "source": [
    "generator(22,3)"
   ]
  },
  {
   "cell_type": "code",
   "execution_count": 33,
   "metadata": {},
   "outputs": [],
   "source": [
    "generator(22,4)"
   ]
  },
  {
   "cell_type": "code",
   "execution_count": 2,
   "metadata": {},
   "outputs": [],
   "source": [
    "generator(25,3)"
   ]
  },
  {
   "cell_type": "code",
   "execution_count": 4,
   "metadata": {},
   "outputs": [],
   "source": [
    "generator(24,4)"
   ]
  },
  {
   "cell_type": "code",
   "execution_count": 26,
   "metadata": {},
   "outputs": [],
   "source": [
    "generator(8,4)"
   ]
  },
  {
   "cell_type": "code",
   "execution_count": 27,
   "metadata": {},
   "outputs": [],
   "source": [
    "generator(8,5)"
   ]
  },
  {
   "cell_type": "code",
   "execution_count": 28,
   "metadata": {},
   "outputs": [],
   "source": [
    "generator(10,3)"
   ]
  },
  {
   "cell_type": "code",
   "execution_count": 29,
   "metadata": {},
   "outputs": [],
   "source": [
    "generator(10,4)"
   ]
  },
  {
   "cell_type": "code",
   "execution_count": 30,
   "metadata": {},
   "outputs": [],
   "source": [
    "generator(10,5)"
   ]
  },
  {
   "cell_type": "code",
   "execution_count": 3,
   "metadata": {},
   "outputs": [],
   "source": [
    "n=11\n",
    "k=3\n",
    "i=100\n",
    "rcnf(n,ratio(n,k),k,i)"
   ]
  },
  {
   "cell_type": "code",
   "execution_count": 3,
   "metadata": {},
   "outputs": [],
   "source": [
    "generator(400,3)"
   ]
  },
  {
   "cell_type": "code",
   "execution_count": 4,
   "metadata": {},
   "outputs": [],
   "source": [
    "generator(800,3)"
   ]
  },
  {
   "cell_type": "code",
   "execution_count": 6,
   "metadata": {},
   "outputs": [
    {
     "ename": "KeyboardInterrupt",
     "evalue": "",
     "output_type": "error",
     "traceback": [
      "\u001b[0;31m---------------------------------------------------------------------------\u001b[0m",
      "\u001b[0;31mKeyboardInterrupt\u001b[0m                         Traceback (most recent call last)",
      "\u001b[1;32m/home/wangrui/quict/随机CNF生成.ipynb Cell 15\u001b[0m in \u001b[0;36m<cell line: 1>\u001b[0;34m()\u001b[0m\n\u001b[0;32m----> <a href='vscode-notebook-cell://ssh-remote%2B7b22686f73744e616d65223a224750552d65787465726e616c227d/home/wangrui/quict/%E9%9A%8F%E6%9C%BACNF%E7%94%9F%E6%88%90.ipynb#X20sdnNjb2RlLXJlbW90ZQ%3D%3D?line=0'>1</a>\u001b[0m generator(\u001b[39m400\u001b[39;49m,\u001b[39m4\u001b[39;49m)\n",
      "\u001b[1;32m/home/wangrui/quict/随机CNF生成.ipynb Cell 15\u001b[0m in \u001b[0;36mgenerator\u001b[0;34m(n, k)\u001b[0m\n\u001b[1;32m     <a href='vscode-notebook-cell://ssh-remote%2B7b22686f73744e616d65223a224750552d65787465726e616c227d/home/wangrui/quict/%E9%9A%8F%E6%9C%BACNF%E7%94%9F%E6%88%90.ipynb#X20sdnNjb2RlLXJlbW90ZQ%3D%3D?line=72'>73</a>\u001b[0m \u001b[39mdef\u001b[39;00m \u001b[39mgenerator\u001b[39m(n,k):\n\u001b[1;32m     <a href='vscode-notebook-cell://ssh-remote%2B7b22686f73744e616d65223a224750552d65787465726e616c227d/home/wangrui/quict/%E9%9A%8F%E6%9C%BACNF%E7%94%9F%E6%88%90.ipynb#X20sdnNjb2RlLXJlbW90ZQ%3D%3D?line=73'>74</a>\u001b[0m     \u001b[39mfor\u001b[39;00m i \u001b[39min\u001b[39;00m \u001b[39mrange\u001b[39m(\u001b[39m100\u001b[39m):\n\u001b[0;32m---> <a href='vscode-notebook-cell://ssh-remote%2B7b22686f73744e616d65223a224750552d65787465726e616c227d/home/wangrui/quict/%E9%9A%8F%E6%9C%BACNF%E7%94%9F%E6%88%90.ipynb#X20sdnNjb2RlLXJlbW90ZQ%3D%3D?line=74'>75</a>\u001b[0m         rcnf(n,ratio(n,k),k,i)\n",
      "\u001b[1;32m/home/wangrui/quict/随机CNF生成.ipynb Cell 15\u001b[0m in \u001b[0;36mrcnf\u001b[0;34m(n, m, k, num)\u001b[0m\n\u001b[1;32m     <a href='vscode-notebook-cell://ssh-remote%2B7b22686f73744e616d65223a224750552d65787465726e616c227d/home/wangrui/quict/%E9%9A%8F%E6%9C%BACNF%E7%94%9F%E6%88%90.ipynb#X20sdnNjb2RlLXJlbW90ZQ%3D%3D?line=45'>46</a>\u001b[0m \u001b[39mwhile\u001b[39;00m(\u001b[39mTrue\u001b[39;00m):\n\u001b[1;32m     <a href='vscode-notebook-cell://ssh-remote%2B7b22686f73744e616d65223a224750552d65787465726e616c227d/home/wangrui/quict/%E9%9A%8F%E6%9C%BACNF%E7%94%9F%E6%88%90.ipynb#X20sdnNjb2RlLXJlbW90ZQ%3D%3D?line=46'>47</a>\u001b[0m     new \u001b[39m=\u001b[39m rclause(n,k)\n\u001b[0;32m---> <a href='vscode-notebook-cell://ssh-remote%2B7b22686f73744e616d65223a224750552d65787465726e616c227d/home/wangrui/quict/%E9%9A%8F%E6%9C%BACNF%E7%94%9F%E6%88%90.ipynb#X20sdnNjb2RlLXJlbW90ZQ%3D%3D?line=47'>48</a>\u001b[0m     nice \u001b[39m=\u001b[39m check(cnf,new)\n\u001b[1;32m     <a href='vscode-notebook-cell://ssh-remote%2B7b22686f73744e616d65223a224750552d65787465726e616c227d/home/wangrui/quict/%E9%9A%8F%E6%9C%BACNF%E7%94%9F%E6%88%90.ipynb#X20sdnNjb2RlLXJlbW90ZQ%3D%3D?line=48'>49</a>\u001b[0m     \u001b[39mif\u001b[39;00m \u001b[39m0\u001b[39m \u001b[39m==\u001b[39m nice:\n\u001b[1;32m     <a href='vscode-notebook-cell://ssh-remote%2B7b22686f73744e616d65223a224750552d65787465726e616c227d/home/wangrui/quict/%E9%9A%8F%E6%9C%BACNF%E7%94%9F%E6%88%90.ipynb#X20sdnNjb2RlLXJlbW90ZQ%3D%3D?line=49'>50</a>\u001b[0m         \u001b[39mcontinue\u001b[39;00m\n",
      "\u001b[1;32m/home/wangrui/quict/随机CNF生成.ipynb Cell 15\u001b[0m in \u001b[0;36mcheck\u001b[0;34m(cnf, new)\u001b[0m\n\u001b[1;32m     <a href='vscode-notebook-cell://ssh-remote%2B7b22686f73744e616d65223a224750552d65787465726e616c227d/home/wangrui/quict/%E9%9A%8F%E6%9C%BACNF%E7%94%9F%E6%88%90.ipynb#X20sdnNjb2RlLXJlbW90ZQ%3D%3D?line=32'>33</a>\u001b[0m     \u001b[39mreturn\u001b[39;00m \u001b[39m-\u001b[39m\u001b[39m1\u001b[39m\n\u001b[1;32m     <a href='vscode-notebook-cell://ssh-remote%2B7b22686f73744e616d65223a224750552d65787465726e616c227d/home/wangrui/quict/%E9%9A%8F%E6%9C%BACNF%E7%94%9F%E6%88%90.ipynb#X20sdnNjb2RlLXJlbW90ZQ%3D%3D?line=33'>34</a>\u001b[0m temp \u001b[39m=\u001b[39m \u001b[39m1\u001b[39m\n\u001b[0;32m---> <a href='vscode-notebook-cell://ssh-remote%2B7b22686f73744e616d65223a224750552d65787465726e616c227d/home/wangrui/quict/%E9%9A%8F%E6%9C%BACNF%E7%94%9F%E6%88%90.ipynb#X20sdnNjb2RlLXJlbW90ZQ%3D%3D?line=34'>35</a>\u001b[0m \u001b[39mfor\u001b[39;00m j \u001b[39min\u001b[39;00m \u001b[39mrange\u001b[39;49m(\u001b[39mlen\u001b[39;49m(new)):\n\u001b[1;32m     <a href='vscode-notebook-cell://ssh-remote%2B7b22686f73744e616d65223a224750552d65787465726e616c227d/home/wangrui/quict/%E9%9A%8F%E6%9C%BACNF%E7%94%9F%E6%88%90.ipynb#X20sdnNjb2RlLXJlbW90ZQ%3D%3D?line=35'>36</a>\u001b[0m     \u001b[39mif\u001b[39;00m cnf[i][j] \u001b[39m!=\u001b[39m new[j]:\n\u001b[1;32m     <a href='vscode-notebook-cell://ssh-remote%2B7b22686f73744e616d65223a224750552d65787465726e616c227d/home/wangrui/quict/%E9%9A%8F%E6%9C%BACNF%E7%94%9F%E6%88%90.ipynb#X20sdnNjb2RlLXJlbW90ZQ%3D%3D?line=36'>37</a>\u001b[0m         temp \u001b[39m=\u001b[39m \u001b[39m0\u001b[39m\n",
      "\u001b[0;31mKeyboardInterrupt\u001b[0m: "
     ]
    }
   ],
   "source": [
    "generator(400,4)"
   ]
  },
  {
   "cell_type": "code",
   "execution_count": 6,
   "metadata": {},
   "outputs": [],
   "source": [
    "generator(800,4)"
   ]
  },
  {
   "cell_type": "code",
   "execution_count": 3,
   "metadata": {},
   "outputs": [],
   "source": [
    "n=1000\n",
    "k=4\n",
    "for i in range(39,100):\n",
    "    rcnf(n,ratio(n,k),k,i)"
   ]
  },
  {
   "cell_type": "code",
   "execution_count": 7,
   "metadata": {},
   "outputs": [],
   "source": [
    "generator(400,5)"
   ]
  },
  {
   "cell_type": "code",
   "execution_count": 8,
   "metadata": {},
   "outputs": [],
   "source": [
    "generator(800,5)"
   ]
  },
  {
   "cell_type": "code",
   "execution_count": null,
   "metadata": {},
   "outputs": [],
   "source": []
  },
  {
   "cell_type": "code",
   "execution_count": null,
   "metadata": {},
   "outputs": [],
   "source": []
  },
  {
   "cell_type": "code",
   "execution_count": null,
   "metadata": {},
   "outputs": [],
   "source": []
  }
 ],
 "metadata": {
  "kernelspec": {
   "display_name": "Python 3.8.5 ('env_gpu')",
   "language": "python",
   "name": "python3"
  },
  "language_info": {
   "codemirror_mode": {
    "name": "ipython",
    "version": 3
   },
   "file_extension": ".py",
   "mimetype": "text/x-python",
   "name": "python",
   "nbconvert_exporter": "python",
   "pygments_lexer": "ipython3",
   "version": "3.8.13"
  },
  "vscode": {
   "interpreter": {
    "hash": "4a1e0e3fbb4a86ec8d569c9e53e8dc7148a48665ce3c2fe7df7a9692830ccbbf"
   }
  }
 },
 "nbformat": 4,
 "nbformat_minor": 4
}
